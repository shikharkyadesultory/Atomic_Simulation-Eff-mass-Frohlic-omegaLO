{
  "nbformat": 4,
  "nbformat_minor": 0,
  "metadata": {
    "colab": {
      "provenance": [],
      "authorship_tag": "ABX9TyMryqiIuTqhMeMRmhRfr6lG",
      "include_colab_link": true
    },
    "kernelspec": {
      "name": "python3",
      "display_name": "Python 3"
    },
    "language_info": {
      "name": "python"
    }
  },
  "cells": [
    {
      "cell_type": "markdown",
      "metadata": {
        "id": "view-in-github",
        "colab_type": "text"
      },
      "source": [
        "<a href=\"https://colab.research.google.com/github/shikharkyadesultory/Atomic_Simulation-Eff-mass-Frohlic-omegaLO/blob/main/Neuromorphic_Computing.ipynb\" target=\"_parent\"><img src=\"https://colab.research.google.com/assets/colab-badge.svg\" alt=\"Open In Colab\"/></a>"
      ]
    },
    {
      "cell_type": "code",
      "execution_count": 1,
      "metadata": {
        "id": "yQmhOEKuElLD",
        "colab": {
          "base_uri": "https://localhost:8080/"
        },
        "outputId": "5fd5bce6-8720-4aea-e7d7-83d7052f42ee"
      },
      "outputs": [
        {
          "output_type": "stream",
          "name": "stdout",
          "text": [
            "Collecting ase\n",
            "  Downloading ase-3.25.0-py3-none-any.whl.metadata (4.2 kB)\n",
            "Requirement already satisfied: numpy>=1.19.5 in /usr/local/lib/python3.11/dist-packages (from ase) (2.0.2)\n",
            "Requirement already satisfied: scipy>=1.6.0 in /usr/local/lib/python3.11/dist-packages (from ase) (1.15.3)\n",
            "Requirement already satisfied: matplotlib>=3.3.4 in /usr/local/lib/python3.11/dist-packages (from ase) (3.10.0)\n",
            "Requirement already satisfied: contourpy>=1.0.1 in /usr/local/lib/python3.11/dist-packages (from matplotlib>=3.3.4->ase) (1.3.2)\n",
            "Requirement already satisfied: cycler>=0.10 in /usr/local/lib/python3.11/dist-packages (from matplotlib>=3.3.4->ase) (0.12.1)\n",
            "Requirement already satisfied: fonttools>=4.22.0 in /usr/local/lib/python3.11/dist-packages (from matplotlib>=3.3.4->ase) (4.58.4)\n",
            "Requirement already satisfied: kiwisolver>=1.3.1 in /usr/local/lib/python3.11/dist-packages (from matplotlib>=3.3.4->ase) (1.4.8)\n",
            "Requirement already satisfied: packaging>=20.0 in /usr/local/lib/python3.11/dist-packages (from matplotlib>=3.3.4->ase) (24.2)\n",
            "Requirement already satisfied: pillow>=8 in /usr/local/lib/python3.11/dist-packages (from matplotlib>=3.3.4->ase) (11.2.1)\n",
            "Requirement already satisfied: pyparsing>=2.3.1 in /usr/local/lib/python3.11/dist-packages (from matplotlib>=3.3.4->ase) (3.2.3)\n",
            "Requirement already satisfied: python-dateutil>=2.7 in /usr/local/lib/python3.11/dist-packages (from matplotlib>=3.3.4->ase) (2.9.0.post0)\n",
            "Requirement already satisfied: six>=1.5 in /usr/local/lib/python3.11/dist-packages (from python-dateutil>=2.7->matplotlib>=3.3.4->ase) (1.17.0)\n",
            "Downloading ase-3.25.0-py3-none-any.whl (3.0 MB)\n",
            "\u001b[2K   \u001b[90m━━━━━━━━━━━━━━━━━━━━━━━━━━━━━━━━━━━━━━━━\u001b[0m \u001b[32m3.0/3.0 MB\u001b[0m \u001b[31m20.8 MB/s\u001b[0m eta \u001b[36m0:00:00\u001b[0m\n",
            "\u001b[?25hInstalling collected packages: ase\n",
            "Successfully installed ase-3.25.0\n"
          ]
        }
      ],
      "source": [
        "!pip install ase"
      ]
    },
    {
      "cell_type": "code",
      "source": [
        "!apt-get update\n",
        "!apt-get install -y build-essential libfftw3-dev libxc-dev"
      ],
      "metadata": {
        "colab": {
          "base_uri": "https://localhost:8080/"
        },
        "id": "9z9vVAOjUr7d",
        "outputId": "9dada20b-5dfa-4410-ecc5-02df2e360b59"
      },
      "execution_count": 2,
      "outputs": [
        {
          "output_type": "stream",
          "name": "stdout",
          "text": [
            "Get:1 http://security.ubuntu.com/ubuntu jammy-security InRelease [129 kB]\n",
            "Get:2 https://cloud.r-project.org/bin/linux/ubuntu jammy-cran40/ InRelease [3,632 B]\n",
            "Hit:3 http://archive.ubuntu.com/ubuntu jammy InRelease\n",
            "Hit:4 https://developer.download.nvidia.com/compute/cuda/repos/ubuntu2204/x86_64  InRelease\n",
            "Get:5 https://r2u.stat.illinois.edu/ubuntu jammy InRelease [6,555 B]\n",
            "Get:6 http://archive.ubuntu.com/ubuntu jammy-updates InRelease [128 kB]\n",
            "Hit:7 https://ppa.launchpadcontent.net/deadsnakes/ppa/ubuntu jammy InRelease\n",
            "Hit:8 https://ppa.launchpadcontent.net/graphics-drivers/ppa/ubuntu jammy InRelease\n",
            "Get:9 http://archive.ubuntu.com/ubuntu jammy-backports InRelease [127 kB]\n",
            "Get:10 http://security.ubuntu.com/ubuntu jammy-security/universe amd64 Packages [1,253 kB]\n",
            "Hit:11 https://ppa.launchpadcontent.net/ubuntugis/ppa/ubuntu jammy InRelease\n",
            "Get:12 https://r2u.stat.illinois.edu/ubuntu jammy/main amd64 Packages [2,747 kB]\n",
            "Get:13 https://r2u.stat.illinois.edu/ubuntu jammy/main all Packages [9,050 kB]\n",
            "Get:14 http://archive.ubuntu.com/ubuntu jammy-updates/universe amd64 Packages [1,561 kB]\n",
            "Get:15 http://archive.ubuntu.com/ubuntu jammy-updates/restricted amd64 Packages [4,726 kB]\n",
            "Get:16 http://archive.ubuntu.com/ubuntu jammy-updates/main amd64 Packages [3,347 kB]\n",
            "Fetched 23.1 MB in 3s (6,925 kB/s)\n",
            "Reading package lists... Done\n",
            "W: Skipping acquire of configured file 'main/source/Sources' as repository 'https://r2u.stat.illinois.edu/ubuntu jammy InRelease' does not seem to provide it (sources.list entry misspelt?)\n",
            "Reading package lists... Done\n",
            "Building dependency tree... Done\n",
            "Reading state information... Done\n",
            "build-essential is already the newest version (12.9ubuntu3).\n",
            "The following additional packages will be installed:\n",
            "  libfftw3-bin libfftw3-double3 libfftw3-long3 libfftw3-quad3 libfftw3-single3\n",
            "  libxc9\n",
            "Suggested packages:\n",
            "  libfftw3-doc\n",
            "The following NEW packages will be installed:\n",
            "  libfftw3-bin libfftw3-dev libfftw3-double3 libfftw3-long3 libfftw3-quad3\n",
            "  libfftw3-single3 libxc-dev libxc9\n",
            "0 upgraded, 8 newly installed, 0 to remove and 36 not upgraded.\n",
            "Need to get 16.6 MB of archives.\n",
            "After this operation, 65.9 MB of additional disk space will be used.\n",
            "Get:1 http://archive.ubuntu.com/ubuntu jammy/main amd64 libfftw3-double3 amd64 3.3.8-2ubuntu8 [770 kB]\n",
            "Get:2 http://archive.ubuntu.com/ubuntu jammy/main amd64 libfftw3-long3 amd64 3.3.8-2ubuntu8 [335 kB]\n",
            "Get:3 http://archive.ubuntu.com/ubuntu jammy/main amd64 libfftw3-quad3 amd64 3.3.8-2ubuntu8 [614 kB]\n",
            "Get:4 http://archive.ubuntu.com/ubuntu jammy/main amd64 libfftw3-single3 amd64 3.3.8-2ubuntu8 [800 kB]\n",
            "Get:5 http://archive.ubuntu.com/ubuntu jammy/main amd64 libfftw3-bin amd64 3.3.8-2ubuntu8 [35.5 kB]\n",
            "Get:6 http://archive.ubuntu.com/ubuntu jammy/main amd64 libfftw3-dev amd64 3.3.8-2ubuntu8 [2,101 kB]\n",
            "Get:7 http://archive.ubuntu.com/ubuntu jammy/universe amd64 libxc9 amd64 5.1.7-1ubuntu1 [3,900 kB]\n",
            "Get:8 http://archive.ubuntu.com/ubuntu jammy/universe amd64 libxc-dev amd64 5.1.7-1ubuntu1 [8,038 kB]\n",
            "Fetched 16.6 MB in 1s (31.1 MB/s)\n",
            "Selecting previously unselected package libfftw3-double3:amd64.\n",
            "(Reading database ... 126308 files and directories currently installed.)\n",
            "Preparing to unpack .../0-libfftw3-double3_3.3.8-2ubuntu8_amd64.deb ...\n",
            "Unpacking libfftw3-double3:amd64 (3.3.8-2ubuntu8) ...\n",
            "Selecting previously unselected package libfftw3-long3:amd64.\n",
            "Preparing to unpack .../1-libfftw3-long3_3.3.8-2ubuntu8_amd64.deb ...\n",
            "Unpacking libfftw3-long3:amd64 (3.3.8-2ubuntu8) ...\n",
            "Selecting previously unselected package libfftw3-quad3:amd64.\n",
            "Preparing to unpack .../2-libfftw3-quad3_3.3.8-2ubuntu8_amd64.deb ...\n",
            "Unpacking libfftw3-quad3:amd64 (3.3.8-2ubuntu8) ...\n",
            "Selecting previously unselected package libfftw3-single3:amd64.\n",
            "Preparing to unpack .../3-libfftw3-single3_3.3.8-2ubuntu8_amd64.deb ...\n",
            "Unpacking libfftw3-single3:amd64 (3.3.8-2ubuntu8) ...\n",
            "Selecting previously unselected package libfftw3-bin.\n",
            "Preparing to unpack .../4-libfftw3-bin_3.3.8-2ubuntu8_amd64.deb ...\n",
            "Unpacking libfftw3-bin (3.3.8-2ubuntu8) ...\n",
            "Selecting previously unselected package libfftw3-dev:amd64.\n",
            "Preparing to unpack .../5-libfftw3-dev_3.3.8-2ubuntu8_amd64.deb ...\n",
            "Unpacking libfftw3-dev:amd64 (3.3.8-2ubuntu8) ...\n",
            "Selecting previously unselected package libxc9:amd64.\n",
            "Preparing to unpack .../6-libxc9_5.1.7-1ubuntu1_amd64.deb ...\n",
            "Unpacking libxc9:amd64 (5.1.7-1ubuntu1) ...\n",
            "Selecting previously unselected package libxc-dev.\n",
            "Preparing to unpack .../7-libxc-dev_5.1.7-1ubuntu1_amd64.deb ...\n",
            "Unpacking libxc-dev (5.1.7-1ubuntu1) ...\n",
            "Setting up libfftw3-single3:amd64 (3.3.8-2ubuntu8) ...\n",
            "Setting up libfftw3-long3:amd64 (3.3.8-2ubuntu8) ...\n",
            "Setting up libfftw3-quad3:amd64 (3.3.8-2ubuntu8) ...\n",
            "Setting up libfftw3-double3:amd64 (3.3.8-2ubuntu8) ...\n",
            "Setting up libxc9:amd64 (5.1.7-1ubuntu1) ...\n",
            "Setting up libfftw3-bin (3.3.8-2ubuntu8) ...\n",
            "Setting up libxc-dev (5.1.7-1ubuntu1) ...\n",
            "Setting up libfftw3-dev:amd64 (3.3.8-2ubuntu8) ...\n",
            "Processing triggers for man-db (2.10.2-1) ...\n",
            "Processing triggers for libc-bin (2.35-0ubuntu3.8) ...\n",
            "/sbin/ldconfig.real: /usr/local/lib/libhwloc.so.15 is not a symbolic link\n",
            "\n",
            "/sbin/ldconfig.real: /usr/local/lib/libumf.so.0 is not a symbolic link\n",
            "\n",
            "/sbin/ldconfig.real: /usr/local/lib/libtbb.so.12 is not a symbolic link\n",
            "\n",
            "/sbin/ldconfig.real: /usr/local/lib/libtbbbind.so.3 is not a symbolic link\n",
            "\n",
            "/sbin/ldconfig.real: /usr/local/lib/libur_adapter_opencl.so.0 is not a symbolic link\n",
            "\n",
            "/sbin/ldconfig.real: /usr/local/lib/libtbbbind_2_5.so.3 is not a symbolic link\n",
            "\n",
            "/sbin/ldconfig.real: /usr/local/lib/libtbbbind_2_0.so.3 is not a symbolic link\n",
            "\n",
            "/sbin/ldconfig.real: /usr/local/lib/libtbbmalloc.so.2 is not a symbolic link\n",
            "\n",
            "/sbin/ldconfig.real: /usr/local/lib/libur_loader.so.0 is not a symbolic link\n",
            "\n",
            "/sbin/ldconfig.real: /usr/local/lib/libur_adapter_level_zero.so.0 is not a symbolic link\n",
            "\n",
            "/sbin/ldconfig.real: /usr/local/lib/libtcm_debug.so.1 is not a symbolic link\n",
            "\n",
            "/sbin/ldconfig.real: /usr/local/lib/libtcm.so.1 is not a symbolic link\n",
            "\n",
            "/sbin/ldconfig.real: /usr/local/lib/libtbbmalloc_proxy.so.2 is not a symbolic link\n",
            "\n"
          ]
        }
      ]
    },
    {
      "cell_type": "code",
      "source": [
        "import sys\n",
        "print(sys.path)"
      ],
      "metadata": {
        "colab": {
          "base_uri": "https://localhost:8080/"
        },
        "id": "_ArItdrEUr-F",
        "outputId": "7b003055-0990-4cb0-c93c-12630ab72b46"
      },
      "execution_count": 3,
      "outputs": [
        {
          "output_type": "stream",
          "name": "stdout",
          "text": [
            "['/content', '/env/python', '/usr/lib/python311.zip', '/usr/lib/python3.11', '/usr/lib/python3.11/lib-dynload', '', '/usr/local/lib/python3.11/dist-packages', '/usr/lib/python3/dist-packages', '/usr/local/lib/python3.11/dist-packages/IPython/extensions', '/usr/local/lib/python3.11/dist-packages/setuptools/_vendor', '/root/.ipython']\n"
          ]
        }
      ]
    },
    {
      "cell_type": "code",
      "source": [
        "!pip3 install gpaw"
      ],
      "metadata": {
        "colab": {
          "base_uri": "https://localhost:8080/"
        },
        "id": "O991mniHUsAh",
        "outputId": "c15e77d3-d748-4798-cf8d-f72472d48652"
      },
      "execution_count": 4,
      "outputs": [
        {
          "output_type": "stream",
          "name": "stdout",
          "text": [
            "Collecting gpaw\n",
            "  Downloading gpaw-25.1.0.tar.gz (2.0 MB)\n",
            "\u001b[?25l     \u001b[90m━━━━━━━━━━━━━━━━━━━━━━━━━━━━━━━━━━━━━━━━\u001b[0m \u001b[32m0.0/2.0 MB\u001b[0m \u001b[31m?\u001b[0m eta \u001b[36m-:--:--\u001b[0m\r\u001b[2K     \u001b[91m━━━\u001b[0m\u001b[90m╺\u001b[0m\u001b[90m━━━━━━━━━━━━━━━━━━━━━━━━━━━━━━━━━━━━\u001b[0m \u001b[32m0.2/2.0 MB\u001b[0m \u001b[31m4.3 MB/s\u001b[0m eta \u001b[36m0:00:01\u001b[0m\r\u001b[2K     \u001b[91m━━━━━━━━━━━━━━━━━━━━━━━\u001b[0m\u001b[91m╸\u001b[0m\u001b[90m━━━━━━━━━━━━━━━━\u001b[0m \u001b[32m1.2/2.0 MB\u001b[0m \u001b[31m18.9 MB/s\u001b[0m eta \u001b[36m0:00:01\u001b[0m\r\u001b[2K     \u001b[90m━━━━━━━━━━━━━━━━━━━━━━━━━━━━━━━━━━━━━━━━\u001b[0m \u001b[32m2.0/2.0 MB\u001b[0m \u001b[31m21.4 MB/s\u001b[0m eta \u001b[36m0:00:00\u001b[0m\n",
            "\u001b[?25h  Preparing metadata (setup.py) ... \u001b[?25l\u001b[?25hdone\n",
            "Requirement already satisfied: ase>=3.23.0 in /usr/local/lib/python3.11/dist-packages (from gpaw) (3.25.0)\n",
            "Requirement already satisfied: numpy in /usr/local/lib/python3.11/dist-packages (from gpaw) (2.0.2)\n",
            "Requirement already satisfied: scipy>=1.6.0 in /usr/local/lib/python3.11/dist-packages (from gpaw) (1.15.3)\n",
            "Requirement already satisfied: matplotlib>=3.3.4 in /usr/local/lib/python3.11/dist-packages (from ase>=3.23.0->gpaw) (3.10.0)\n",
            "Requirement already satisfied: contourpy>=1.0.1 in /usr/local/lib/python3.11/dist-packages (from matplotlib>=3.3.4->ase>=3.23.0->gpaw) (1.3.2)\n",
            "Requirement already satisfied: cycler>=0.10 in /usr/local/lib/python3.11/dist-packages (from matplotlib>=3.3.4->ase>=3.23.0->gpaw) (0.12.1)\n",
            "Requirement already satisfied: fonttools>=4.22.0 in /usr/local/lib/python3.11/dist-packages (from matplotlib>=3.3.4->ase>=3.23.0->gpaw) (4.58.4)\n",
            "Requirement already satisfied: kiwisolver>=1.3.1 in /usr/local/lib/python3.11/dist-packages (from matplotlib>=3.3.4->ase>=3.23.0->gpaw) (1.4.8)\n",
            "Requirement already satisfied: packaging>=20.0 in /usr/local/lib/python3.11/dist-packages (from matplotlib>=3.3.4->ase>=3.23.0->gpaw) (24.2)\n",
            "Requirement already satisfied: pillow>=8 in /usr/local/lib/python3.11/dist-packages (from matplotlib>=3.3.4->ase>=3.23.0->gpaw) (11.2.1)\n",
            "Requirement already satisfied: pyparsing>=2.3.1 in /usr/local/lib/python3.11/dist-packages (from matplotlib>=3.3.4->ase>=3.23.0->gpaw) (3.2.3)\n",
            "Requirement already satisfied: python-dateutil>=2.7 in /usr/local/lib/python3.11/dist-packages (from matplotlib>=3.3.4->ase>=3.23.0->gpaw) (2.9.0.post0)\n",
            "Requirement already satisfied: six>=1.5 in /usr/local/lib/python3.11/dist-packages (from python-dateutil>=2.7->matplotlib>=3.3.4->ase>=3.23.0->gpaw) (1.17.0)\n",
            "Building wheels for collected packages: gpaw\n",
            "  Building wheel for gpaw (setup.py) ... \u001b[?25l\u001b[?25hdone\n",
            "  Created wheel for gpaw: filename=gpaw-25.1.0-cp311-cp311-linux_x86_64.whl size=2822227 sha256=8404bf9d75359aa4492c3e228fa510419ad836ff3b206f071e88e35965e0d305\n",
            "  Stored in directory: /root/.cache/pip/wheels/f5/1e/05/db6758eab2e82f997345fec978af4684e2d16eb1913e4769db\n",
            "Successfully built gpaw\n",
            "Installing collected packages: gpaw\n",
            "Successfully installed gpaw-25.1.0\n"
          ]
        }
      ]
    },
    {
      "cell_type": "code",
      "source": [
        "import sys\n",
        "!{sys.executable} -m pip install --upgrade --no-cache-dir --prefix /usr/local gpaw"
      ],
      "metadata": {
        "colab": {
          "base_uri": "https://localhost:8080/"
        },
        "id": "WQTZ7gTYUsCk",
        "outputId": "5705e808-1bb3-407d-b16e-f569c4cfb9c6"
      },
      "execution_count": 5,
      "outputs": [
        {
          "output_type": "stream",
          "name": "stdout",
          "text": [
            "Requirement already satisfied: gpaw in /usr/local/lib/python3.11/dist-packages (25.1.0)\n",
            "Requirement already satisfied: ase>=3.23.0 in /usr/local/lib/python3.11/dist-packages (from gpaw) (3.25.0)\n",
            "Requirement already satisfied: numpy in /usr/local/lib/python3.11/dist-packages (from gpaw) (2.0.2)\n",
            "Requirement already satisfied: scipy>=1.6.0 in /usr/local/lib/python3.11/dist-packages (from gpaw) (1.15.3)\n",
            "Requirement already satisfied: matplotlib>=3.3.4 in /usr/local/lib/python3.11/dist-packages (from ase>=3.23.0->gpaw) (3.10.0)\n",
            "Requirement already satisfied: contourpy>=1.0.1 in /usr/local/lib/python3.11/dist-packages (from matplotlib>=3.3.4->ase>=3.23.0->gpaw) (1.3.2)\n",
            "Requirement already satisfied: cycler>=0.10 in /usr/local/lib/python3.11/dist-packages (from matplotlib>=3.3.4->ase>=3.23.0->gpaw) (0.12.1)\n",
            "Requirement already satisfied: fonttools>=4.22.0 in /usr/local/lib/python3.11/dist-packages (from matplotlib>=3.3.4->ase>=3.23.0->gpaw) (4.58.4)\n",
            "Requirement already satisfied: kiwisolver>=1.3.1 in /usr/local/lib/python3.11/dist-packages (from matplotlib>=3.3.4->ase>=3.23.0->gpaw) (1.4.8)\n",
            "Requirement already satisfied: packaging>=20.0 in /usr/local/lib/python3.11/dist-packages (from matplotlib>=3.3.4->ase>=3.23.0->gpaw) (24.2)\n",
            "Requirement already satisfied: pillow>=8 in /usr/local/lib/python3.11/dist-packages (from matplotlib>=3.3.4->ase>=3.23.0->gpaw) (11.2.1)\n",
            "Requirement already satisfied: pyparsing>=2.3.1 in /usr/local/lib/python3.11/dist-packages (from matplotlib>=3.3.4->ase>=3.23.0->gpaw) (3.2.3)\n",
            "Requirement already satisfied: python-dateutil>=2.7 in /usr/local/lib/python3.11/dist-packages (from matplotlib>=3.3.4->ase>=3.23.0->gpaw) (2.9.0.post0)\n",
            "Requirement already satisfied: six>=1.5 in /usr/local/lib/python3.11/dist-packages (from python-dateutil>=2.7->matplotlib>=3.3.4->ase>=3.23.0->gpaw) (1.17.0)\n"
          ]
        }
      ]
    },
    {
      "cell_type": "code",
      "source": [
        "!which gpaw"
      ],
      "metadata": {
        "colab": {
          "base_uri": "https://localhost:8080/"
        },
        "id": "hHuBqnYuUsEr",
        "outputId": "ac7e49e2-ea2f-430d-d6dc-80e87517fdc4"
      },
      "execution_count": 6,
      "outputs": [
        {
          "output_type": "stream",
          "name": "stdout",
          "text": [
            "/usr/local/bin/gpaw\n"
          ]
        }
      ]
    },
    {
      "cell_type": "code",
      "source": [
        "import sys\n",
        "import os\n",
        "import subprocess\n",
        "\n",
        "# Find gpaw using which command\n",
        "try:\n",
        "    gpaw_exec = subprocess.check_output(['which', 'gpaw']).decode().strip()\n",
        "except subprocess.CalledProcessError:\n",
        "    raise FileNotFoundError(\"Could not locate the gpaw executable. \"\n",
        "                            \"Please make sure gpaw is installed and in your PATH.\")\n",
        "gpaw_data_dir = '/usr/local/lib/python3/dist-packages/gpaw/data'\n",
        "\n",
        "# Create the directories if they don't exist:\n",
        "os.makedirs(gpaw_data_dir, exist_ok=True)\n",
        "\n",
        "!{gpaw_exec} install-data {gpaw_data_dir}"
      ],
      "metadata": {
        "colab": {
          "base_uri": "https://localhost:8080/"
        },
        "id": "8Rb2QRB1UsHT",
        "outputId": "16eaa0d8-0676-48a8-82aa-1123b12c838c"
      },
      "execution_count": 7,
      "outputs": [
        {
          "output_type": "stream",
          "name": "stdout",
          "text": [
            "Available setups and pseudopotentials\n",
            "  [*] https://wiki.fysik.dtu.dk/gpaw-files/gpaw-setups-24.11.0.tar.gz\n",
            "      https://wiki.fysik.dtu.dk/gpaw-files/gpaw-setups-24.1.0.tar.gz\n",
            "      https://wiki.fysik.dtu.dk/gpaw-files/gpaw-setups-0.9.20000.tar.gz\n",
            "      https://wiki.fysik.dtu.dk/gpaw-files/gpaw-setups-0.9.11271.tar.gz\n",
            "      https://wiki.fysik.dtu.dk/gpaw-files/gpaw-setups-0.9.9672.tar.gz\n",
            "      https://wiki.fysik.dtu.dk/gpaw-files/gpaw-setups-0.8.7929.tar.gz\n",
            "      https://wiki.fysik.dtu.dk/gpaw-files/gpaw-setups-0.6.6300.tar.gz\n",
            "      https://wiki.fysik.dtu.dk/gpaw-files/gpaw-setups-0.5.3574.tar.gz\n",
            "\n",
            "Selected gpaw-setups-24.11.0.tar.gz.  Downloading...\n",
            "Extracting tarball into /usr/local/lib/python3/dist-packages/gpaw/data\n",
            "Setups installed into /usr/local/lib/python3/dist-packages/gpaw/data/gpaw-setups-24.11.0.\n",
            "Register this setup path in /root/.gpaw/rc.py? [y/n] y\n",
            "Setup path registered in /root/.gpaw/rc.py.\n",
            "Current GPAW setup paths in order of search priority:\n",
            "   1. /usr/local/lib/python3/dist-packages/gpaw/data/gpaw-setups-24.11.0\n",
            "Installation complete.\n"
          ]
        }
      ]
    },
    {
      "cell_type": "code",
      "source": [
        "!gpaw info"
      ],
      "metadata": {
        "colab": {
          "base_uri": "https://localhost:8080/"
        },
        "id": "RjwBXwXIUsKp",
        "outputId": "e30782af-1731-431d-d0bd-bdd8adb89143"
      },
      "execution_count": 8,
      "outputs": [
        {
          "output_type": "stream",
          "name": "stdout",
          "text": [
            " -------------------------------------------------------------------------------------------------\n",
            "| python-3.11.13    /usr/bin/python3                                                              |\n",
            "| gpaw-25.1.0       /usr/local/lib/python3.11/dist-packages/gpaw/                                 |\n",
            "| ase-3.25.0        /usr/local/lib/python3.11/dist-packages/ase/                                  |\n",
            "| numpy-2.0.2       /usr/local/lib/python3.11/dist-packages/numpy/                                |\n",
            "| scipy-1.15.3      /usr/local/lib/python3.11/dist-packages/scipy/                                |\n",
            "| libxc-5.1.7       yes                                                                           |\n",
            "| _gpaw             /usr/local/lib/python3.11/dist-packages/_gpaw.cpython-311-x86_64-linux-gnu.so |\n",
            "| MPI enabled       yes                                                                           |\n",
            "| OpenMP enabled    no                                                                            |\n",
            "| GPU enabled       no                                                                            |\n",
            "| GPU-aware MPI     no                                                                            |\n",
            "| cupy-fake         /usr/local/lib/python3.11/dist-packages/gpaw/gpu/cpupy/__init__.py            |\n",
            "| scalapack         no                                                                            |\n",
            "| Elpa              no                                                                            |\n",
            "| FFTW              no                                                                            |\n",
            "| libvdwxc          no                                                                            |\n",
            "| PAW-datasets (1)  /usr/local/lib/python3/dist-packages/gpaw/data/gpaw-setups-24.11.0            |\n",
            " -------------------------------------------------------------------------------------------------\n"
          ]
        }
      ]
    },
    {
      "cell_type": "code",
      "source": [
        "!pip install --q ase gpaw\n",
        "\n",
        "!wget -q https://wiki.fysik.dtu.dk/gpaw-files/gpaw-setups-24.11.0.tar.gz\n",
        "!tar -xzf gpaw-setups-24.11.0.tar.gz"
      ],
      "metadata": {
        "id": "iNU4XyAXVHDY"
      },
      "execution_count": 9,
      "outputs": []
    },
    {
      "cell_type": "code",
      "source": [
        "import os\n",
        "os.environ[\"GPAW_SETUP_PATH\"] = \"/content/gpaw-setups-24.11.0\""
      ],
      "metadata": {
        "id": "0xZylDLXVHG4"
      },
      "execution_count": 10,
      "outputs": []
    },
    {
      "cell_type": "markdown",
      "source": [
        "**GPAW Code for 1D Halide Perovskite Sandwiched between PMMA and PEDOT:PSS**"
      ],
      "metadata": {
        "id": "l556rs5PVyKt"
      }
    },
    {
      "cell_type": "markdown",
      "source": [
        "**Configuration ultimatum :-**\n",
        "* **Ag/PMMA/HP/PEDOT:PSS/ITO**\n",
        "* **PMMA : Poly (Methyl Methacrylate)**\n",
        "* **PEDOT:PSS : Poly(3,4 -ethylenedioxythiopene) :Polystyrene sulfonate**\n",
        "* **ITO : Indium Tin Oxide**\n",
        "* **The additional snadwich layer is offered to avoid undesirable electrochemical metalization reaction with Ag**"
      ],
      "metadata": {
        "id": "NLwMRLb-V9pq"
      }
    },
    {
      "cell_type": "code",
      "source": [
        "!pip install ase.occupations"
      ],
      "metadata": {
        "colab": {
          "base_uri": "https://localhost:8080/"
        },
        "id": "lyaP4SiIDotd",
        "outputId": "d48e4167-ffcc-4bd3-aebc-b3868b6ea979"
      },
      "execution_count": 22,
      "outputs": [
        {
          "output_type": "stream",
          "name": "stdout",
          "text": [
            "\u001b[31mERROR: Could not find a version that satisfies the requirement ase.occupations (from versions: none)\u001b[0m\u001b[31m\n",
            "\u001b[0m\u001b[31mERROR: No matching distribution found for ase.occupations\u001b[0m\u001b[31m\n",
            "\u001b[0m"
          ]
        }
      ]
    },
    {
      "cell_type": "code",
      "source": [
        "from ase import Atoms\n",
        "from ase.build import molecule\n",
        "from gpaw import GPAW, PW , FermiDirac\n",
        "from ase.optimize import LBFGS\n",
        "from ase.visualize import view\n",
        "import numpy as np\n",
        "from ase.build import bulk\n",
        "# from ase.occupations import FermiDirac\n",
        "\n",
        "\n",
        "def create_propylpyridinium():\n",
        "    pyridine = molecule('C5H5N')\n",
        "    propyl = Atoms('CCC', positions=[\n",
        "        [0.0, 0.0, 0.0],\n",
        "        [1.53, 0.0, 0.0],\n",
        "        [3.06, 0.0, 0.0]\n",
        "    ])\n",
        "    pyridine.rotate(90, 'x')\n",
        "    pyridine.translate([3.06, 0.0, 1.4])\n",
        "    cation = propyl + pyridine\n",
        "    cation.append('H')\n",
        "    cation.positions[-1] = [3.06, 0.0, -0.9]\n",
        "    return cation\n",
        "\n",
        "def create_pbi3_chain(length=3):\n",
        "    a = 3.2\n",
        "    positions = []\n",
        "    symbols = []\n",
        "    for i in range(length):\n",
        "        positions.append([i * a * 2, 0, 0])\n",
        "        symbols.append('Pb')\n",
        "        positions.append([i * a * 2, a, 0])\n",
        "        positions.append([i * a * 2, -a, 0])\n",
        "        positions.append([i * a * 2 + a, 0, 0])\n",
        "        symbols += ['I'] * 3\n",
        "    return Atoms(symbols=symbols, positions=positions)\n",
        "\n",
        "def create_1d_hybrid(length=3):\n",
        "    \"\"\"Create 1D hybrid perovskite structure\"\"\"\n",
        "    cation = create_propylpyridinium()\n",
        "    anion = create_pbi3_chain(length)\n",
        "\n",
        "    anion.center(vacuum=5, axis=1)\n",
        "    anion.center(vacuum=5, axis=2)\n",
        "\n",
        "    cations = cation.copy()\n",
        "    for i in range(1, length):\n",
        "        new_cation = cation.copy()\n",
        "        new_cation.translate([i * 6.4, 0, 0])\n",
        "        cations += new_cation\n",
        "\n",
        "    cations.translate([-3.0, 5.0, 0])\n",
        "\n",
        "    system = anion + cations\n",
        "\n",
        "    cell = system.get_cell()\n",
        "    cell[1,1] = 20\n",
        "    cell[2,2] = 20\n",
        "    system.set_cell(cell)\n",
        "    system.set_pbc([True, False, False])\n",
        "\n",
        "    return system\n",
        "\n",
        "def create_pmma_segment(repeat_units=3):\n",
        "    # Basic MMA monomer unit\n",
        "    mma = Atoms('C5O2H8', positions=[\n",
        "        [0.00, 0.00, 0.00],  # C1\n",
        "        [1.50, 0.00, 0.00],  # C2\n",
        "        [2.30, 1.40, 0.00],  # C3\n",
        "        [1.50, 2.80, 0.00],  # C4\n",
        "        [0.00, 2.80, 0.00],   # C5\n",
        "        [2.30, -0.90, 0.00], # O1\n",
        "        [3.60, 1.40, 0.00],   # O2\n",
        "        [-0.90, -0.50, 0.00], # H1\n",
        "        [0.90, -0.50, 0.00],  # H2\n",
        "        [3.00, 2.30, 0.00],   # H3\n",
        "        [2.00, 3.70, 0.00],   # H4\n",
        "        [-0.90, 3.70, 0.00],  # H5\n",
        "        [0.90, 3.70, 0.00],   # H6\n",
        "        [4.30, 0.90, 0.00],   # H7\n",
        "        [4.30, 1.90, 0.00]    # H8\n",
        "    ])\n",
        "\n",
        "    # Create polymer chain\n",
        "    pmma = mma.copy()\n",
        "    for i in range(1, repeat_units):\n",
        "        new_mma = mma.copy()\n",
        "        new_mma.translate([i * 2.80, 0, 0])\n",
        "        pmma += new_mma\n",
        "\n",
        "    return pmma\n",
        "\n",
        "def create_pedot_pss_segment(repeat_units=3, sulfonation_degree = 0.33):\n",
        "    edot = Atoms('C6O2S1H8', positions=[\n",
        "        [0.00, 0.00, 0.00],  # S\n",
        "        [1.40, 1.40, 0.00],   # C1\n",
        "        [2.80, 0.00, 0.00],   # C2\n",
        "        [4.20, 1.40, 0.00],   # C3\n",
        "        [5.60, 0.00, 0.00],   # C4\n",
        "        [1.40, -1.40, 0.00], # C5\n",
        "        [4.20, -1.40, 0.00],  # C6\n",
        "        [2.80, 2.80, 0.00],   # O1\n",
        "        [5.60, 2.80, 0.00],   # O2\n",
        "        [0.00, -2.00, 0.00],  # H1 (on S)\n",
        "        [1.40, 2.40, 0.00],   # H2\n",
        "        [2.80, -1.40, 0.00],  # H3\n",
        "        [4.20, 2.40, 0.00],   # H4\n",
        "        [5.60, -1.40, 0.00],  # H5\n",
        "        [1.40, -2.40, 0.00],  # H6\n",
        "        [4.20, -2.40, 0.00],  # H7\n",
        "        [6.60, 0.00, 0.00]    # H8\n",
        "    ])\n",
        "\n",
        "    styrene = Atoms('C8H8', positions=[\n",
        "        [0.0, 0.0, 0.0],    # Backbone C1\n",
        "        [1.4, 0.0, 0.0],     # Backbone C2\n",
        "        [2.1, 1.4, 0.0],     # Phenyl C1\n",
        "        [3.5, 1.4, 0.0],     # Phenyl C2\n",
        "        [4.2, 0.0, 0.0],     # Phenyl C3\n",
        "        [3.5, -1.4, 0.0],    # Phenyl C4\n",
        "        [2.1, -1.4, 0.0],    # Phenyl C5\n",
        "        [1.4, 0.0, 1.4],     # Phenyl C6 (ortho position)\n",
        "        [0.0, -1.0, 0.0],    # H on backbone\n",
        "        [2.8, 2.1, 0.0],     # H on phenyl\n",
        "        [4.9, 2.1, 0.0],     # H on phenyl\n",
        "        [5.6, 0.0, 0.0],     # H on phenyl\n",
        "        [4.9, -2.1, 0.0],    # H on phenyl\n",
        "        [2.8, -2.1, 0.0],    # H on phenyl\n",
        "        [1.4, 0.0, 2.1],     # H on phenyl\n",
        "        [0.0, 1.0, 0.0]      # H on backbone\n",
        "    ])\n",
        "\n",
        "    # Sulfonated styrene unit\n",
        "    sulfonated_styrene = styrene.copy()\n",
        "    # Replace H at para position with SO3- group\n",
        "    sulfonated_styrene += Atoms('SO3', positions=[\n",
        "        [4.2, 0.0, -1.4],   # S attached to phenyl\n",
        "        [5.2, 0.0, -1.4],   # O1\n",
        "        [3.7, 1.0, -1.4],   # O2\n",
        "        [3.7, -1.0, -1.4]   # O3\n",
        "    ])\n",
        "\n",
        "    del sulfonated_styrene[[11]]\n",
        "\n",
        "    # Create PSS chain\n",
        "    pss = Atoms()\n",
        "    for i in range(repeat_units):\n",
        "        if np.random.random() < sulfonation_degree:\n",
        "            unit = sulfonated_styrene.copy()\n",
        "        else:\n",
        "            unit = styrene.copy()\n",
        "        unit.translate([i * 4.2, 0, 0])\n",
        "        pss += unit\n",
        "\n",
        "    # Combine PEDOT and PSS\n",
        "    pedot_pss = edot.copy()\n",
        "    pedot_pss.translate([0, 5, 0])\n",
        "\n",
        "    # Replicate and combine\n",
        "    for i in range(repeat_units):\n",
        "        new_edot = edot.copy()\n",
        "        new_pss = pss.copy()\n",
        "        new_edot.translate([i * 7.0, 5, 0])\n",
        "        new_pss.translate([i * 4.2, 0, 0])\n",
        "        pedot_pss += new_edot + new_pss\n",
        "\n",
        "    return pedot_pss\n",
        "\n",
        "def create_ito_slab(size=(2, 2, 3), vacuum=10):\n",
        "    \"\"\"Create a placeholder slab for ITO.\"\"\"\n",
        "    # This is a placeholder. A proper ITO bixbyite structure\n",
        "    # would need to be defined explicitly.\n",
        "    # For demonstration, creating a simple In slab.\n",
        "    ito = bulk('In', 'fcc', a=4.05) # Using In as a placeholder\n",
        "    slab = ito.repeat(size)\n",
        "    slab.center(vacuum=vacuum, axis=2)  # Add vacuum along z-axis\n",
        "    return slab\n",
        "\n",
        "\n",
        "def create_ag_slab(size=(3, 3, 3), vacuum=10):\n",
        "    \"\"\"Create Ag (111) slab\"\"\"\n",
        "    ag = bulk('Ag', 'fcc', a=4.09)\n",
        "    slab = ag.repeat(size)\n",
        "    slab.center(vacuum=vacuum, axis=2)\n",
        "    return slab\n",
        "\n",
        "def create_device_structure(hp_length=3, pmma_repeats=5, pedot_repeats=5):\n",
        "    # Create individual components\n",
        "    ag = create_ag_slab(size=(3, 3, 1))  # Thin Ag layer\n",
        "    pmma = create_pmma_segment(repeat_units=pmma_repeats)\n",
        "    hp = create_1d_hybrid(length=hp_length)\n",
        "    pedot_pss = create_pedot_pss_segment(repeat_units=pedot_repeats)\n",
        "    ito = create_ito_slab(size=(2, 2, 1))  # Thin ITO layer\n",
        "\n",
        "    # Align all components along x-axis with proper spacing\n",
        "    hp_center = np.mean(hp.positions[:, 0])\n",
        "\n",
        "    # Position Ag at the bottom\n",
        "    ag.translate([hp_center - np.mean(ag.positions[:, 0]),\n",
        "                 0,\n",
        "                 np.min(hp.positions[:, 2]) - 15])\n",
        "\n",
        "    # Position PMMA above Ag\n",
        "    pmma.translate([hp_center - np.mean(pmma.positions[:, 0]),\n",
        "                   0,\n",
        "                   np.max(ag.positions[:, 2]) + 5])\n",
        "\n",
        "    # Position HP above PMMA\n",
        "    hp.translate([0, 0, np.max(pmma.positions[:, 2]) + 5])\n",
        "\n",
        "    # Position PEDOT:PSS above HP\n",
        "    pedot_pss.translate([hp_center - np.mean(pedot_pss.positions[:, 0]),\n",
        "                        0,\n",
        "                        np.max(hp.positions[:, 2]) + 5])\n",
        "\n",
        "    # Position ITO at the top\n",
        "    ito.translate([hp_center - np.mean(ito.positions[:, 0]),\n",
        "                  0,\n",
        "                  np.max(pedot_pss.positions[:, 2]) + 5])\n",
        "\n",
        "    # Combine all components\n",
        "    device = ag + pmma + hp + pedot_pss + ito\n",
        "\n",
        "    # Set large cell with vacuum in y and z\n",
        "    cell = device.get_cell()\n",
        "    cell[0,0] = 60  # Long x-dimension\n",
        "    cell[1,1] = 40  # Vacuum in y\n",
        "    cell[2,2] = np.max(device.positions[:, 2]) + 20  # Vacuum in z\n",
        "    device.set_cell(cell)\n",
        "    device.set_pbc([True, False, False])  # 1D periodicity\n",
        "\n",
        "    return device\n",
        "\n",
        "# Create and visualize the full device\n",
        "device = create_device_structure(hp_length=3, pmma_repeats=5, pedot_repeats=5)\n",
        "view(device)\n",
        "\n",
        "# Set up GPAW calculation\n",
        "calc = GPAW(mode=PW(500),\n",
        "           xc='PBE',\n",
        "           kpts=(2, 1, 1),\n",
        "           txt='full_device.out',\n",
        "           symmetry='off',\n",
        "           occupations=FermiDirac(0.1))\n",
        "\n",
        "device.calc = calc\n",
        "\n",
        "device.write('full_device_optimized.cif')"
      ],
      "metadata": {
        "id": "w9krG8UDVjdQ"
      },
      "execution_count": 23,
      "outputs": []
    },
    {
      "cell_type": "code",
      "source": [],
      "metadata": {
        "id": "Ms0RDABzYRrW"
      },
      "execution_count": null,
      "outputs": []
    },
    {
      "cell_type": "code",
      "source": [],
      "metadata": {
        "id": "zmhDcGNLYR3w"
      },
      "execution_count": null,
      "outputs": []
    },
    {
      "cell_type": "code",
      "source": [],
      "metadata": {
        "id": "55pbRolKVpL9"
      },
      "execution_count": null,
      "outputs": []
    }
  ]
}