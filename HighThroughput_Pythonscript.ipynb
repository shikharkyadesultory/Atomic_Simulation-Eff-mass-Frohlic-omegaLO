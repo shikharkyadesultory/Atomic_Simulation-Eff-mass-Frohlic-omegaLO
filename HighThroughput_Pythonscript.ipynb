{
  "nbformat": 4,
  "nbformat_minor": 0,
  "metadata": {
    "colab": {
      "provenance": [],
      "authorship_tag": "ABX9TyN9eYt22VVpUmcBA7g4zeBt",
      "include_colab_link": true
    },
    "kernelspec": {
      "name": "python3",
      "display_name": "Python 3"
    },
    "language_info": {
      "name": "python"
    }
  },
  "cells": [
    {
      "cell_type": "markdown",
      "metadata": {
        "id": "view-in-github",
        "colab_type": "text"
      },
      "source": [
        "<a href=\"https://colab.research.google.com/github/shikharkyadesultory/Atomic_Simulation-Eff-mass-Frohlic-omegaLO/blob/main/HighThroughput_Pythonscript.ipynb\" target=\"_parent\"><img src=\"https://colab.research.google.com/assets/colab-badge.svg\" alt=\"Open In Colab\"/></a>"
      ]
    },
    {
      "cell_type": "code",
      "execution_count": 1,
      "metadata": {
        "colab": {
          "base_uri": "https://localhost:8080/"
        },
        "id": "WXtYaMCS_nOb",
        "outputId": "87b34e42-82e1-443e-8618-c91ab9cb7c98"
      },
      "outputs": [
        {
          "output_type": "stream",
          "name": "stdout",
          "text": [
            "Collecting ase\n",
            "  Downloading ase-3.25.0-py3-none-any.whl.metadata (4.2 kB)\n",
            "Requirement already satisfied: numpy>=1.19.5 in /usr/local/lib/python3.11/dist-packages (from ase) (2.0.2)\n",
            "Requirement already satisfied: scipy>=1.6.0 in /usr/local/lib/python3.11/dist-packages (from ase) (1.15.3)\n",
            "Requirement already satisfied: matplotlib>=3.3.4 in /usr/local/lib/python3.11/dist-packages (from ase) (3.10.0)\n",
            "Requirement already satisfied: contourpy>=1.0.1 in /usr/local/lib/python3.11/dist-packages (from matplotlib>=3.3.4->ase) (1.3.2)\n",
            "Requirement already satisfied: cycler>=0.10 in /usr/local/lib/python3.11/dist-packages (from matplotlib>=3.3.4->ase) (0.12.1)\n",
            "Requirement already satisfied: fonttools>=4.22.0 in /usr/local/lib/python3.11/dist-packages (from matplotlib>=3.3.4->ase) (4.58.4)\n",
            "Requirement already satisfied: kiwisolver>=1.3.1 in /usr/local/lib/python3.11/dist-packages (from matplotlib>=3.3.4->ase) (1.4.8)\n",
            "Requirement already satisfied: packaging>=20.0 in /usr/local/lib/python3.11/dist-packages (from matplotlib>=3.3.4->ase) (24.2)\n",
            "Requirement already satisfied: pillow>=8 in /usr/local/lib/python3.11/dist-packages (from matplotlib>=3.3.4->ase) (11.2.1)\n",
            "Requirement already satisfied: pyparsing>=2.3.1 in /usr/local/lib/python3.11/dist-packages (from matplotlib>=3.3.4->ase) (3.2.3)\n",
            "Requirement already satisfied: python-dateutil>=2.7 in /usr/local/lib/python3.11/dist-packages (from matplotlib>=3.3.4->ase) (2.9.0.post0)\n",
            "Requirement already satisfied: six>=1.5 in /usr/local/lib/python3.11/dist-packages (from python-dateutil>=2.7->matplotlib>=3.3.4->ase) (1.17.0)\n",
            "Downloading ase-3.25.0-py3-none-any.whl (3.0 MB)\n",
            "\u001b[2K   \u001b[90m━━━━━━━━━━━━━━━━━━━━━━━━━━━━━━━━━━━━━━━━\u001b[0m \u001b[32m3.0/3.0 MB\u001b[0m \u001b[31m20.9 MB/s\u001b[0m eta \u001b[36m0:00:00\u001b[0m\n",
            "\u001b[?25hInstalling collected packages: ase\n",
            "Successfully installed ase-3.25.0\n"
          ]
        }
      ],
      "source": [
        "!pip install ase"
      ]
    },
    {
      "cell_type": "code",
      "source": [
        "!apt-get update\n",
        "!apt-get install -y build-essential libfftw3-dev libxc-dev"
      ],
      "metadata": {
        "colab": {
          "base_uri": "https://localhost:8080/"
        },
        "id": "WTsHdaXD_3X1",
        "outputId": "9539a2cf-b791-4353-d81b-63dbd14cf15b"
      },
      "execution_count": 2,
      "outputs": [
        {
          "output_type": "stream",
          "name": "stdout",
          "text": [
            "\r0% [Working]\r            \rGet:1 https://cloud.r-project.org/bin/linux/ubuntu jammy-cran40/ InRelease [3,632 B]\n",
            "Get:2 https://developer.download.nvidia.com/compute/cuda/repos/ubuntu2204/x86_64  InRelease [1,581 B]\n",
            "Hit:3 http://archive.ubuntu.com/ubuntu jammy InRelease\n",
            "Get:4 http://security.ubuntu.com/ubuntu jammy-security InRelease [129 kB]\n",
            "Get:5 https://r2u.stat.illinois.edu/ubuntu jammy InRelease [6,555 B]\n",
            "Get:6 http://archive.ubuntu.com/ubuntu jammy-updates InRelease [128 kB]\n",
            "Get:7 https://developer.download.nvidia.com/compute/cuda/repos/ubuntu2204/x86_64  Packages [1,802 kB]\n",
            "Get:8 http://archive.ubuntu.com/ubuntu jammy-backports InRelease [127 kB]\n",
            "Hit:9 https://ppa.launchpadcontent.net/deadsnakes/ppa/ubuntu jammy InRelease\n",
            "Get:10 https://r2u.stat.illinois.edu/ubuntu jammy/main amd64 Packages [2,753 kB]\n",
            "Get:11 https://ppa.launchpadcontent.net/graphics-drivers/ppa/ubuntu jammy InRelease [24.3 kB]\n",
            "Get:12 http://security.ubuntu.com/ubuntu jammy-security/restricted amd64 Packages [4,755 kB]\n",
            "Get:13 http://archive.ubuntu.com/ubuntu jammy-updates/main amd64 Packages [3,399 kB]\n",
            "Hit:14 https://ppa.launchpadcontent.net/ubuntugis/ppa/ubuntu jammy InRelease\n",
            "Get:15 https://r2u.stat.illinois.edu/ubuntu jammy/main all Packages [9,072 kB]\n",
            "Get:16 http://security.ubuntu.com/ubuntu jammy-security/universe amd64 Packages [1,257 kB]\n",
            "Get:17 http://security.ubuntu.com/ubuntu jammy-security/main amd64 Packages [3,088 kB]\n",
            "Get:18 http://archive.ubuntu.com/ubuntu jammy-updates/restricted amd64 Packages [4,909 kB]\n",
            "Get:19 http://archive.ubuntu.com/ubuntu jammy-updates/universe amd64 Packages [1,564 kB]\n",
            "Get:20 https://ppa.launchpadcontent.net/graphics-drivers/ppa/ubuntu jammy/main amd64 Packages [46.9 kB]\n",
            "Fetched 33.1 MB in 2s (14.5 MB/s)\n",
            "Reading package lists... Done\n",
            "W: Skipping acquire of configured file 'main/source/Sources' as repository 'https://r2u.stat.illinois.edu/ubuntu jammy InRelease' does not seem to provide it (sources.list entry misspelt?)\n",
            "Reading package lists... Done\n",
            "Building dependency tree... Done\n",
            "Reading state information... Done\n",
            "build-essential is already the newest version (12.9ubuntu3).\n",
            "The following additional packages will be installed:\n",
            "  libfftw3-bin libfftw3-double3 libfftw3-long3 libfftw3-quad3 libfftw3-single3\n",
            "  libxc9\n",
            "Suggested packages:\n",
            "  libfftw3-doc\n",
            "The following NEW packages will be installed:\n",
            "  libfftw3-bin libfftw3-dev libfftw3-double3 libfftw3-long3 libfftw3-quad3\n",
            "  libfftw3-single3 libxc-dev libxc9\n",
            "0 upgraded, 8 newly installed, 0 to remove and 38 not upgraded.\n",
            "Need to get 16.6 MB of archives.\n",
            "After this operation, 65.9 MB of additional disk space will be used.\n",
            "Get:1 http://archive.ubuntu.com/ubuntu jammy/main amd64 libfftw3-double3 amd64 3.3.8-2ubuntu8 [770 kB]\n",
            "Get:2 http://archive.ubuntu.com/ubuntu jammy/main amd64 libfftw3-long3 amd64 3.3.8-2ubuntu8 [335 kB]\n",
            "Get:3 http://archive.ubuntu.com/ubuntu jammy/main amd64 libfftw3-quad3 amd64 3.3.8-2ubuntu8 [614 kB]\n",
            "Get:4 http://archive.ubuntu.com/ubuntu jammy/main amd64 libfftw3-single3 amd64 3.3.8-2ubuntu8 [800 kB]\n",
            "Get:5 http://archive.ubuntu.com/ubuntu jammy/main amd64 libfftw3-bin amd64 3.3.8-2ubuntu8 [35.5 kB]\n",
            "Get:6 http://archive.ubuntu.com/ubuntu jammy/main amd64 libfftw3-dev amd64 3.3.8-2ubuntu8 [2,101 kB]\n",
            "Get:7 http://archive.ubuntu.com/ubuntu jammy/universe amd64 libxc9 amd64 5.1.7-1ubuntu1 [3,900 kB]\n",
            "Get:8 http://archive.ubuntu.com/ubuntu jammy/universe amd64 libxc-dev amd64 5.1.7-1ubuntu1 [8,038 kB]\n",
            "Fetched 16.6 MB in 0s (34.6 MB/s)\n",
            "Selecting previously unselected package libfftw3-double3:amd64.\n",
            "(Reading database ... 126308 files and directories currently installed.)\n",
            "Preparing to unpack .../0-libfftw3-double3_3.3.8-2ubuntu8_amd64.deb ...\n",
            "Unpacking libfftw3-double3:amd64 (3.3.8-2ubuntu8) ...\n",
            "Selecting previously unselected package libfftw3-long3:amd64.\n",
            "Preparing to unpack .../1-libfftw3-long3_3.3.8-2ubuntu8_amd64.deb ...\n",
            "Unpacking libfftw3-long3:amd64 (3.3.8-2ubuntu8) ...\n",
            "Selecting previously unselected package libfftw3-quad3:amd64.\n",
            "Preparing to unpack .../2-libfftw3-quad3_3.3.8-2ubuntu8_amd64.deb ...\n",
            "Unpacking libfftw3-quad3:amd64 (3.3.8-2ubuntu8) ...\n",
            "Selecting previously unselected package libfftw3-single3:amd64.\n",
            "Preparing to unpack .../3-libfftw3-single3_3.3.8-2ubuntu8_amd64.deb ...\n",
            "Unpacking libfftw3-single3:amd64 (3.3.8-2ubuntu8) ...\n",
            "Selecting previously unselected package libfftw3-bin.\n",
            "Preparing to unpack .../4-libfftw3-bin_3.3.8-2ubuntu8_amd64.deb ...\n",
            "Unpacking libfftw3-bin (3.3.8-2ubuntu8) ...\n",
            "Selecting previously unselected package libfftw3-dev:amd64.\n",
            "Preparing to unpack .../5-libfftw3-dev_3.3.8-2ubuntu8_amd64.deb ...\n",
            "Unpacking libfftw3-dev:amd64 (3.3.8-2ubuntu8) ...\n",
            "Selecting previously unselected package libxc9:amd64.\n",
            "Preparing to unpack .../6-libxc9_5.1.7-1ubuntu1_amd64.deb ...\n",
            "Unpacking libxc9:amd64 (5.1.7-1ubuntu1) ...\n",
            "Selecting previously unselected package libxc-dev.\n",
            "Preparing to unpack .../7-libxc-dev_5.1.7-1ubuntu1_amd64.deb ...\n",
            "Unpacking libxc-dev (5.1.7-1ubuntu1) ...\n",
            "Setting up libfftw3-single3:amd64 (3.3.8-2ubuntu8) ...\n",
            "Setting up libfftw3-long3:amd64 (3.3.8-2ubuntu8) ...\n",
            "Setting up libfftw3-quad3:amd64 (3.3.8-2ubuntu8) ...\n",
            "Setting up libfftw3-double3:amd64 (3.3.8-2ubuntu8) ...\n",
            "Setting up libxc9:amd64 (5.1.7-1ubuntu1) ...\n",
            "Setting up libfftw3-bin (3.3.8-2ubuntu8) ...\n",
            "Setting up libxc-dev (5.1.7-1ubuntu1) ...\n",
            "Setting up libfftw3-dev:amd64 (3.3.8-2ubuntu8) ...\n",
            "Processing triggers for man-db (2.10.2-1) ...\n",
            "Processing triggers for libc-bin (2.35-0ubuntu3.8) ...\n",
            "/sbin/ldconfig.real: /usr/local/lib/libtbbbind.so.3 is not a symbolic link\n",
            "\n",
            "/sbin/ldconfig.real: /usr/local/lib/libur_adapter_level_zero.so.0 is not a symbolic link\n",
            "\n",
            "/sbin/ldconfig.real: /usr/local/lib/libur_adapter_level_zero_v2.so.0 is not a symbolic link\n",
            "\n",
            "/sbin/ldconfig.real: /usr/local/lib/libtbb.so.12 is not a symbolic link\n",
            "\n",
            "/sbin/ldconfig.real: /usr/local/lib/libtbbbind_2_5.so.3 is not a symbolic link\n",
            "\n",
            "/sbin/ldconfig.real: /usr/local/lib/libur_adapter_opencl.so.0 is not a symbolic link\n",
            "\n",
            "/sbin/ldconfig.real: /usr/local/lib/libumf.so.0 is not a symbolic link\n",
            "\n",
            "/sbin/ldconfig.real: /usr/local/lib/libtbbbind_2_0.so.3 is not a symbolic link\n",
            "\n",
            "/sbin/ldconfig.real: /usr/local/lib/libtbbmalloc.so.2 is not a symbolic link\n",
            "\n",
            "/sbin/ldconfig.real: /usr/local/lib/libtbbmalloc_proxy.so.2 is not a symbolic link\n",
            "\n",
            "/sbin/ldconfig.real: /usr/local/lib/libur_loader.so.0 is not a symbolic link\n",
            "\n",
            "/sbin/ldconfig.real: /usr/local/lib/libtcm_debug.so.1 is not a symbolic link\n",
            "\n",
            "/sbin/ldconfig.real: /usr/local/lib/libtcm.so.1 is not a symbolic link\n",
            "\n",
            "/sbin/ldconfig.real: /usr/local/lib/libhwloc.so.15 is not a symbolic link\n",
            "\n"
          ]
        }
      ]
    },
    {
      "cell_type": "code",
      "source": [
        "from google.colab import drive\n",
        "drive.mount('/content/drive')"
      ],
      "metadata": {
        "colab": {
          "base_uri": "https://localhost:8080/"
        },
        "id": "wKTJLipCTdwB",
        "outputId": "f241244c-ebdc-438c-e984-91060436c24c"
      },
      "execution_count": null,
      "outputs": [
        {
          "output_type": "stream",
          "name": "stdout",
          "text": [
            "Mounted at /content/drive\n"
          ]
        }
      ]
    },
    {
      "cell_type": "code",
      "source": [
        "import sys\n",
        "print(sys.path)"
      ],
      "metadata": {
        "colab": {
          "base_uri": "https://localhost:8080/"
        },
        "id": "oDOxhIZS_3bc",
        "outputId": "ba4d42cb-1e07-4611-c7be-8bc665cd386e"
      },
      "execution_count": 3,
      "outputs": [
        {
          "output_type": "stream",
          "name": "stdout",
          "text": [
            "['/content', '/env/python', '/usr/lib/python311.zip', '/usr/lib/python3.11', '/usr/lib/python3.11/lib-dynload', '', '/usr/local/lib/python3.11/dist-packages', '/usr/lib/python3/dist-packages', '/usr/local/lib/python3.11/dist-packages/IPython/extensions', '/usr/local/lib/python3.11/dist-packages/setuptools/_vendor', '/root/.ipython']\n"
          ]
        }
      ]
    },
    {
      "cell_type": "code",
      "source": [
        "!pip3 install gpaw"
      ],
      "metadata": {
        "colab": {
          "base_uri": "https://localhost:8080/"
        },
        "id": "6dEX7_Ya_3jV",
        "outputId": "8aa7c27b-a962-46f6-ac86-ce5c540b5684"
      },
      "execution_count": 4,
      "outputs": [
        {
          "output_type": "stream",
          "name": "stdout",
          "text": [
            "Collecting gpaw\n",
            "  Downloading gpaw-25.1.0.tar.gz (2.0 MB)\n",
            "\u001b[?25l     \u001b[90m━━━━━━━━━━━━━━━━━━━━━━━━━━━━━━━━━━━━━━━━\u001b[0m \u001b[32m0.0/2.0 MB\u001b[0m \u001b[31m?\u001b[0m eta \u001b[36m-:--:--\u001b[0m\r\u001b[2K     \u001b[91m━━━━\u001b[0m\u001b[90m╺\u001b[0m\u001b[90m━━━━━━━━━━━━━━━━━━━━━━━━━━━━━━━━━━━\u001b[0m \u001b[32m0.2/2.0 MB\u001b[0m \u001b[31m6.7 MB/s\u001b[0m eta \u001b[36m0:00:01\u001b[0m\r\u001b[2K     \u001b[91m━━━━━━━━━━━━━━━━━━━━━━━━━━━━━━━━━━━\u001b[0m\u001b[91m╸\u001b[0m\u001b[90m━━━━\u001b[0m \u001b[32m1.8/2.0 MB\u001b[0m \u001b[31m27.8 MB/s\u001b[0m eta \u001b[36m0:00:01\u001b[0m\r\u001b[2K     \u001b[90m━━━━━━━━━━━━━━━━━━━━━━━━━━━━━━━━━━━━━━━━\u001b[0m \u001b[32m2.0/2.0 MB\u001b[0m \u001b[31m23.7 MB/s\u001b[0m eta \u001b[36m0:00:00\u001b[0m\n",
            "\u001b[?25h  Preparing metadata (setup.py) ... \u001b[?25l\u001b[?25hdone\n",
            "Requirement already satisfied: ase>=3.23.0 in /usr/local/lib/python3.11/dist-packages (from gpaw) (3.25.0)\n",
            "Requirement already satisfied: numpy in /usr/local/lib/python3.11/dist-packages (from gpaw) (2.0.2)\n",
            "Requirement already satisfied: scipy>=1.6.0 in /usr/local/lib/python3.11/dist-packages (from gpaw) (1.15.3)\n",
            "Requirement already satisfied: matplotlib>=3.3.4 in /usr/local/lib/python3.11/dist-packages (from ase>=3.23.0->gpaw) (3.10.0)\n",
            "Requirement already satisfied: contourpy>=1.0.1 in /usr/local/lib/python3.11/dist-packages (from matplotlib>=3.3.4->ase>=3.23.0->gpaw) (1.3.2)\n",
            "Requirement already satisfied: cycler>=0.10 in /usr/local/lib/python3.11/dist-packages (from matplotlib>=3.3.4->ase>=3.23.0->gpaw) (0.12.1)\n",
            "Requirement already satisfied: fonttools>=4.22.0 in /usr/local/lib/python3.11/dist-packages (from matplotlib>=3.3.4->ase>=3.23.0->gpaw) (4.58.4)\n",
            "Requirement already satisfied: kiwisolver>=1.3.1 in /usr/local/lib/python3.11/dist-packages (from matplotlib>=3.3.4->ase>=3.23.0->gpaw) (1.4.8)\n",
            "Requirement already satisfied: packaging>=20.0 in /usr/local/lib/python3.11/dist-packages (from matplotlib>=3.3.4->ase>=3.23.0->gpaw) (24.2)\n",
            "Requirement already satisfied: pillow>=8 in /usr/local/lib/python3.11/dist-packages (from matplotlib>=3.3.4->ase>=3.23.0->gpaw) (11.2.1)\n",
            "Requirement already satisfied: pyparsing>=2.3.1 in /usr/local/lib/python3.11/dist-packages (from matplotlib>=3.3.4->ase>=3.23.0->gpaw) (3.2.3)\n",
            "Requirement already satisfied: python-dateutil>=2.7 in /usr/local/lib/python3.11/dist-packages (from matplotlib>=3.3.4->ase>=3.23.0->gpaw) (2.9.0.post0)\n",
            "Requirement already satisfied: six>=1.5 in /usr/local/lib/python3.11/dist-packages (from python-dateutil>=2.7->matplotlib>=3.3.4->ase>=3.23.0->gpaw) (1.17.0)\n",
            "Building wheels for collected packages: gpaw\n",
            "  Building wheel for gpaw (setup.py) ... \u001b[?25l\u001b[?25hdone\n",
            "  Created wheel for gpaw: filename=gpaw-25.1.0-cp311-cp311-linux_x86_64.whl size=2822234 sha256=85c43c22e2b294b5f6f8e50cffe4b08c93bd175a30672cdb343c41f4cccaf317\n",
            "  Stored in directory: /root/.cache/pip/wheels/f5/1e/05/db6758eab2e82f997345fec978af4684e2d16eb1913e4769db\n",
            "Successfully built gpaw\n",
            "Installing collected packages: gpaw\n",
            "Successfully installed gpaw-25.1.0\n"
          ]
        }
      ]
    },
    {
      "cell_type": "code",
      "source": [
        "import sys\n",
        "!{sys.executable} -m pip install --upgrade --no-cache-dir --prefix /usr/local gpaw"
      ],
      "metadata": {
        "colab": {
          "base_uri": "https://localhost:8080/"
        },
        "id": "a8NMMTvY_4WC",
        "outputId": "a0e75585-e36e-40a1-ef8f-5517fc47839c"
      },
      "execution_count": 5,
      "outputs": [
        {
          "output_type": "stream",
          "name": "stdout",
          "text": [
            "Requirement already satisfied: gpaw in /usr/local/lib/python3.11/dist-packages (25.1.0)\n",
            "Requirement already satisfied: ase>=3.23.0 in /usr/local/lib/python3.11/dist-packages (from gpaw) (3.25.0)\n",
            "Requirement already satisfied: numpy in /usr/local/lib/python3.11/dist-packages (from gpaw) (2.0.2)\n",
            "Requirement already satisfied: scipy>=1.6.0 in /usr/local/lib/python3.11/dist-packages (from gpaw) (1.15.3)\n",
            "Requirement already satisfied: matplotlib>=3.3.4 in /usr/local/lib/python3.11/dist-packages (from ase>=3.23.0->gpaw) (3.10.0)\n",
            "Requirement already satisfied: contourpy>=1.0.1 in /usr/local/lib/python3.11/dist-packages (from matplotlib>=3.3.4->ase>=3.23.0->gpaw) (1.3.2)\n",
            "Requirement already satisfied: cycler>=0.10 in /usr/local/lib/python3.11/dist-packages (from matplotlib>=3.3.4->ase>=3.23.0->gpaw) (0.12.1)\n",
            "Requirement already satisfied: fonttools>=4.22.0 in /usr/local/lib/python3.11/dist-packages (from matplotlib>=3.3.4->ase>=3.23.0->gpaw) (4.58.4)\n",
            "Requirement already satisfied: kiwisolver>=1.3.1 in /usr/local/lib/python3.11/dist-packages (from matplotlib>=3.3.4->ase>=3.23.0->gpaw) (1.4.8)\n",
            "Requirement already satisfied: packaging>=20.0 in /usr/local/lib/python3.11/dist-packages (from matplotlib>=3.3.4->ase>=3.23.0->gpaw) (24.2)\n",
            "Requirement already satisfied: pillow>=8 in /usr/local/lib/python3.11/dist-packages (from matplotlib>=3.3.4->ase>=3.23.0->gpaw) (11.2.1)\n",
            "Requirement already satisfied: pyparsing>=2.3.1 in /usr/local/lib/python3.11/dist-packages (from matplotlib>=3.3.4->ase>=3.23.0->gpaw) (3.2.3)\n",
            "Requirement already satisfied: python-dateutil>=2.7 in /usr/local/lib/python3.11/dist-packages (from matplotlib>=3.3.4->ase>=3.23.0->gpaw) (2.9.0.post0)\n",
            "Requirement already satisfied: six>=1.5 in /usr/local/lib/python3.11/dist-packages (from python-dateutil>=2.7->matplotlib>=3.3.4->ase>=3.23.0->gpaw) (1.17.0)\n"
          ]
        }
      ]
    },
    {
      "cell_type": "code",
      "source": [
        "!which gpaw"
      ],
      "metadata": {
        "colab": {
          "base_uri": "https://localhost:8080/"
        },
        "id": "KmrJuqFkAEKx",
        "outputId": "46ca6cfb-243b-4a5b-b900-568144f0e222"
      },
      "execution_count": 6,
      "outputs": [
        {
          "output_type": "stream",
          "name": "stdout",
          "text": [
            "/usr/local/bin/gpaw\n"
          ]
        }
      ]
    },
    {
      "cell_type": "code",
      "source": [
        "import sys\n",
        "import os\n",
        "import subprocess\n",
        "\n",
        "# Find gpaw using which command\n",
        "try:\n",
        "    gpaw_exec = subprocess.check_output(['which', 'gpaw']).decode().strip()\n",
        "except subprocess.CalledProcessError:\n",
        "    raise FileNotFoundError(\"Could not locate the gpaw executable. \"\n",
        "                            \"Please make sure gpaw is installed and in your PATH.\")\n",
        "gpaw_data_dir = '/usr/local/lib/python3/dist-packages/gpaw/data'\n",
        "\n",
        "# Create the directories if they don't exist:\n",
        "os.makedirs(gpaw_data_dir, exist_ok=True)\n",
        "\n",
        "!{gpaw_exec} install-data {gpaw_data_dir}"
      ],
      "metadata": {
        "colab": {
          "base_uri": "https://localhost:8080/"
        },
        "id": "m7KImoAnAEON",
        "outputId": "5a5af1c1-d638-4fb8-d049-ce6d97225ce4"
      },
      "execution_count": 7,
      "outputs": [
        {
          "output_type": "stream",
          "name": "stdout",
          "text": [
            "Available setups and pseudopotentials\n",
            "  [*] https://wiki.fysik.dtu.dk/gpaw-files/gpaw-setups-24.11.0.tar.gz\n",
            "      https://wiki.fysik.dtu.dk/gpaw-files/gpaw-setups-24.1.0.tar.gz\n",
            "      https://wiki.fysik.dtu.dk/gpaw-files/gpaw-setups-0.9.20000.tar.gz\n",
            "      https://wiki.fysik.dtu.dk/gpaw-files/gpaw-setups-0.9.11271.tar.gz\n",
            "      https://wiki.fysik.dtu.dk/gpaw-files/gpaw-setups-0.9.9672.tar.gz\n",
            "      https://wiki.fysik.dtu.dk/gpaw-files/gpaw-setups-0.8.7929.tar.gz\n",
            "      https://wiki.fysik.dtu.dk/gpaw-files/gpaw-setups-0.6.6300.tar.gz\n",
            "      https://wiki.fysik.dtu.dk/gpaw-files/gpaw-setups-0.5.3574.tar.gz\n",
            "\n",
            "Selected gpaw-setups-24.11.0.tar.gz.  Downloading...\n",
            "Extracting tarball into /usr/local/lib/python3/dist-packages/gpaw/data\n",
            "Setups installed into /usr/local/lib/python3/dist-packages/gpaw/data/gpaw-setups-24.11.0.\n",
            "Register this setup path in /root/.gpaw/rc.py? [y/n] y\n",
            "Setup path registered in /root/.gpaw/rc.py.\n",
            "Current GPAW setup paths in order of search priority:\n",
            "   1. /usr/local/lib/python3/dist-packages/gpaw/data/gpaw-setups-24.11.0\n",
            "Installation complete.\n"
          ]
        }
      ]
    },
    {
      "cell_type": "code",
      "source": [
        "!gpaw info"
      ],
      "metadata": {
        "colab": {
          "base_uri": "https://localhost:8080/"
        },
        "id": "RxPFsS5HAH6A",
        "outputId": "a2b17801-bb98-4763-b0d5-7f28f437f085"
      },
      "execution_count": 8,
      "outputs": [
        {
          "output_type": "stream",
          "name": "stdout",
          "text": [
            " -------------------------------------------------------------------------------------------------\n",
            "| python-3.11.13    /usr/bin/python3                                                              |\n",
            "| gpaw-25.1.0       /usr/local/lib/python3.11/dist-packages/gpaw/                                 |\n",
            "| ase-3.25.0        /usr/local/lib/python3.11/dist-packages/ase/                                  |\n",
            "| numpy-2.0.2       /usr/local/lib/python3.11/dist-packages/numpy/                                |\n",
            "| scipy-1.15.3      /usr/local/lib/python3.11/dist-packages/scipy/                                |\n",
            "| libxc-5.1.7       yes                                                                           |\n",
            "| _gpaw             /usr/local/lib/python3.11/dist-packages/_gpaw.cpython-311-x86_64-linux-gnu.so |\n",
            "| MPI enabled       yes                                                                           |\n",
            "| OpenMP enabled    no                                                                            |\n",
            "| GPU enabled       no                                                                            |\n",
            "| GPU-aware MPI     no                                                                            |\n",
            "| cupy-fake         /usr/local/lib/python3.11/dist-packages/gpaw/gpu/cpupy/__init__.py            |\n",
            "| scalapack         no                                                                            |\n",
            "| Elpa              no                                                                            |\n",
            "| FFTW              no                                                                            |\n",
            "| libvdwxc          no                                                                            |\n",
            "| PAW-datasets (1)  /usr/local/lib/python3/dist-packages/gpaw/data/gpaw-setups-24.11.0            |\n",
            " -------------------------------------------------------------------------------------------------\n"
          ]
        }
      ]
    },
    {
      "cell_type": "code",
      "source": [
        "!pip install --q ase gpaw\n",
        "\n",
        "!wget -q https://wiki.fysik.dtu.dk/gpaw-files/gpaw-setups-24.11.0.tar.gz\n",
        "!tar -xzf gpaw-setups-24.11.0.tar.gz"
      ],
      "metadata": {
        "id": "JTjBnehVAId4"
      },
      "execution_count": 9,
      "outputs": []
    },
    {
      "cell_type": "code",
      "source": [
        "import os\n",
        "os.environ[\"GPAW_SETUP_PATH\"] = \"/content/gpaw-setups-24.11.0\""
      ],
      "metadata": {
        "id": "3vSRofVLAIhI"
      },
      "execution_count": 10,
      "outputs": []
    },
    {
      "cell_type": "markdown",
      "source": [
        "# **Autom_ate DevOp**"
      ],
      "metadata": {
        "id": "QEgLQx13CSFV"
      }
    },
    {
      "cell_type": "code",
      "source": [
        "######## Importing Necessary Libraries ###########\n",
        "from ase.build import mx2, add_adsorbate\n",
        "from ase.constraints import FixAtoms\n",
        "from gpaw import GPAW, PW\n",
        "from ase.io import write\n",
        "import numpy as np\n",
        "import time\n",
        "from google.colab import drive  # For Google Colab integration\n",
        "\n",
        "class HighThroughputAutomation:\n",
        "    def __init__(self):\n",
        "        \"\"\"Initialize the high-throughput automation system\"\"\"\n",
        "        self.primary_functions = {\n",
        "            '1': {'name': 'Adsorption', 'function': self.adsorption},\n",
        "            '2': {'name': 'Substitution', 'function': self.substitution},\n",
        "            '3': {'name': 'Defect', 'function': self.defect},\n",
        "        }\n",
        "\n",
        "    def run(self):\n",
        "        \"\"\"Main execution loop\"\"\"\n",
        "        while True:\n",
        "            self._display_main_menu()\n",
        "            choice = input(\"Enter your choice (1-3, or 0 to exit): \")\n",
        "\n",
        "            if choice == '0':\n",
        "                print(\"Exiting program...\")\n",
        "                time.sleep(2)\n",
        "                print(\"\\nYour Choice defines you\")\n",
        "                break\n",
        "\n",
        "            if choice in self.primary_functions:\n",
        "                self.primary_functions[choice]['function']()\n",
        "            else:\n",
        "                print(\"Invalid choice. Please try again.\")\n",
        "\n",
        "    def _display_main_menu(self):\n",
        "        \"\"\"Display the main menu options\"\"\"\n",
        "        print(\"\\n\" + \"=\"*40)\n",
        "        print(\"High-Throughput Materials Automation\")\n",
        "        print(\"=\"*40)\n",
        "        for key, value in sorted(self.primary_functions.items()):\n",
        "            print(f\"{key}. {value['name']}\")\n",
        "        print(\"0. Exit\")\n",
        "        print(\"=\"*40)\n",
        "\n",
        "    def adsorption(self):\n",
        "        \"\"\"Perform adsorption calculations and return CIF file paths\"\"\"\n",
        "        a = 4  # Guess value of 4Å\n",
        "        print(\"\\n=== Adsorption Calculation ===\")\n",
        "\n",
        "        base_material = input(\"Enter the 2D base material formula (e.g., ZrS2): \").strip()\n",
        "        adsorbate = input(\"Enter the adsorbate material/atom (e.g., Au, Pt, H2O, Bi ,O2 ): \").strip()\n",
        "        Chalc_met = input(\"Enter the chalcogen symbol in the base material (e.g., S, Se, Te): \").strip()\n",
        "        kind_in = input(\"Enter the space group (e.g., P6m2): \").strip()\n",
        "\n",
        "        num_configs = int(input(\"How many different adsorption configurations to try? \"))\n",
        "\n",
        "        output_files = []\n",
        "\n",
        "        for config in range(num_configs):\n",
        "            try:\n",
        "                print(f\"\\nProcessing ..... Bro Just Chill {config+1}...\")\n",
        "\n",
        "                slab = mx2(formula=base_material, kind=kind_in, a=a,\n",
        "                          thickness=3.5, vacuum=15)\n",
        "                slab = slab.repeat((3, 3, 1))\n",
        "                slab.center(vacuum=15, axis=2)\n",
        "\n",
        "                s_positions = [atom.position for atom in slab if atom.symbol == Chalc_met]\n",
        "                if not s_positions:\n",
        "                    raise ValueError(f\"No {Chalc_met} atoms found in structure\")\n",
        "\n",
        "                print(f\"\\nAvailable {Chalc_met} positions for adsorption:\")\n",
        "                for i, pos in enumerate(s_positions[:5]):  # Show first 5 positions\n",
        "                    print(f\"{i+1}: (x={pos[0]:.2f}, y={pos[1]:.2f})\")\n",
        "\n",
        "                site_choice = int(input(f\"Choose adsorption site (1-{min(5,len(s_positions))}): \")) - 1\n",
        "                adsorption_site = s_positions[site_choice][:2]\n",
        "\n",
        "                add_adsorbate(slab, adsorbate, height=4, position=adsorption_site)\n",
        "\n",
        "                z_mean = np.mean([atom.z for atom in slab if atom.symbol in adsorbate.split()])\n",
        "                fixed_indices = [atom.index for atom in slab if atom.position[2] < z_mean]\n",
        "                slab.set_constraint(FixAtoms(indices=fixed_indices))\n",
        "\n",
        "                calc = GPAW(\n",
        "                    mode=PW(400),\n",
        "                    xc='PBE',\n",
        "                    kpts={'size': (4, 4, 1), 'gamma': True},\n",
        "                    txt=f'{adsorbate}_on_{base_material}_config{config+1}.log'\n",
        "                )\n",
        "                slab.calc = calc\n",
        "\n",
        "                filename = f'/content/{adsorbate}_on_{base_material}_config{config+1}.cif'\n",
        "                write(filename, slab)\n",
        "                print(f\"Saved: {filename}\")\n",
        "                output_files.append(filename)\n",
        "\n",
        "            except Exception as e:\n",
        "                print(f\"Error in configuration {config+1}: {str(e)}\")\n",
        "                output_files.append(None)\n",
        "\n",
        "        print(\"\\nAdsorption calculation complete!\")\n",
        "        time.sleep(2)\n",
        "        print(\"\\nA L E R T -> BRO stress your fings, do a SOC Optimize on VASP\")\n",
        "        return output_files\n",
        "\n",
        "    def substitution(self):\n",
        "      a = 4  # Guess value of Lattice parameter 4Å\n",
        "      print(\"\\n=== Substitution Calculations ===\")\n",
        "      Trans_met = input(\"Enter the Transition metal in the TMDC: \").strip()\n",
        "      base_material = input(\"Enter the 2D base material formula (e.g., ZrS2): \").strip()\n",
        "      substitute = input(\"Enter the substitution atom (e.g., Au, Pt, Bi): \").strip()\n",
        "      Chalc_met = input(\"Enter the chalcogen symbol in the base material (e.g., S, Se, Te): \").strip()\n",
        "      kind_in = input(\"Enter the space group (e.g. 1T): \").strip()\n",
        "\n",
        "      num_configs = int(input(\"Enter the number of different substitution configurations to try: \"))\n",
        "\n",
        "      output_files = []\n",
        "      for config in range(num_configs):\n",
        "          try:\n",
        "              print(f\"\\nProcessing configuration {config+1}...\")\n",
        "\n",
        "              slab = mx2(formula=base_material, kind=kind_in, a=a, thickness=3.5, vacuum=15)\n",
        "              slab = slab.repeat((3, 3, 1))\n",
        "              slab.center(vacuum=15, axis=2)\n",
        "\n",
        "              t_indices = [atom.index for atom in slab if atom.symbol == Trans_met]\n",
        "              if not t_indices:\n",
        "                  raise ValueError(f\"No atoms with symbol '{Trans_met}' found\")\n",
        "\n",
        "              t_positions = [slab[i].position for i in t_indices]\n",
        "\n",
        "              print(f\"\\nAvailable {Trans_met} positions for substitution:\")\n",
        "              for i, pos in enumerate(t_positions[:9]):  # Show first 9 positions\n",
        "                  print(f\"{i+1}: (x={pos[0]:.4f}, y={pos[1]:.4f}, z={pos[2]:.4f})\")\n",
        "\n",
        "              site_choice = int(input(f\"Choose a site (1-{len(t_positions)}): \")) - 1\n",
        "              sub_index = t_indices[site_choice]  # Get the actual atom index\n",
        "\n",
        "              slab[sub_index].symbol = substitute\n",
        "\n",
        "              z_mean = np.mean([atom.z for atom in slab if atom.symbol == substitute])\n",
        "              fixed_indices = [atom.index for atom in slab if atom.position[2] < z_mean]\n",
        "              slab.set_constraint(FixAtoms(indices=fixed_indices))\n",
        "\n",
        "              # Setup calculator\n",
        "              calc = GPAW(\n",
        "                  mode=PW(400),\n",
        "                  xc='PBE',\n",
        "                  kpts={'size': (4, 4, 1), 'gamma': True},\n",
        "                  txt=f'{substitute}_substituted_{base_material}_{config}.log'\n",
        "              )\n",
        "              slab.calc = calc\n",
        "\n",
        "              filename = f\"/content/{substitute}_substituted_{base_material}_{config}.cif\"\n",
        "              write(filename, slab)\n",
        "              print(f\"Successfully saved: {filename}\")\n",
        "              output_files.append(filename)\n",
        "\n",
        "          except Exception as e:\n",
        "              print(f\"Error in configuration {config+1}: {str(e)}\")\n",
        "              output_files.append(None)\n",
        "          time.sleep(1)\n",
        "          print(\"\\nSubstitution Complete without you writing a single line of code\")\n",
        "          time.sleep(2)\n",
        "          print(\"\\nHaving fun ...... just remember one thing .......\")\n",
        "          time.sleep(2)\n",
        "          print(\"\\nA L E R T -> Have the cif files SOC optimized in VASP\")\n",
        "          return output_files\n",
        "\n",
        "    def defect(self):\n",
        "      \"\"\"Create chalcogen vacancy and substitute with another atom\"\"\"\n",
        "      a = 4  # Lattice parameter guess value (Angstrom)\n",
        "      print(\"\\n=== Defect and Substitution Calculations ===\")\n",
        "\n",
        "      Trans_met = input(\"Enter the Transition metal in the TMDC: \").strip()\n",
        "      base_material = input(\"Enter the 2D base material formula (e.g., ZrS2): \").strip()\n",
        "      substitute = input(\"Enter the substitution atom (e.g., Au, Pt, Bi): \").strip()\n",
        "      Chalc_met = input(\"Enter the chalcogen symbol in the base material (e.g., S, Se, Te): \").strip()\n",
        "      kind_in = input(\"Enter the space group (e.g. 1T): \").strip()\n",
        "      num_configs = int(input(\"Enter number of defect configurations to try: \"))\n",
        "\n",
        "      output_files = []\n",
        "      for config in range(num_configs):\n",
        "          try:\n",
        "              print(f\"\\nProcessing configuration {config+1}/{num_configs}\")\n",
        "\n",
        "              slab = mx2(formula=base_material, kind=kind_in, a=a, thickness=3.5, vacuum=15)\n",
        "              slab = slab.repeat((3, 3, 1))\n",
        "              slab.center(vacuum=15, axis=2)\n",
        "\n",
        "              s_indices = [atom.index for atom in slab if atom.symbol == Chalc_met]\n",
        "              if not s_indices:\n",
        "                  raise ValueError(f\"No {Chalc_met} atoms found in structure\")\n",
        "\n",
        "              print(f\"\\nAvailable {Chalc_met} positions:\")\n",
        "              for i, idx in enumerate(s_indices[:9]):\n",
        "                  pos = slab[idx].position\n",
        "                  print(f\"{i+1}: (x={pos[0]:.4f}, y={pos[1]:.4f}, z={pos[2]:.4f})\")\n",
        "\n",
        "              site_choice = int(input(f\"Choose site (1-{len(s_indices)}): \")) - 1\n",
        "              defect_idx = s_indices[site_choice]\n",
        "              defect_pos = slab[defect_idx].position.copy()\n",
        "\n",
        "              del slab[defect_idx]\n",
        "              print(f\"\\nCreated {Chalc_met} vacancy at position {defect_pos[:2]}\")\n",
        "\n",
        "              slab.append(substitute)\n",
        "              slab[-1].position = defect_pos\n",
        "              print(f\"Added {substitute} atom at vacancy site\")\n",
        "\n",
        "              z_mean = np.mean([atom.z for atom in slab if atom.symbol == substitute])\n",
        "              fixed_indices = [atom.index for atom in slab if atom.position[2] < z_mean]\n",
        "              slab.set_constraint(FixAtoms(indices=fixed_indices))\n",
        "\n",
        "              calc = GPAW(\n",
        "                  mode=PW(400),\n",
        "                  xc='PBE',\n",
        "                  kpts={'size': (4, 4, 1), 'gamma': True},\n",
        "                  txt=f'{substitute}_substituted_{base_material}_{config}.log'\n",
        "              )\n",
        "              slab.calc = calc\n",
        "\n",
        "              defect_filename = f\"/content/{base_material}_{Chalc_met}vacancy_config{config}.cif\"\n",
        "              substitute_filename = f\"/content/{substitute}_substituted_{base_material}_config{config}.cif\"\n",
        "\n",
        "              temp_slab = slab.copy()\n",
        "              del temp_slab[-1]\n",
        "              write(defect_filename, temp_slab)\n",
        "\n",
        "              write(substitute_filename, slab)\n",
        "\n",
        "              print(f\"\\nSuccessfully created:\")\n",
        "              print(f\"- Defect structure: {defect_filename}\")\n",
        "              print(f\"- Substituted structure: {substitute_filename}\")\n",
        "\n",
        "              output_files.append((substitute_filename))\n",
        "\n",
        "          except Exception as e:\n",
        "              print(f\"Error in configuration {config+1}: {str(e)}\")\n",
        "              output_files.append(None)\n",
        "          time.sleep(1)\n",
        "          print(\"\\nDefect and Substitution Complete without you writing a single line of code\")\n",
        "          time.sleep(2)\n",
        "          print(\"\\nHaving fun ...... just remember one thing .......\")\n",
        "          time.sleep(2)\n",
        "          print(\"\\nA L E R T -> Have the cif files SOC optimized in VASP\")\n",
        "\n",
        "      print(\"\\nAll calculations complete!\")\n",
        "      print(\"Remember to SOC optimize these structures in VASP\")\n",
        "      return output_files\n",
        "\n",
        "# Main execution block\n",
        "if __name__ == \"__main__\":\n",
        "    # Mount Google Drive\n",
        "    try:\n",
        "        drive.mount('/content/drive')\n",
        "        print(\"Google Drive mounted successfully!\")\n",
        "    except:\n",
        "        print(\"Running in local mode (not Colab)\")\n",
        "\n",
        "\n",
        "    print(\"Initializing High-Throughput Automation System...\")\n",
        "    hta = HighThroughputAutomation()\n",
        "    hta.run()"
      ],
      "metadata": {
        "colab": {
          "base_uri": "https://localhost:8080/"
        },
        "id": "JrR_mTvtAlM_",
        "outputId": "85645525-d7ab-4bc8-bce4-6c3c699392db"
      },
      "execution_count": 34,
      "outputs": [
        {
          "output_type": "stream",
          "name": "stdout",
          "text": [
            "Initializing High-Throughput Automation System...\n",
            "\n",
            "========================================\n",
            "High-Throughput Materials Automation\n",
            "========================================\n",
            "1. Adsorption\n",
            "2. Substitution\n",
            "3. Defect\n",
            "0. Exit\n",
            "========================================\n",
            "Enter your choice (1-3, or 0 to exit): 3\n",
            "\n",
            "=== Defect and Substitution Calculations ===\n",
            "Enter the Transition metal in the TMDC: Zr\n",
            "Enter the 2D base material formula (e.g., ZrS2): ZrS2\n",
            "Enter the substitution atom (e.g., Au, Pt, Bi): Au\n",
            "Enter the chalcogen symbol in the base material (e.g., S, Se, Te): S\n",
            "Enter the space group (e.g. 1T): 1T\n",
            "Enter number of defect configurations to try: 1\n",
            "\n",
            "Processing configuration 1/1\n",
            "\n",
            "Available S positions:\n",
            "1: (x=2.0000, y=1.1547, z=18.5000)\n",
            "2: (x=0.0000, y=2.3094, z=15.0000)\n",
            "3: (x=0.0000, y=4.6188, z=18.5000)\n",
            "4: (x=-2.0000, y=5.7735, z=15.0000)\n",
            "5: (x=-2.0000, y=8.0829, z=18.5000)\n",
            "6: (x=-4.0000, y=9.2376, z=15.0000)\n",
            "7: (x=6.0000, y=1.1547, z=18.5000)\n",
            "8: (x=4.0000, y=2.3094, z=15.0000)\n",
            "9: (x=4.0000, y=4.6188, z=18.5000)\n",
            "Choose site (1-18): 3\n",
            "\n",
            "Created S vacancy at position [0.         4.61880215]\n",
            "Added Au atom at vacancy site\n",
            "\n",
            "Successfully created:\n",
            "- Defect structure: /content/ZrS2_Svacancy_config0.cif\n",
            "- Substituted structure: /content/Au_substituted_ZrS2_config0.cif\n",
            "\n",
            "Defect and Substitution Complete without you writing a single line of code\n",
            "\n",
            "Having fun ...... just remember one thing .......\n",
            "\n",
            "A L E R T -> Have the cif files SOC optimized in VASP\n",
            "\n",
            "All calculations complete!\n",
            "Remember to SOC optimize these structures in VASP\n",
            "\n",
            "========================================\n",
            "High-Throughput Materials Automation\n",
            "========================================\n",
            "1. Adsorption\n",
            "2. Substitution\n",
            "3. Defect\n",
            "0. Exit\n",
            "========================================\n",
            "Enter your choice (1-3, or 0 to exit): 0\n",
            "Exiting program...\n",
            "\n",
            "Your Choice defines you\n"
          ]
        }
      ]
    }
  ]
}