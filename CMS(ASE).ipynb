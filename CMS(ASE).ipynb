{
  "nbformat": 4,
  "nbformat_minor": 0,
  "metadata": {
    "colab": {
      "provenance": [],
      "authorship_tag": "ABX9TyPT0AZ6DvYA+o9dMj/eFPDC",
      "include_colab_link": true
    },
    "kernelspec": {
      "name": "python3",
      "display_name": "Python 3"
    },
    "language_info": {
      "name": "python"
    }
  },
  "cells": [
    {
      "cell_type": "markdown",
      "metadata": {
        "id": "view-in-github",
        "colab_type": "text"
      },
      "source": [
        "<a href=\"https://colab.research.google.com/github/shikharkyadesultory/Atomic_Simulation-Eff-mass-Frohlic-omegaLO/blob/main/CMS(ASE).ipynb\" target=\"_parent\"><img src=\"https://colab.research.google.com/assets/colab-badge.svg\" alt=\"Open In Colab\"/></a>"
      ]
    },
    {
      "cell_type": "code",
      "source": [
        "!pip install ase"
      ],
      "metadata": {
        "colab": {
          "base_uri": "https://localhost:8080/"
        },
        "id": "Tf78wKKDix9j",
        "outputId": "1846912a-be5f-42a2-97a9-3df94d611abe"
      },
      "execution_count": 1,
      "outputs": [
        {
          "output_type": "stream",
          "name": "stdout",
          "text": [
            "Collecting ase\n",
            "  Downloading ase-3.25.0-py3-none-any.whl.metadata (4.2 kB)\n",
            "Requirement already satisfied: numpy>=1.19.5 in /usr/local/lib/python3.11/dist-packages (from ase) (2.0.2)\n",
            "Requirement already satisfied: scipy>=1.6.0 in /usr/local/lib/python3.11/dist-packages (from ase) (1.15.3)\n",
            "Requirement already satisfied: matplotlib>=3.3.4 in /usr/local/lib/python3.11/dist-packages (from ase) (3.10.0)\n",
            "Requirement already satisfied: contourpy>=1.0.1 in /usr/local/lib/python3.11/dist-packages (from matplotlib>=3.3.4->ase) (1.3.2)\n",
            "Requirement already satisfied: cycler>=0.10 in /usr/local/lib/python3.11/dist-packages (from matplotlib>=3.3.4->ase) (0.12.1)\n",
            "Requirement already satisfied: fonttools>=4.22.0 in /usr/local/lib/python3.11/dist-packages (from matplotlib>=3.3.4->ase) (4.58.2)\n",
            "Requirement already satisfied: kiwisolver>=1.3.1 in /usr/local/lib/python3.11/dist-packages (from matplotlib>=3.3.4->ase) (1.4.8)\n",
            "Requirement already satisfied: packaging>=20.0 in /usr/local/lib/python3.11/dist-packages (from matplotlib>=3.3.4->ase) (24.2)\n",
            "Requirement already satisfied: pillow>=8 in /usr/local/lib/python3.11/dist-packages (from matplotlib>=3.3.4->ase) (11.2.1)\n",
            "Requirement already satisfied: pyparsing>=2.3.1 in /usr/local/lib/python3.11/dist-packages (from matplotlib>=3.3.4->ase) (3.2.3)\n",
            "Requirement already satisfied: python-dateutil>=2.7 in /usr/local/lib/python3.11/dist-packages (from matplotlib>=3.3.4->ase) (2.9.0.post0)\n",
            "Requirement already satisfied: six>=1.5 in /usr/local/lib/python3.11/dist-packages (from python-dateutil>=2.7->matplotlib>=3.3.4->ase) (1.17.0)\n",
            "Downloading ase-3.25.0-py3-none-any.whl (3.0 MB)\n",
            "\u001b[2K   \u001b[90m━━━━━━━━━━━━━━━━━━━━━━━━━━━━━━━━━━━━━━━━\u001b[0m \u001b[32m3.0/3.0 MB\u001b[0m \u001b[31m17.3 MB/s\u001b[0m eta \u001b[36m0:00:00\u001b[0m\n",
            "\u001b[?25hInstalling collected packages: ase\n",
            "Successfully installed ase-3.25.0\n"
          ]
        }
      ]
    },
    {
      "cell_type": "code",
      "source": [
        "from google.colab import drive\n",
        "drive.mount('/content/drive')"
      ],
      "metadata": {
        "id": "d1tExrd1VPmX",
        "colab": {
          "base_uri": "https://localhost:8080/"
        },
        "outputId": "a3363504-5b54-4b10-8d6f-18107129385a"
      },
      "execution_count": null,
      "outputs": [
        {
          "output_type": "stream",
          "name": "stdout",
          "text": [
            "Mounted at /content/drive\n"
          ]
        }
      ]
    },
    {
      "cell_type": "code",
      "execution_count": null,
      "metadata": {
        "colab": {
          "base_uri": "https://localhost:8080/"
        },
        "id": "4RioDm7Iirnv",
        "outputId": "fc51d1c9-2c0e-4e96-91af-8068df0f0662"
      },
      "outputs": [
        {
          "output_type": "stream",
          "name": "stdout",
          "text": [
            "Details for Al:\n",
            "  Volume: 15.931923303048151\n",
            "  Energy: -0.004882564299247605\n",
            "  Bulk Modulus: 0.24913771368349813\n",
            "Details for Ni:\n",
            "  Volume: 10.600868900812102\n",
            "  Energy: -0.013311738418053665\n",
            "  Bulk Modulus: 1.1046241310550273\n",
            "Details for Cu:\n",
            "  Volume: 11.565374510212838\n",
            "  Energy: -0.00703647873130997\n",
            "  Bulk Modulus: 0.8392875566772626\n",
            "Details for Pd:\n",
            "  Volume: 14.588455633485026\n",
            "  Energy: -0.0002691205244644834\n",
            "  Bulk Modulus: 1.1183158315343873\n",
            "Details for Ag:\n",
            "  Volume: 16.774808232027375\n",
            "  Energy: -0.00036686258794560445\n",
            "  Bulk Modulus: 0.6251315997176192\n",
            "Details for Pt:\n",
            "  Volume: 15.079861135270544\n",
            "  Energy: -0.00014870583541437554\n",
            "  Bulk Modulus: 1.736401895011947\n",
            "Details for Au:\n",
            "  Volume: 16.6835259635432\n",
            "  Energy: -0.0001350522580452207\n",
            "  Bulk Modulus: 1.0850176028639944\n"
          ]
        }
      ],
      "source": [
        "from ase.build import bulk\n",
        "from ase.calculators.emt import EMT\n",
        "from ase.db import connect\n",
        "from ase.eos import calculate_eos\n",
        "\n",
        "db = connect('bulk.db')\n",
        "for symb in ['Al', 'Ni', 'Cu', 'Pd', 'Ag', 'Pt', 'Au']:\n",
        "    atoms = bulk(symb, 'fcc')\n",
        "    atoms.calc = EMT()\n",
        "    eos = calculate_eos(atoms)\n",
        "    v, e, B = eos.fit()\n",
        "\n",
        "    atoms.cell *= (v / atoms.get_volume())**(1 / 3)\n",
        "    atoms.get_potential_energy()\n",
        "    db.write(atoms, bm=B)\n",
        "\n",
        "    print(f\"Details for {symb}:\")\n",
        "    print(f\"  Volume: {v}\")\n",
        "    print(f\"  Energy: {e}\")\n",
        "    print(f\"  Bulk Modulus: {B}\")"
      ]
    },
    {
      "cell_type": "code",
      "source": [
        "from ase.build import add_adsorbate,fcc111\n",
        "from ase.calculators.emt import EMT\n",
        "from ase.constraints import FixAtoms\n",
        "from ase.db import connect\n",
        "from ase.optimize import BFGS\n",
        "\n",
        "db1 = connect('bulk.db')\n",
        "db2 = connect('ads.db')\n",
        "\n",
        "def run(symb , a , n ,ads):\n",
        "  atoms = fcc111(symb,(1,1,n),a=a)\n",
        "  add_adsorbate(atoms , ads , height = 1.0 , position ='fcc')\n",
        "\n",
        "  #constraints on all atoms except the adsorbate\n",
        "  fixed = list(range(len(atoms) - 1))\n",
        "  atoms.constraints = [FixAtoms(indices=fixed)]\n",
        "\n",
        "  atoms.calc = EMT()\n",
        "  opt = BFGS(atoms, logfile = None)\n",
        "  opt.run(fmax = 0.01)\n",
        "  potential_energy = atoms.get_potential_energy()\n",
        "  print(f\"Potential energy: {potential_energy}\")\n",
        "\n",
        "  # Print atomic positions\n",
        "  print(\"Atomic positions:\")\n",
        "  for atom in atoms:\n",
        "    print(f\"{atom.symbol} {atom.position}\")\n",
        "\n",
        "  return atoms\n",
        "\n",
        "for row in db1.select():\n",
        "    a = row.cell[0, 1] * 2\n",
        "    symb = row.symbols[0]\n",
        "    for n in [1, 2, 3]:\n",
        "        for ads in 'CNO':\n",
        "            atoms = run(symb, a, n, ads)\n",
        "            db2.write(atoms, layers=n, surf=symb, ads=ads)"
      ],
      "metadata": {
        "colab": {
          "base_uri": "https://localhost:8080/"
        },
        "collapsed": true,
        "id": "R4Yy80eEjItj",
        "outputId": "0cd1d97b-1d62-435e-ec1f-8a912c32258a"
      },
      "execution_count": null,
      "outputs": [
        {
          "output_type": "stream",
          "name": "stdout",
          "text": [
            "Potential energy: 0.6779345525889684\n",
            "Atomic positions:\n",
            "Al [0. 0. 0.]\n",
            "C [1.41220498 0.81533693 1.25584007]\n",
            "Potential energy: 0.464036583947971\n",
            "Atomic positions:\n",
            "Al [0. 0. 0.]\n",
            "N [1.41220498 0.81533693 1.20937094]\n",
            "Potential energy: 0.7051746586906389\n",
            "Atomic positions:\n",
            "Al [0. 0. 0.]\n",
            "O [1.41220498 0.81533693 1.54691737]\n",
            "Potential energy: 0.6823336645147431\n",
            "Atomic positions:\n",
            "Al [-5.22620829e-17  1.63067385e+00  0.00000000e+00]\n",
            "Al [0.         0.         2.30612108]\n",
            "C [1.41220498 0.81533693 3.56834388]\n",
            "Potential energy: 0.4770641359148504\n",
            "Atomic positions:\n",
            "Al [-5.22620829e-17  1.63067385e+00  0.00000000e+00]\n",
            "Al [0.         0.         2.30612108]\n",
            "N [1.41220498 0.81533693 3.52530454]\n",
            "Potential energy: 0.7048812094815267\n",
            "Atomic positions:\n",
            "Al [-5.22620829e-17  1.63067385e+00  0.00000000e+00]\n",
            "Al [0.         0.         2.30612108]\n",
            "O [1.41220498 0.81533693 3.85882302]\n",
            "Potential energy: 0.6774273652982354\n",
            "Atomic positions:\n",
            "Al [1.41220498 0.81533693 0.        ]\n",
            "Al [-5.22620829e-17  1.63067385e+00  2.30612108e+00]\n",
            "Al [0.         0.         4.61224216]\n",
            "C [1.41220498 0.81533693 5.87448132]\n",
            "Potential energy: 0.47216171485560876\n",
            "Atomic positions:\n",
            "Al [1.41220498 0.81533693 0.        ]\n",
            "Al [-5.22620829e-17  1.63067385e+00  2.30612108e+00]\n",
            "Al [0.         0.         4.61224216]\n",
            "N [1.41220498 0.81533693 5.83143373]\n",
            "Potential energy: 0.6999596903931038\n",
            "Atomic positions:\n",
            "Al [1.41220498 0.81533693 0.        ]\n",
            "Al [-5.22620829e-17  1.63067385e+00  2.30612108e+00]\n",
            "Al [0.         0.         4.61224216]\n",
            "O [1.41220498 0.81533693 6.16495524]\n",
            "Potential energy: 0.8711641294133097\n",
            "Atomic positions:\n",
            "Ni [0. 0. 0.]\n",
            "C [1.23288383 0.71180581 1.37321096]\n",
            "Potential energy: 0.7199011470266194\n",
            "Atomic positions:\n",
            "Ni [0. 0. 0.]\n",
            "N [1.23288383 0.71180581 1.37841596]\n",
            "Potential energy: 0.9649114332831124\n",
            "Atomic positions:\n",
            "Ni [0. 0. 0.]\n",
            "O [1.23288383 0.71180581 1.58677682]\n",
            "Potential energy: 0.8633816855514596\n",
            "Atomic positions:\n",
            "Ni [-8.61843317e-18  1.42361163e+00  0.00000000e+00]\n",
            "Ni [0.         0.         2.01329087]\n",
            "C [1.23288383 0.71180581 3.38921996]\n",
            "Potential energy: 0.7166833140108597\n",
            "Atomic positions:\n",
            "Ni [-8.61843317e-18  1.42361163e+00  0.00000000e+00]\n",
            "Ni [0.         0.         2.01329087]\n",
            "N [1.23288383 0.71180581 3.39492369]\n",
            "Potential energy: 0.952994276745196\n",
            "Atomic positions:\n",
            "Ni [-8.61843317e-18  1.42361163e+00  0.00000000e+00]\n",
            "Ni [0.         0.         2.01329087]\n",
            "O [1.23288383 0.71180581 3.60304693]\n",
            "Potential energy: 0.8500379966657086\n",
            "Atomic positions:\n",
            "Ni [1.23288383 0.71180581 0.        ]\n",
            "Ni [-8.61843317e-18  1.42361163e+00  2.01329087e+00]\n",
            "Ni [0.         0.         4.02658174]\n",
            "C [1.23288383 0.71180581 5.40249663]\n",
            "Potential energy: 0.7033515690086869\n",
            "Atomic positions:\n",
            "Ni [1.23288383 0.71180581 0.        ]\n",
            "Ni [-8.61843317e-18  1.42361163e+00  2.01329087e+00]\n",
            "Ni [0.         0.         4.02658174]\n",
            "N [1.23288383 0.71180581 5.40821163]\n",
            "Potential energy: 0.9396322623449462\n",
            "Atomic positions:\n",
            "Ni [1.23288383 0.71180581 0.        ]\n",
            "Ni [-8.61843317e-18  1.42361163e+00  2.01329087e+00]\n",
            "Ni [0.         0.         4.02658174]\n",
            "O [1.23288383 0.71180581 5.61635085]\n",
            "Potential energy: 0.6387373545051052\n",
            "Atomic positions:\n",
            "Cu [0. 0. 0.]\n",
            "C [1.26919466 0.73276988 1.37111022]\n",
            "Potential energy: 0.4799190962065305\n",
            "Atomic positions:\n",
            "Cu [0. 0. 0.]\n",
            "N [1.26919466 0.73276988 1.36924164]\n",
            "Potential energy: 0.6957887196524739\n",
            "Atomic positions:\n",
            "Cu [0. 0. 0.]\n",
            "O [1.26919466 0.73276988 1.58057813]\n",
            "Potential energy: 0.6225219205223698\n",
            "Atomic positions:\n",
            "Cu [2.70452304e-17 1.46553976e+00 0.00000000e+00]\n",
            "Cu [0.         0.         2.07258621]\n",
            "C [1.26919466 0.73276988 3.45060719]\n",
            "Potential energy: 0.4695155252803973\n",
            "Atomic positions:\n",
            "Cu [2.70452304e-17 1.46553976e+00 0.00000000e+00]\n",
            "Cu [0.         0.         2.07258621]\n",
            "N [1.26919466 0.73276988 3.44819083]\n",
            "Potential energy: 0.6708254420918776\n",
            "Atomic positions:\n",
            "Cu [2.70452304e-17 1.46553976e+00 0.00000000e+00]\n",
            "Cu [0.         0.         2.07258621]\n",
            "O [1.26919466 0.73276988 3.65909496]\n",
            "Potential energy: 0.6154370707584595\n",
            "Atomic positions:\n",
            "Cu [1.26919466 0.73276988 0.        ]\n",
            "Cu [2.70452304e-17 1.46553976e+00 2.07258621e+00]\n",
            "Cu [0.         0.         4.14517241]\n",
            "C [1.26919466 0.73276988 5.52324246]\n",
            "Potential energy: 0.4624499484627709\n",
            "Atomic positions:\n",
            "Cu [1.26919466 0.73276988 0.        ]\n",
            "Cu [2.70452304e-17 1.46553976e+00 2.07258621e+00]\n",
            "Cu [0.         0.         4.14517241]\n",
            "N [1.26919466 0.73276988 5.52081597]\n",
            "Potential energy: 0.663681729443951\n",
            "Atomic positions:\n",
            "Cu [1.26919466 0.73276988 0.        ]\n",
            "Cu [2.70452304e-17 1.46553976e+00 2.07258621e+00]\n",
            "Cu [0.         0.         4.14517241]\n",
            "O [1.26919466 0.73276988 5.73170571]\n",
            "Potential energy: 0.46210082466696845\n",
            "Atomic positions:\n",
            "Pd [0. 0. 0.]\n",
            "C [1.37133884 0.79174285 1.43567436]\n",
            "Potential energy: 0.31633136567656406\n",
            "Atomic positions:\n",
            "Pd [0. 0. 0.]\n",
            "N [1.37133884 0.79174285 1.45096739]\n",
            "Potential energy: 0.5504993660124646\n",
            "Atomic positions:\n",
            "Pd [0. 0. 0.]\n",
            "O [1.37133884 0.79174285 1.63634326]\n",
            "Potential energy: 0.42012049873953217\n",
            "Atomic positions:\n",
            "Pd [-5.07497318e-17  1.58348570e+00  0.00000000e+00]\n",
            "Pd [0.         0.         2.23938695]\n",
            "C [1.37133884 0.79174285 3.68768427]\n",
            "Potential energy: 0.2803043123175861\n",
            "Atomic positions:\n",
            "Pd [-5.07497318e-17  1.58348570e+00  0.00000000e+00]\n",
            "Pd [0.         0.         2.23938695]\n",
            "N [1.37133884 0.79174285 3.69999112]\n",
            "Potential energy: 0.4902530351717145\n",
            "Atomic positions:\n",
            "Pd [-5.07497318e-17  1.58348570e+00  0.00000000e+00]\n",
            "Pd [0.         0.         2.23938695]\n",
            "O [1.37133884 0.79174285 3.88322045]\n",
            "Potential energy: 0.4198654327990492\n",
            "Atomic positions:\n",
            "Pd [1.37133884 0.79174285 0.        ]\n",
            "Pd [-5.07497318e-17  1.58348570e+00  2.23938695e+00]\n",
            "Pd [0.        0.        4.4787739]\n",
            "C [1.37133884 0.79174285 5.92712202]\n",
            "Potential energy: 0.2800645948732634\n",
            "Atomic positions:\n",
            "Pd [1.37133884 0.79174285 0.        ]\n",
            "Pd [-5.07497318e-17  1.58348570e+00  2.23938695e+00]\n",
            "Pd [0.        0.        4.4787739]\n",
            "N [1.37133884 0.79174285 5.93941615]\n",
            "Potential energy: 0.48993403090188226\n",
            "Atomic positions:\n",
            "Pd [1.37133884 0.79174285 0.        ]\n",
            "Pd [-5.07497318e-17  1.58348570e+00  2.23938695e+00]\n",
            "Pd [0.        0.        4.4787739]\n",
            "O [1.37133884 0.79174285 6.12262948]\n",
            "Potential energy: 0.44690902312973035\n",
            "Atomic positions:\n",
            "Ag [0. 0. 0.]\n",
            "C [1.43668269 0.82946914 1.36735461]\n",
            "Potential energy: 0.2651365686045182\n",
            "Atomic positions:\n",
            "Ag [0. 0. 0.]\n",
            "N [1.43668269 0.82946914 1.36720705]\n",
            "Potential energy: 0.5261906841407251\n",
            "Atomic positions:\n",
            "Ag [0. 0. 0.]\n",
            "O [1.43668269 0.82946914 1.5928194 ]\n",
            "Potential energy: 0.4297122972560423\n",
            "Atomic positions:\n",
            "Ag [2.08469284e-17 1.65893827e+00 0.00000000e+00]\n",
            "Ag [0.       0.       2.346093]\n",
            "C [1.43668269 0.82946914 3.72302052]\n",
            "Potential energy: 0.25323883406336023\n",
            "Atomic positions:\n",
            "Ag [2.08469284e-17 1.65893827e+00 0.00000000e+00]\n",
            "Ag [0.       0.       2.346093]\n",
            "N [1.43668269 0.82946914 3.72096961]\n",
            "Potential energy: 0.4970689165494724\n",
            "Atomic positions:\n",
            "Ag [2.08469284e-17 1.65893827e+00 0.00000000e+00]\n",
            "Ag [0.       0.       2.346093]\n",
            "O [1.43668269 0.82946914 3.94494306]\n",
            "Potential energy: 0.4293394742775578\n",
            "Atomic positions:\n",
            "Ag [1.43668269 0.82946914 0.        ]\n",
            "Ag [2.08469284e-17 1.65893827e+00 2.34609300e+00]\n",
            "Ag [0.         0.         4.69218601]\n",
            "C [1.43668269 0.82946914 6.06915111]\n",
            "Potential energy: 0.25287886302179885\n",
            "Atomic positions:\n",
            "Ag [1.43668269 0.82946914 0.        ]\n",
            "Ag [2.08469284e-17 1.65893827e+00 2.34609300e+00]\n",
            "Ag [0.         0.         4.69218601]\n",
            "N [1.43668269 0.82946914 6.06709186]\n",
            "Potential energy: 0.49665526858227427\n",
            "Atomic positions:\n",
            "Ag [1.43668269 0.82946914 0.        ]\n",
            "Ag [2.08469284e-17 1.65893827e+00 2.34609300e+00]\n",
            "Ag [0.         0.         4.69218601]\n",
            "O [1.43668269 0.82946914 6.29105209]\n",
            "Potential energy: 0.5386040179507408\n",
            "Atomic positions:\n",
            "Pt [0. 0. 0.]\n",
            "C [1.38656676 0.80053469 1.48352313]\n",
            "Potential energy: 0.4291408463702595\n",
            "Atomic positions:\n",
            "Pt [0. 0. 0.]\n",
            "N [1.38656676 0.80053469 1.51997637]\n",
            "Potential energy: 0.6599213498898937\n",
            "Atomic positions:\n",
            "Pt [0. 0. 0.]\n",
            "O [1.38656676 0.80053469 1.69502885]\n",
            "Potential energy: 0.4325461257958185\n",
            "Atomic positions:\n",
            "Pt [-1.43058439e-17  1.60106938e+00  0.00000000e+00]\n",
            "Pt [0.         0.         2.26425404]\n",
            "C [1.38656676 0.80053469 3.76747933]\n",
            "Potential energy: 0.3284271930274576\n",
            "Atomic positions:\n",
            "Pt [-1.43058439e-17  1.60106938e+00  0.00000000e+00]\n",
            "Pt [0.         0.         2.26425404]\n",
            "N [1.38656676 0.80053469 3.7987242 ]\n",
            "Potential energy: 0.523819098045788\n",
            "Atomic positions:\n",
            "Pt [-1.43058439e-17  1.60106938e+00  0.00000000e+00]\n",
            "Pt [0.         0.         2.26425404]\n",
            "O [1.38656676 0.80053469 3.97014839]\n",
            "Potential energy: 0.43234287368335256\n",
            "Atomic positions:\n",
            "Pt [1.38656676 0.80053469 0.        ]\n",
            "Pt [-1.43058439e-17  1.60106938e+00  2.26425404e+00]\n",
            "Pt [0.         0.         4.52850807]\n",
            "C [1.38656676 0.80053469 6.03179988]\n",
            "Potential energy: 0.32823391650737666\n",
            "Atomic positions:\n",
            "Pt [1.38656676 0.80053469 0.        ]\n",
            "Pt [-1.43058439e-17  1.60106938e+00  2.26425404e+00]\n",
            "Pt [0.         0.         4.52850807]\n",
            "N [1.38656676 0.80053469 6.06302558]\n",
            "Potential energy: 0.5235263577170244\n",
            "Atomic positions:\n",
            "Pt [1.38656676 0.80053469 0.        ]\n",
            "Pt [-1.43058439e-17  1.60106938e+00  2.26425404e+00]\n",
            "Pt [0.         0.         4.52850807]\n",
            "O [1.38656676 0.80053469 6.23443105]\n",
            "Potential energy: 0.5059604468457448\n",
            "Atomic positions:\n",
            "Au [0. 0. 0.]\n",
            "C [1.43407198 0.82796184 1.46544855]\n",
            "Potential energy: 0.36575158408349395\n",
            "Atomic positions:\n",
            "Au [0. 0. 0.]\n",
            "N [1.43407198 0.82796184 1.48461809]\n",
            "Potential energy: 0.5737315086409698\n",
            "Atomic positions:\n",
            "Au [0. 0. 0.]\n",
            "O [1.43407198 0.82796184 1.6861757 ]\n",
            "Potential energy: 0.4297387524436216\n",
            "Atomic positions:\n",
            "Au [2.09435439e-17 1.65592369e+00 0.00000000e+00]\n",
            "Au [0.         0.         2.34182974]\n",
            "C [1.43407198 0.82796184 3.82656457]\n",
            "Potential energy: 0.29640013642543295\n",
            "Atomic positions:\n",
            "Au [2.09435439e-17 1.65592369e+00 0.00000000e+00]\n",
            "Au [0.         0.         2.34182974]\n",
            "N [1.43407198 0.82796184 3.84106438]\n",
            "Potential energy: 0.473897543011228\n",
            "Atomic positions:\n",
            "Au [2.09435439e-17 1.65592369e+00 0.00000000e+00]\n",
            "Au [0.         0.         2.34182974]\n",
            "O [1.43407198 0.82796184 4.03814921]\n",
            "Potential energy: 0.4294952539304715\n",
            "Atomic positions:\n",
            "Au [1.43407198 0.82796184 0.        ]\n",
            "Au [2.09435439e-17 1.65592369e+00 2.34182974e+00]\n",
            "Au [0.         0.         4.68365948]\n",
            "C [1.43407198 0.82796184 6.16845842]\n",
            "Potential energy: 0.296172166755011\n",
            "Atomic positions:\n",
            "Au [1.43407198 0.82796184 0.        ]\n",
            "Au [2.09435439e-17 1.65592369e+00 2.34182974e+00]\n",
            "Au [0.         0.         4.68365948]\n",
            "N [1.43407198 0.82796184 6.18294131]\n",
            "Potential energy: 0.4735837158442706\n",
            "Atomic positions:\n",
            "Au [1.43407198 0.82796184 0.        ]\n",
            "Au [2.09435439e-17 1.65592369e+00 2.34182974e+00]\n",
            "Au [0.         0.         4.68365948]\n",
            "O [1.43407198 0.82796184 6.38000556]\n"
          ]
        }
      ]
    },
    {
      "cell_type": "markdown",
      "source": [
        "**Formation of ZrS2**"
      ],
      "metadata": {
        "id": "ChfKWSPctqIV"
      }
    },
    {
      "cell_type": "code",
      "source": [
        "#Code to form ZrS2 and determine the basic properties of the material\n",
        "from ase.build import mx2 #to create layered transition metal\n",
        "from ase.calculators.emt import EMT\n",
        "from ase.db import connect\n",
        "formula = 'ZrS2'\n",
        "structure = '1T' #Octahedral crystal structure\n",
        "atoms = mx2(formula, kind=structure, a=3.66)#approximate lattice parameters\n",
        "atoms.calc = EMT()\n",
        "print(f\"Chemical Formula : {atoms.get_chemical_formula()}\")\n",
        "print(f\"Number of atoms: {len(atoms)}\")\n",
        "print(f\"Lattice vectors:\\n{atoms.cell}\")\n",
        "print(f\"Atom positions:\\n{atoms.get_positions()}\")\n",
        "db = connect('ZrS2.db')"
      ],
      "metadata": {
        "id": "nr7cIT8SrvzW",
        "colab": {
          "base_uri": "https://localhost:8080/"
        },
        "outputId": "3179ba29-a6a7-48f5-b9ba-e481c64fe93e"
      },
      "execution_count": null,
      "outputs": [
        {
          "output_type": "stream",
          "name": "stdout",
          "text": [
            "Chemical Formula : S2Zr\n",
            "Number of atoms: 3\n",
            "Lattice vectors:\n",
            "Cell([[3.66, 0.0, 0.0], [-1.83, 3.1696529778510456, 0.0], [0.0, 0.0, 0.0]])\n",
            "Atom positions:\n",
            "[[ 0.00000000e+00  0.00000000e+00  0.00000000e+00]\n",
            " [ 1.83000000e+00  1.05655099e+00  1.59500000e+00]\n",
            " [-6.29126381e-18  2.11310199e+00 -1.59500000e+00]]\n"
          ]
        }
      ]
    },
    {
      "cell_type": "markdown",
      "source": [
        "**Adsorbing Au on the ZrS2 surface**"
      ],
      "metadata": {
        "id": "N1lfVg-iz78o"
      }
    },
    {
      "cell_type": "code",
      "source": [
        "!apt-get update\n",
        "!apt-get install -y build-essential libfftw3-dev libxc-dev"
      ],
      "metadata": {
        "colab": {
          "base_uri": "https://localhost:8080/"
        },
        "id": "0FdO04MHDEdm",
        "outputId": "6286b1e4-3654-4d69-8ba1-0754b0372659"
      },
      "execution_count": 2,
      "outputs": [
        {
          "output_type": "stream",
          "name": "stdout",
          "text": [
            "Get:1 https://cloud.r-project.org/bin/linux/ubuntu jammy-cran40/ InRelease [3,632 B]\n",
            "Hit:2 http://archive.ubuntu.com/ubuntu jammy InRelease\n",
            "Get:3 http://security.ubuntu.com/ubuntu jammy-security InRelease [129 kB]\n",
            "Get:4 https://developer.download.nvidia.com/compute/cuda/repos/ubuntu2204/x86_64  InRelease [1,581 B]\n",
            "Get:5 https://r2u.stat.illinois.edu/ubuntu jammy InRelease [6,555 B]\n",
            "Get:6 http://archive.ubuntu.com/ubuntu jammy-updates InRelease [128 kB]\n",
            "Get:7 https://ppa.launchpadcontent.net/deadsnakes/ppa/ubuntu jammy InRelease [18.1 kB]\n",
            "Hit:8 https://ppa.launchpadcontent.net/graphics-drivers/ppa/ubuntu jammy InRelease\n",
            "Hit:9 https://ppa.launchpadcontent.net/ubuntugis/ppa/ubuntu jammy InRelease\n",
            "Get:10 http://archive.ubuntu.com/ubuntu jammy-backports InRelease [127 kB]\n",
            "Get:11 https://cloud.r-project.org/bin/linux/ubuntu jammy-cran40/ Packages [79.8 kB]\n",
            "Get:12 https://developer.download.nvidia.com/compute/cuda/repos/ubuntu2204/x86_64  Packages [1,798 kB]\n",
            "Get:13 https://r2u.stat.illinois.edu/ubuntu jammy/main amd64 Packages [2,746 kB]\n",
            "Get:14 https://r2u.stat.illinois.edu/ubuntu jammy/main all Packages [9,045 kB]\n",
            "Get:15 http://security.ubuntu.com/ubuntu jammy-security/universe amd64 Packages [1,250 kB]\n",
            "Get:16 http://security.ubuntu.com/ubuntu jammy-security/main amd64 Packages [2,986 kB]\n",
            "Get:17 https://ppa.launchpadcontent.net/deadsnakes/ppa/ubuntu jammy/main amd64 Packages [33.2 kB]\n",
            "Get:18 http://archive.ubuntu.com/ubuntu jammy-updates/main amd64 Packages [3,296 kB]\n",
            "Get:19 http://archive.ubuntu.com/ubuntu jammy-updates/universe amd64 Packages [1,557 kB]\n",
            "Fetched 23.2 MB in 6s (4,091 kB/s)\n",
            "Reading package lists... Done\n",
            "W: Skipping acquire of configured file 'main/source/Sources' as repository 'https://r2u.stat.illinois.edu/ubuntu jammy InRelease' does not seem to provide it (sources.list entry misspelt?)\n",
            "Reading package lists... Done\n",
            "Building dependency tree... Done\n",
            "Reading state information... Done\n",
            "build-essential is already the newest version (12.9ubuntu3).\n",
            "The following additional packages will be installed:\n",
            "  libfftw3-bin libfftw3-double3 libfftw3-long3 libfftw3-quad3 libfftw3-single3\n",
            "  libxc9\n",
            "Suggested packages:\n",
            "  libfftw3-doc\n",
            "The following NEW packages will be installed:\n",
            "  libfftw3-bin libfftw3-dev libfftw3-double3 libfftw3-long3 libfftw3-quad3\n",
            "  libfftw3-single3 libxc-dev libxc9\n",
            "0 upgraded, 8 newly installed, 0 to remove and 49 not upgraded.\n",
            "Need to get 16.6 MB of archives.\n",
            "After this operation, 65.9 MB of additional disk space will be used.\n",
            "Get:1 http://archive.ubuntu.com/ubuntu jammy/main amd64 libfftw3-double3 amd64 3.3.8-2ubuntu8 [770 kB]\n",
            "Get:2 http://archive.ubuntu.com/ubuntu jammy/main amd64 libfftw3-long3 amd64 3.3.8-2ubuntu8 [335 kB]\n",
            "Get:3 http://archive.ubuntu.com/ubuntu jammy/main amd64 libfftw3-quad3 amd64 3.3.8-2ubuntu8 [614 kB]\n",
            "Get:4 http://archive.ubuntu.com/ubuntu jammy/main amd64 libfftw3-single3 amd64 3.3.8-2ubuntu8 [800 kB]\n",
            "Get:5 http://archive.ubuntu.com/ubuntu jammy/main amd64 libfftw3-bin amd64 3.3.8-2ubuntu8 [35.5 kB]\n",
            "Get:6 http://archive.ubuntu.com/ubuntu jammy/main amd64 libfftw3-dev amd64 3.3.8-2ubuntu8 [2,101 kB]\n",
            "Get:7 http://archive.ubuntu.com/ubuntu jammy/universe amd64 libxc9 amd64 5.1.7-1ubuntu1 [3,900 kB]\n",
            "Get:8 http://archive.ubuntu.com/ubuntu jammy/universe amd64 libxc-dev amd64 5.1.7-1ubuntu1 [8,038 kB]\n",
            "Fetched 16.6 MB in 0s (49.0 MB/s)\n",
            "Selecting previously unselected package libfftw3-double3:amd64.\n",
            "(Reading database ... 126319 files and directories currently installed.)\n",
            "Preparing to unpack .../0-libfftw3-double3_3.3.8-2ubuntu8_amd64.deb ...\n",
            "Unpacking libfftw3-double3:amd64 (3.3.8-2ubuntu8) ...\n",
            "Selecting previously unselected package libfftw3-long3:amd64.\n",
            "Preparing to unpack .../1-libfftw3-long3_3.3.8-2ubuntu8_amd64.deb ...\n",
            "Unpacking libfftw3-long3:amd64 (3.3.8-2ubuntu8) ...\n",
            "Selecting previously unselected package libfftw3-quad3:amd64.\n",
            "Preparing to unpack .../2-libfftw3-quad3_3.3.8-2ubuntu8_amd64.deb ...\n",
            "Unpacking libfftw3-quad3:amd64 (3.3.8-2ubuntu8) ...\n",
            "Selecting previously unselected package libfftw3-single3:amd64.\n",
            "Preparing to unpack .../3-libfftw3-single3_3.3.8-2ubuntu8_amd64.deb ...\n",
            "Unpacking libfftw3-single3:amd64 (3.3.8-2ubuntu8) ...\n",
            "Selecting previously unselected package libfftw3-bin.\n",
            "Preparing to unpack .../4-libfftw3-bin_3.3.8-2ubuntu8_amd64.deb ...\n",
            "Unpacking libfftw3-bin (3.3.8-2ubuntu8) ...\n",
            "Selecting previously unselected package libfftw3-dev:amd64.\n",
            "Preparing to unpack .../5-libfftw3-dev_3.3.8-2ubuntu8_amd64.deb ...\n",
            "Unpacking libfftw3-dev:amd64 (3.3.8-2ubuntu8) ...\n",
            "Selecting previously unselected package libxc9:amd64.\n",
            "Preparing to unpack .../6-libxc9_5.1.7-1ubuntu1_amd64.deb ...\n",
            "Unpacking libxc9:amd64 (5.1.7-1ubuntu1) ...\n",
            "Selecting previously unselected package libxc-dev.\n",
            "Preparing to unpack .../7-libxc-dev_5.1.7-1ubuntu1_amd64.deb ...\n",
            "Unpacking libxc-dev (5.1.7-1ubuntu1) ...\n",
            "Setting up libfftw3-single3:amd64 (3.3.8-2ubuntu8) ...\n",
            "Setting up libfftw3-long3:amd64 (3.3.8-2ubuntu8) ...\n",
            "Setting up libfftw3-quad3:amd64 (3.3.8-2ubuntu8) ...\n",
            "Setting up libfftw3-double3:amd64 (3.3.8-2ubuntu8) ...\n",
            "Setting up libxc9:amd64 (5.1.7-1ubuntu1) ...\n",
            "Setting up libfftw3-bin (3.3.8-2ubuntu8) ...\n",
            "Setting up libxc-dev (5.1.7-1ubuntu1) ...\n",
            "Setting up libfftw3-dev:amd64 (3.3.8-2ubuntu8) ...\n",
            "Processing triggers for man-db (2.10.2-1) ...\n",
            "Processing triggers for libc-bin (2.35-0ubuntu3.8) ...\n",
            "/sbin/ldconfig.real: /usr/local/lib/libtbbmalloc.so.2 is not a symbolic link\n",
            "\n",
            "/sbin/ldconfig.real: /usr/local/lib/libur_adapter_opencl.so.0 is not a symbolic link\n",
            "\n",
            "/sbin/ldconfig.real: /usr/local/lib/libtbbbind_2_5.so.3 is not a symbolic link\n",
            "\n",
            "/sbin/ldconfig.real: /usr/local/lib/libur_adapter_level_zero.so.0 is not a symbolic link\n",
            "\n",
            "/sbin/ldconfig.real: /usr/local/lib/libtcm_debug.so.1 is not a symbolic link\n",
            "\n",
            "/sbin/ldconfig.real: /usr/local/lib/libur_loader.so.0 is not a symbolic link\n",
            "\n",
            "/sbin/ldconfig.real: /usr/local/lib/libtbbbind_2_0.so.3 is not a symbolic link\n",
            "\n",
            "/sbin/ldconfig.real: /usr/local/lib/libtbb.so.12 is not a symbolic link\n",
            "\n",
            "/sbin/ldconfig.real: /usr/local/lib/libtbbmalloc_proxy.so.2 is not a symbolic link\n",
            "\n",
            "/sbin/ldconfig.real: /usr/local/lib/libumf.so.0 is not a symbolic link\n",
            "\n",
            "/sbin/ldconfig.real: /usr/local/lib/libtbbbind.so.3 is not a symbolic link\n",
            "\n",
            "/sbin/ldconfig.real: /usr/local/lib/libtcm.so.1 is not a symbolic link\n",
            "\n",
            "/sbin/ldconfig.real: /usr/local/lib/libhwloc.so.15 is not a symbolic link\n",
            "\n"
          ]
        }
      ]
    },
    {
      "cell_type": "code",
      "source": [
        "import sys\n",
        "print(sys.path)"
      ],
      "metadata": {
        "colab": {
          "base_uri": "https://localhost:8080/"
        },
        "id": "OFiKXQHdDLrl",
        "outputId": "65e80daf-7406-4a93-8b61-2b13cd17ce20"
      },
      "execution_count": 3,
      "outputs": [
        {
          "output_type": "stream",
          "name": "stdout",
          "text": [
            "['/content', '/env/python', '/usr/lib/python311.zip', '/usr/lib/python3.11', '/usr/lib/python3.11/lib-dynload', '', '/usr/local/lib/python3.11/dist-packages', '/usr/lib/python3/dist-packages', '/usr/local/lib/python3.11/dist-packages/IPython/extensions', '/usr/local/lib/python3.11/dist-packages/setuptools/_vendor', '/root/.ipython']\n"
          ]
        }
      ]
    },
    {
      "cell_type": "code",
      "source": [
        "\n",
        "!{sys.executable} -m pip uninstall gpaw"
      ],
      "metadata": {
        "colab": {
          "base_uri": "https://localhost:8080/"
        },
        "id": "hOoIVBsU4LmE",
        "outputId": "1c49e999-ec4e-496d-c82b-636beadf48ed"
      },
      "execution_count": 4,
      "outputs": [
        {
          "output_type": "stream",
          "name": "stdout",
          "text": [
            "\u001b[33mWARNING: Skipping gpaw as it is not installed.\u001b[0m\u001b[33m\n",
            "\u001b[0m"
          ]
        }
      ]
    },
    {
      "cell_type": "code",
      "source": [
        "!pip3 install gpaw"
      ],
      "metadata": {
        "colab": {
          "base_uri": "https://localhost:8080/"
        },
        "id": "ED750LyX4bK6",
        "outputId": "a52ad40d-78f5-47ea-8774-6d1f45bd8cdc"
      },
      "execution_count": 5,
      "outputs": [
        {
          "output_type": "stream",
          "name": "stdout",
          "text": [
            "Collecting gpaw\n",
            "  Downloading gpaw-25.1.0.tar.gz (2.0 MB)\n",
            "\u001b[?25l     \u001b[90m━━━━━━━━━━━━━━━━━━━━━━━━━━━━━━━━━━━━━━━━\u001b[0m \u001b[32m0.0/2.0 MB\u001b[0m \u001b[31m?\u001b[0m eta \u001b[36m-:--:--\u001b[0m\r\u001b[2K     \u001b[91m━━━━━━━━━━━━━━━━━━━━━━━━━━━━━━━━━━━━━━━\u001b[0m\u001b[91m╸\u001b[0m \u001b[32m2.0/2.0 MB\u001b[0m \u001b[31m113.7 MB/s\u001b[0m eta \u001b[36m0:00:01\u001b[0m\r\u001b[2K     \u001b[90m━━━━━━━━━━━━━━━━━━━━━━━━━━━━━━━━━━━━━━━━\u001b[0m \u001b[32m2.0/2.0 MB\u001b[0m \u001b[31m54.7 MB/s\u001b[0m eta \u001b[36m0:00:00\u001b[0m\n",
            "\u001b[?25h  Preparing metadata (setup.py) ... \u001b[?25l\u001b[?25hdone\n",
            "Requirement already satisfied: ase>=3.23.0 in /usr/local/lib/python3.11/dist-packages (from gpaw) (3.25.0)\n",
            "Requirement already satisfied: numpy in /usr/local/lib/python3.11/dist-packages (from gpaw) (2.0.2)\n",
            "Requirement already satisfied: scipy>=1.6.0 in /usr/local/lib/python3.11/dist-packages (from gpaw) (1.15.3)\n",
            "Requirement already satisfied: matplotlib>=3.3.4 in /usr/local/lib/python3.11/dist-packages (from ase>=3.23.0->gpaw) (3.10.0)\n",
            "Requirement already satisfied: contourpy>=1.0.1 in /usr/local/lib/python3.11/dist-packages (from matplotlib>=3.3.4->ase>=3.23.0->gpaw) (1.3.2)\n",
            "Requirement already satisfied: cycler>=0.10 in /usr/local/lib/python3.11/dist-packages (from matplotlib>=3.3.4->ase>=3.23.0->gpaw) (0.12.1)\n",
            "Requirement already satisfied: fonttools>=4.22.0 in /usr/local/lib/python3.11/dist-packages (from matplotlib>=3.3.4->ase>=3.23.0->gpaw) (4.58.2)\n",
            "Requirement already satisfied: kiwisolver>=1.3.1 in /usr/local/lib/python3.11/dist-packages (from matplotlib>=3.3.4->ase>=3.23.0->gpaw) (1.4.8)\n",
            "Requirement already satisfied: packaging>=20.0 in /usr/local/lib/python3.11/dist-packages (from matplotlib>=3.3.4->ase>=3.23.0->gpaw) (24.2)\n",
            "Requirement already satisfied: pillow>=8 in /usr/local/lib/python3.11/dist-packages (from matplotlib>=3.3.4->ase>=3.23.0->gpaw) (11.2.1)\n",
            "Requirement already satisfied: pyparsing>=2.3.1 in /usr/local/lib/python3.11/dist-packages (from matplotlib>=3.3.4->ase>=3.23.0->gpaw) (3.2.3)\n",
            "Requirement already satisfied: python-dateutil>=2.7 in /usr/local/lib/python3.11/dist-packages (from matplotlib>=3.3.4->ase>=3.23.0->gpaw) (2.9.0.post0)\n",
            "Requirement already satisfied: six>=1.5 in /usr/local/lib/python3.11/dist-packages (from python-dateutil>=2.7->matplotlib>=3.3.4->ase>=3.23.0->gpaw) (1.17.0)\n",
            "Building wheels for collected packages: gpaw\n",
            "  Building wheel for gpaw (setup.py) ... \u001b[?25l\u001b[?25hdone\n",
            "  Created wheel for gpaw: filename=gpaw-25.1.0-cp311-cp311-linux_x86_64.whl size=2822204 sha256=e66c52ec3510bca016addae14cfba416eeb173632ad058141512417ba1f94524\n",
            "  Stored in directory: /root/.cache/pip/wheels/f5/1e/05/db6758eab2e82f997345fec978af4684e2d16eb1913e4769db\n",
            "Successfully built gpaw\n",
            "Installing collected packages: gpaw\n",
            "Successfully installed gpaw-25.1.0\n"
          ]
        }
      ]
    },
    {
      "cell_type": "code",
      "source": [
        "import sys\n",
        "!{sys.executable} -m pip install --upgrade --no-cache-dir --prefix /usr/local gpaw"
      ],
      "metadata": {
        "colab": {
          "base_uri": "https://localhost:8080/"
        },
        "id": "xD1rpj9KFuoH",
        "outputId": "4c90f325-a821-4160-f127-ca5ed066402e"
      },
      "execution_count": 6,
      "outputs": [
        {
          "output_type": "stream",
          "name": "stdout",
          "text": [
            "Requirement already satisfied: gpaw in /usr/local/lib/python3.11/dist-packages (25.1.0)\n",
            "Requirement already satisfied: ase>=3.23.0 in /usr/local/lib/python3.11/dist-packages (from gpaw) (3.25.0)\n",
            "Requirement already satisfied: numpy in /usr/local/lib/python3.11/dist-packages (from gpaw) (2.0.2)\n",
            "Requirement already satisfied: scipy>=1.6.0 in /usr/local/lib/python3.11/dist-packages (from gpaw) (1.15.3)\n",
            "Requirement already satisfied: matplotlib>=3.3.4 in /usr/local/lib/python3.11/dist-packages (from ase>=3.23.0->gpaw) (3.10.0)\n",
            "Requirement already satisfied: contourpy>=1.0.1 in /usr/local/lib/python3.11/dist-packages (from matplotlib>=3.3.4->ase>=3.23.0->gpaw) (1.3.2)\n",
            "Requirement already satisfied: cycler>=0.10 in /usr/local/lib/python3.11/dist-packages (from matplotlib>=3.3.4->ase>=3.23.0->gpaw) (0.12.1)\n",
            "Requirement already satisfied: fonttools>=4.22.0 in /usr/local/lib/python3.11/dist-packages (from matplotlib>=3.3.4->ase>=3.23.0->gpaw) (4.58.2)\n",
            "Requirement already satisfied: kiwisolver>=1.3.1 in /usr/local/lib/python3.11/dist-packages (from matplotlib>=3.3.4->ase>=3.23.0->gpaw) (1.4.8)\n",
            "Requirement already satisfied: packaging>=20.0 in /usr/local/lib/python3.11/dist-packages (from matplotlib>=3.3.4->ase>=3.23.0->gpaw) (24.2)\n",
            "Requirement already satisfied: pillow>=8 in /usr/local/lib/python3.11/dist-packages (from matplotlib>=3.3.4->ase>=3.23.0->gpaw) (11.2.1)\n",
            "Requirement already satisfied: pyparsing>=2.3.1 in /usr/local/lib/python3.11/dist-packages (from matplotlib>=3.3.4->ase>=3.23.0->gpaw) (3.2.3)\n",
            "Requirement already satisfied: python-dateutil>=2.7 in /usr/local/lib/python3.11/dist-packages (from matplotlib>=3.3.4->ase>=3.23.0->gpaw) (2.9.0.post0)\n",
            "Requirement already satisfied: six>=1.5 in /usr/local/lib/python3.11/dist-packages (from python-dateutil>=2.7->matplotlib>=3.3.4->ase>=3.23.0->gpaw) (1.17.0)\n"
          ]
        }
      ]
    },
    {
      "cell_type": "code",
      "source": [
        "from ase.build import add_adsorbate\n",
        "from ase.calculators.emt import EMT\n",
        "from ase.db import connect\n",
        "from ase.constraints import FixAtoms\n",
        "from ase.optimize import BFGS\n",
        "from ase.build import mx2 # Import mx2 here\n",
        "\n",
        "formula = 'ZrS2'\n",
        "structure = '1T' #Octahedral Cyrstal Structure Assume\n",
        "a_ZrS2 = 3.66 #APPROX\n",
        "vacuum = 8.0 #adding up to avoid interaction with periodic instants\n",
        "\n",
        "ZrS2_layer = mx2(formula,kind = structure ,a=a_ZrS2 , size=(2,2,1),vacuum = vacuum)\n",
        "ZrS2_layer.calc = EMT()\n",
        "print(\"ZrS2 layer :\")\n",
        "print(f\"Chemical Formula : {ZrS2_layer.get_chemical_formula()}\")\n",
        "print(f\"Number of atoms: {len(ZrS2_layer)}\")\n",
        "print(f\"Lattice vectors:\\n{ZrS2_layer.cell}\")\n",
        "print(f\"Atom positions:\\n{ZrS2_layer.get_positions()}\")"
      ],
      "metadata": {
        "id": "7EYQoI-Frvv5",
        "colab": {
          "base_uri": "https://localhost:8080/"
        },
        "outputId": "c46e8841-8f3b-4ceb-c610-a2d6f9812248"
      },
      "execution_count": null,
      "outputs": [
        {
          "output_type": "stream",
          "name": "stdout",
          "text": [
            "ZrS2 layer :\n",
            "Chemical Formula : S8Zr4\n",
            "Number of atoms: 12\n",
            "Lattice vectors:\n",
            "Cell([[7.32, 0.0, 0.0], [-3.66, 6.339305955702091, 0.0], [0.0, -0.0, 19.19]])\n",
            "Atom positions:\n",
            "[[ 0.00000000e+00  0.00000000e+00  9.59500000e+00]\n",
            " [ 1.83000000e+00  1.05655099e+00  1.11900000e+01]\n",
            " [-6.29126381e-18  2.11310199e+00  8.00000000e+00]\n",
            " [-1.83000000e+00  3.16965298e+00  9.59500000e+00]\n",
            " [-2.22044605e-16  4.22620397e+00  1.11900000e+01]\n",
            " [-1.83000000e+00  5.28275496e+00  8.00000000e+00]\n",
            " [ 3.66000000e+00  0.00000000e+00  9.59500000e+00]\n",
            " [ 5.49000000e+00  1.05655099e+00  1.11900000e+01]\n",
            " [ 3.66000000e+00  2.11310199e+00  8.00000000e+00]\n",
            " [ 1.83000000e+00  3.16965298e+00  9.59500000e+00]\n",
            " [ 3.66000000e+00  4.22620397e+00  1.11900000e+01]\n",
            " [ 1.83000000e+00  5.28275496e+00  8.00000000e+00]]\n"
          ]
        }
      ]
    },
    {
      "cell_type": "code",
      "source": [
        "adsorb = 'Au'\n",
        "adsorp_ht = 2.0\n",
        "adsorp_st = (0,0) #top position\n",
        "adsorp_sys = ZrS2_layer.copy() #avoiding adultaration while adsorbing\n",
        "add_adsorbate(adsorp_sys ,adsorb ,height = adsorp_ht, position = adsorp_st)\n",
        "print(f\"Chemical Formula : {adsorp_sys.get_chemical_formula()}\")\n",
        "print(f\"Number of atoms: {len(adsorp_sys)}\")\n",
        "print(f\"Atom types :\\n{adsorp_sys.get_chemical_symbols()}\")\n",
        "print(f\"Atom positions:\\n{adsorp_sys[-1].position}\")"
      ],
      "metadata": {
        "colab": {
          "base_uri": "https://localhost:8080/"
        },
        "id": "M2MUfIcF4iq_",
        "outputId": "daddb0d8-4966-4560-f941-09eabe62501c"
      },
      "execution_count": null,
      "outputs": [
        {
          "output_type": "stream",
          "name": "stdout",
          "text": [
            "Chemical Formula : AuS8Zr4\n",
            "Number of atoms: 13\n",
            "Atom types :\n",
            "['Zr', 'S', 'S', 'Zr', 'S', 'S', 'Zr', 'S', 'S', 'Zr', 'S', 'S', 'Au']\n",
            "Atom positions:\n",
            "[ 0.    0.   13.19]\n"
          ]
        }
      ]
    },
    {
      "cell_type": "code",
      "source": [
        "!which gpaw"
      ],
      "metadata": {
        "id": "z45eYKljvpQc",
        "colab": {
          "base_uri": "https://localhost:8080/"
        },
        "outputId": "640cffbb-c850-40c1-fb2a-39723af6f771"
      },
      "execution_count": 7,
      "outputs": [
        {
          "output_type": "stream",
          "name": "stdout",
          "text": [
            "/usr/local/bin/gpaw\n"
          ]
        }
      ]
    },
    {
      "cell_type": "code",
      "source": [
        "import sys\n",
        "import os\n",
        "import subprocess\n",
        "\n",
        "# Find gpaw using which command\n",
        "try:\n",
        "    gpaw_exec = subprocess.check_output(['which', 'gpaw']).decode().strip()\n",
        "except subprocess.CalledProcessError:\n",
        "    raise FileNotFoundError(\"Could not locate the gpaw executable. \"\n",
        "                            \"Please make sure gpaw is installed and in your PATH.\")\n",
        "gpaw_data_dir = '/usr/local/lib/python3/dist-packages/gpaw/data'\n",
        "\n",
        "# Create the directories if they don't exist:\n",
        "os.makedirs(gpaw_data_dir, exist_ok=True)\n",
        "\n",
        "!{gpaw_exec} install-data {gpaw_data_dir}"
      ],
      "metadata": {
        "colab": {
          "base_uri": "https://localhost:8080/"
        },
        "id": "26loaIf0JZeR",
        "outputId": "34ec5f45-fca1-44b1-cd6e-42be8d997518"
      },
      "execution_count": 8,
      "outputs": [
        {
          "output_type": "stream",
          "name": "stdout",
          "text": [
            "Available setups and pseudopotentials\n",
            "  [*] https://wiki.fysik.dtu.dk/gpaw-files/gpaw-setups-24.11.0.tar.gz\n",
            "      https://wiki.fysik.dtu.dk/gpaw-files/gpaw-setups-24.1.0.tar.gz\n",
            "      https://wiki.fysik.dtu.dk/gpaw-files/gpaw-setups-0.9.20000.tar.gz\n",
            "      https://wiki.fysik.dtu.dk/gpaw-files/gpaw-setups-0.9.11271.tar.gz\n",
            "      https://wiki.fysik.dtu.dk/gpaw-files/gpaw-setups-0.9.9672.tar.gz\n",
            "      https://wiki.fysik.dtu.dk/gpaw-files/gpaw-setups-0.8.7929.tar.gz\n",
            "      https://wiki.fysik.dtu.dk/gpaw-files/gpaw-setups-0.6.6300.tar.gz\n",
            "      https://wiki.fysik.dtu.dk/gpaw-files/gpaw-setups-0.5.3574.tar.gz\n",
            "\n",
            "Selected gpaw-setups-24.11.0.tar.gz.  Downloading...\n",
            "Extracting tarball into /usr/local/lib/python3/dist-packages/gpaw/data\n",
            "Setups installed into /usr/local/lib/python3/dist-packages/gpaw/data/gpaw-setups-24.11.0.\n",
            "Register this setup path in /root/.gpaw/rc.py? [y/n] y\n",
            "Setup path registered in /root/.gpaw/rc.py.\n",
            "Current GPAW setup paths in order of search priority:\n",
            "   1. /usr/local/lib/python3/dist-packages/gpaw/data/gpaw-setups-24.11.0\n",
            "Installation complete.\n"
          ]
        }
      ]
    },
    {
      "cell_type": "code",
      "source": [
        "!gpaw info"
      ],
      "metadata": {
        "colab": {
          "base_uri": "https://localhost:8080/"
        },
        "id": "pB-JCTHl5ySL",
        "outputId": "55af9fb3-1dc0-4810-b596-b624391b2386"
      },
      "execution_count": 9,
      "outputs": [
        {
          "output_type": "stream",
          "name": "stdout",
          "text": [
            " -------------------------------------------------------------------------------------------------\n",
            "| python-3.11.13    /usr/bin/python3                                                              |\n",
            "| gpaw-25.1.0       /usr/local/lib/python3.11/dist-packages/gpaw/                                 |\n",
            "| ase-3.25.0        /usr/local/lib/python3.11/dist-packages/ase/                                  |\n",
            "| numpy-2.0.2       /usr/local/lib/python3.11/dist-packages/numpy/                                |\n",
            "| scipy-1.15.3      /usr/local/lib/python3.11/dist-packages/scipy/                                |\n",
            "| libxc-5.1.7       yes                                                                           |\n",
            "| _gpaw             /usr/local/lib/python3.11/dist-packages/_gpaw.cpython-311-x86_64-linux-gnu.so |\n",
            "| MPI enabled       yes                                                                           |\n",
            "| OpenMP enabled    no                                                                            |\n",
            "| GPU enabled       no                                                                            |\n",
            "| GPU-aware MPI     no                                                                            |\n",
            "| cupy-fake         /usr/local/lib/python3.11/dist-packages/gpaw/gpu/cpupy/__init__.py            |\n",
            "| scalapack         no                                                                            |\n",
            "| Elpa              no                                                                            |\n",
            "| FFTW              no                                                                            |\n",
            "| libvdwxc          no                                                                            |\n",
            "| PAW-datasets (1)  /usr/local/lib/python3/dist-packages/gpaw/data/gpaw-setups-24.11.0            |\n",
            " -------------------------------------------------------------------------------------------------\n"
          ]
        }
      ]
    },
    {
      "cell_type": "code",
      "source": [
        "!export GPAW_SETUP_PATH=/usr/local/lib/python3/dist-packages/gpaw/data/gpaw-setups-24.11.0"
      ],
      "metadata": {
        "id": "174LJe5U7Grx"
      },
      "execution_count": null,
      "outputs": []
    },
    {
      "cell_type": "code",
      "source": [
        "import os\n",
        "import ase.io\n",
        "os.environ['GPAW_SETUP_PATH'] = '~//gpaw-setups-24.11.0'\n",
        "gpaw_data_path = os.path.join(os.path.dirname(ase.__file__), '..', 'gpaw-data')\n",
        "# os.environ['GPAW_SETUP_PATH'] = gpaw_data_path"
      ],
      "metadata": {
        "id": "cPorjnhWGvt5"
      },
      "execution_count": 10,
      "outputs": []
    },
    {
      "cell_type": "code",
      "source": [
        "ls /usr/local/lib/python3/dist-packages/gpaw/data/gpaw-setups-24.11.0/"
      ],
      "metadata": {
        "colab": {
          "base_uri": "https://localhost:8080/"
        },
        "id": "psWwd2UO8Oeh",
        "outputId": "0192ffb0-9ad6-4d04-bb1b-d7d384e53c2c",
        "collapsed": true
      },
      "execution_count": 11,
      "outputs": [
        {
          "output_type": "stream",
          "name": "stdout",
          "text": [
            "Ag.11.dzp.basis.gz  In.GLLBSC.gz                        Pt.dzp.basis.gz\n",
            "Ag.11.GLLBSC.gz     In.LDA.gz                           Pt.GLLBSC.gz\n",
            "Ag.11.LDA.gz        In.PBE.gz                           Pt.LDA.gz\n",
            "Ag.11.PBE.gz        In.revPBE.gz                        Pt.PBE.gz\n",
            "Ag.11.revPBE.gz     In.RPBE.gz                          Pt.revPBE.gz\n",
            "Ag.11.RPBE.gz       I.PBE.gz                            Pt.RPBE.gz\n",
            "Ag.dzp.basis.gz     Ir.9.dzp.basis.gz                   Rb.dzp.basis.gz\n",
            "Ag.GLLBSC.gz        Ir.9.GLLBSC.gz                      Rb.GLLBSC.gz\n",
            "Ag.LDA.gz           Ir.9.LDA.gz                         Rb.LDA.gz\n",
            "Ag.PBE.gz           Ir.9.PBE.gz                         Rb.PBE.gz\n",
            "Ag.revPBE.gz        Ir.9.revPBE.gz                      Rb.revPBE.gz\n",
            "Ag.RPBE.gz          Ir.9.RPBE.gz                        Rb.RPBE.gz\n",
            "Al.dzp.basis.gz     Ir.dzp.basis.gz                     Re.dzp.basis.gz\n",
            "Al.GLLBSC.gz        I.revPBE.gz                         Re.GLLBSC.gz\n",
            "Al.LDA.gz           Ir.GLLBSC.gz                        Re.LDA.gz\n",
            "Al.PBE.gz           Ir.LDA.gz                           Re.PBE.gz\n",
            "Al.revPBE.gz        Ir.PBE.gz                           Re.revPBE.gz\n",
            "Al.RPBE.gz          I.RPBE.gz                           Re.RPBE.gz\n",
            "Ar.dzp.basis.gz     Ir.revPBE.gz                        Rh.9.dzp.basis.gz\n",
            "Ar.GLLBSC.gz        Ir.RPBE.gz                          Rh.9.GLLBSC.gz\n",
            "Ar.LDA.gz           K.dzp.basis.gz                      Rh.9.LDA.gz\n",
            "Ar.PBE.gz           K.GLLBSC.gz                         Rh.9.PBE.gz\n",
            "Ar.revPBE.gz        K.LDA.gz                            Rh.9.revPBE.gz\n",
            "Ar.RPBE.gz          K.PBE.gz                            Rh.9.RPBE.gz\n",
            "As.dzp.basis.gz     Kr.dzp.basis.gz                     Rh.dzp.basis.gz\n",
            "As.GLLBSC.gz        K.revPBE.gz                         Rh.GLLBSC.gz\n",
            "As.LDA.gz           Kr.GLLBSC.gz                        Rh.LDA.gz\n",
            "As.PBE.gz           Kr.LDA.gz                           Rh.PBE.gz\n",
            "As.revPBE.gz        Kr.PBE.gz                           Rh.revPBE.gz\n",
            "As.RPBE.gz          K.RPBE.gz                           Rh.RPBE.gz\n",
            "Au.dzp.basis.gz     Kr.revPBE.gz                        Rn.dzp.basis.gz\n",
            "Au.GLLBSC.gz        Kr.RPBE.gz                          Rn.GLLBSC.gz\n",
            "Au.LDA.gz           La.dzp.basis.gz                     Rn.LDA.gz\n",
            "Au.PBE.gz           La.LDA.gz                           Rn.PBE.gz\n",
            "Au.revPBE.gz        La.PBE.gz                           Rn.revPBE.gz\n",
            "Au.RPBE.gz          LICENSE                             Rn.RPBE.gz\n",
            "Ba.dzp.basis.gz     Li.dzp.basis.gz                     Ru.8.dzp.basis.gz\n",
            "Ba.GLLBSC.gz        Li.GLLBSC.gz                        Ru.8.GLLBSC.gz\n",
            "Ba.LDA.gz           Li.LDA.gz                           Ru.8.LDA.gz\n",
            "Ba.PBE.gz           Li.PBE.gz                           Ru.8.PBE.gz\n",
            "Ba.revPBE.gz        Li.revPBE.gz                        Ru.8.revPBE.gz\n",
            "Ba.RPBE.gz          Li.RPBE.gz                          Ru.8.RPBE.gz\n",
            "B.dzp.basis.gz      Lu.dzp.basis.gz                     Ru.dzp.basis.gz\n",
            "Be.dzp.basis.gz     Lu.LDA.gz                           Ru.GLLBSC.gz\n",
            "Be.GLLBSC.gz        Lu.PBE.gz                           Ru.LDA.gz\n",
            "Be.LDA.gz           Mg.2.dzp.basis.gz                   Ru.PBE.gz\n",
            "Be.PBE.gz           Mg.2.GLLBSC.gz                      Ru.revPBE.gz\n",
            "Be.revPBE.gz        Mg.2.LDA.gz                         Ru.RPBE.gz\n",
            "Be.RPBE.gz          Mg.2.PBE.gz                         Sb.dzp.basis.gz\n",
            "B.GLLBSC.gz         Mg.2.revPBE.gz                      Sb.GLLBSC.gz\n",
            "Bi.dzp.basis.gz     Mg.2.RPBE.gz                        Sb.LDA.gz\n",
            "Bi.GLLBSC.gz        Mg.dzp.basis.gz                     Sb.PBE.gz\n",
            "Bi.LDA.gz           Mg.GLLBSC.gz                        Sb.revPBE.gz\n",
            "Bi.PBE.gz           Mg.LDA.gz                           Sb.RPBE.gz\n",
            "Bi.revPBE.gz        Mg.PBE.gz                           Sc.dzp.basis.gz\n",
            "Bi.RPBE.gz          Mg.revPBE.gz                        Sc.GLLBSC.gz\n",
            "B.LDA.gz            Mg.RPBE.gz                          Sc.LDA.gz\n",
            "B.PBE.gz            Mn.7.dzp.basis.gz                   Sc.PBE.gz\n",
            "Br.dzp.basis.gz     Mn.7.GLLBSC.gz                      Sc.revPBE.gz\n",
            "B.revPBE.gz         Mn.7.LDA.gz                         Sc.RPBE.gz\n",
            "Br.GLLBSC.gz        Mn.7.PBE.gz                         S.dzp.basis.gz\n",
            "Br.LDA.gz           Mn.7.revPBE.gz                      Se.dzp.basis.gz\n",
            "Br.PBE.gz           Mn.7.RPBE.gz                        Se.GLLBSC.gz\n",
            "B.RPBE.gz           Mn.dzp.basis.gz                     Se.LDA.gz\n",
            "Br.revPBE.gz        Mn.GLLBSC.gz                        Se.PBE.gz\n",
            "Br.RPBE.gz          Mn.LDA.gz                           Se.revPBE.gz\n",
            "Ca.dzp.basis.gz     Mn.PBE.gz                           Se.RPBE.gz\n",
            "Ca.GLLBSC.gz        Mn.revPBE.gz                        S.GLLBSC.gz\n",
            "Ca.LDA.gz           Mn.RPBE.gz                          Si.dzp.basis.gz\n",
            "Ca.PBE.gz           Mo.6.dzp.basis.gz                   Si.GLLBSC.gz\n",
            "Ca.revPBE.gz        Mo.6.GLLBSC.gz                      Si.LDA.gz\n",
            "Ca.RPBE.gz          Mo.6.LDA.gz                         Si.PBE.gz\n",
            "Cd.dzp.basis.gz     Mo.6.PBE.gz                         Si.revPBE.gz\n",
            "Cd.GLLBSC.gz        Mo.6.revPBE.gz                      Si.RPBE.gz\n",
            "Cd.LDA.gz           Mo.6.RPBE.gz                        S.LDA.gz\n",
            "Cd.PBE.gz           Mo.dzp.basis.gz                     Sm.dzp.basis.gz\n",
            "Cd.revPBE.gz        Mo.GLLBSC.gz                        Sm.LDA.gz\n",
            "Cd.RPBE.gz          Mo.LDA.gz                           Sm.PBE.gz\n",
            "C.dzp.basis.gz      Mo.PBE.gz                           Sn.dzp.basis.gz\n",
            "Ce.dzp.basis.gz     Mo.revPBE.gz                        Sn.GLLBSC.gz\n",
            "Ce.LDA.gz           Mo.RPBE.gz                          Sn.LDA.gz\n",
            "Ce.PBE.gz           Na.1.dzp.basis.gz                   Sn.PBE.gz\n",
            "C.GLLBSC.gz         Na.1.GLLBSC.gz                      Sn.revPBE.gz\n",
            "C.LDA.gz            Na.1.LDA.gz                         Sn.RPBE.gz\n",
            "Cl.dzp.basis.gz     Na.1.PBE.gz                         S.PBE.gz\n",
            "Cl.GLLBSC.gz        Na.1.revPBE.gz                      Sr.dzp.basis.gz\n",
            "Cl.LDA.gz           Na.1.RPBE.gz                        S.revPBE.gz\n",
            "Cl.PBE.gz           Na.dzp.basis.gz                     Sr.GLLBSC.gz\n",
            "Cl.revPBE.gz        Na.GLLBSC.gz                        Sr.LDA.gz\n",
            "Cl.RPBE.gz          Na.LDA.gz                           Sr.PBE.gz\n",
            "Co.dzp.basis.gz     Na.PBE.gz                           S.RPBE.gz\n",
            "Co.GLLBSC.gz        Na.revPBE.gz                        Sr.revPBE.gz\n",
            "Co.LDA.gz           Na.RPBE.gz                          Sr.RPBE.gz\n",
            "Co.PBE.gz           Nb.5.dzp.basis.gz                   Ta.5.dzp.basis.gz\n",
            "COPYING             Nb.5.GLLBSC.gz                      Ta.5.GLLBSC.gz\n",
            "Co.revPBE.gz        Nb.5.LDA.gz                         Ta.5.LDA.gz\n",
            "Co.RPBE.gz          Nb.5.PBE.gz                         Ta.5.PBE.gz\n",
            "C.PBE.gz            Nb.5.revPBE.gz                      Ta.5.revPBE.gz\n",
            "Cr.14.dzp.basis.gz  Nb.5.RPBE.gz                        Ta.5.RPBE.gz\n",
            "Cr.14.LDA.gz        Nb.dzp.basis.gz                     Ta.dzp.basis.gz\n",
            "Cr.14.PBE.gz        Nb.GLLBSC.gz                        Ta.GLLBSC.gz\n",
            "Cr.dzp.basis.gz     Nb.LDA.gz                           Ta.LDA.gz\n",
            "C.revPBE.gz         Nb.PBE.gz                           Ta.PBE.gz\n",
            "Cr.GLLBSC.gz        Nb.revPBE.gz                        Ta.revPBE.gz\n",
            "Cr.LDA.gz           Nb.RPBE.gz                          Ta.RPBE.gz\n",
            "Cr.PBE.gz           Nd.dzp.basis.gz                     Tb.dzp.basis.gz\n",
            "C.RPBE.gz           Nd.LDA.gz                           Tb.LDA.gz\n",
            "Cr.revPBE.gz        Nd.PBE.gz                           Tb.PBE.gz\n",
            "Cr.RPBE.gz          N.dzp.basis.gz                      Te.16.dzp.basis.gz\n",
            "Cs.dzp.basis.gz     Ne.dzp.basis.gz                     Te.16.GLLBSC.gz\n",
            "Cs.GLLBSC.gz        Ne.GLLBSC.gz                        Te.16.LDA.gz\n",
            "Cs.LDA.gz           Ne.LDA.gz                           Te.16.PBE.gz\n",
            "Cs.PBE.gz           Ne.PBE.gz                           Te.16.revPBE.gz\n",
            "Cs.revPBE.gz        Ne.revPBE.gz                        Te.16.RPBE.gz\n",
            "Cs.RPBE.gz          Ne.RPBE.gz                          Te.dzp.basis.gz\n",
            "Cu.dzp.basis.gz     N.GLLBSC.gz                         Te.GLLBSC.gz\n",
            "Cu.GLLBSC.gz        Ni.10.dzp.basis.gz                  Te.LDA.gz\n",
            "Cu.LDA.gz           Ni.10.GLLBSC.gz                     Te.PBE.gz\n",
            "Cu.PBE.gz           Ni.10.LDA.gz                        Te.revPBE.gz\n",
            "Cu.revPBE.gz        Ni.10.PBE.gz                        Te.RPBE.gz\n",
            "Cu.RPBE.gz          Ni.10.revPBE.gz                     Ti.dzp.basis.gz\n",
            "Dy.dzp.basis.gz     Ni.10.RPBE.gz                       Ti.GLLBSC.gz\n",
            "Dy.LDA.gz           Ni.dzp.basis.gz                     Ti.LDA.gz\n",
            "Dy.PBE.gz           Ni.GLLBSC.gz                        Ti.PBE.gz\n",
            "Er.dzp.basis.gz     Ni.LDA.gz                           Ti.revPBE.gz\n",
            "Er.LDA.gz           Ni.PBE.gz                           Ti.RPBE.gz\n",
            "Er.PBE.gz           Ni.revPBE.gz                        Tl.dzp.basis.gz\n",
            "Eu.dzp.basis.gz     Ni.RPBE.gz                          Tl.GLLBSC.gz\n",
            "Eu.LDA.gz           N.LDA.gz                            Tl.LDA.gz\n",
            "Eu.PBE.gz           N.PBE.gz                            Tl.PBE.gz\n",
            "F.dzp.basis.gz      N.revPBE.gz                         Tl.revPBE.gz\n",
            "Fe.dzp.basis.gz     N.RPBE.gz                           Tl.RPBE.gz\n",
            "Fe.GLLBSC.gz        O.dzp.basis.gz                      Tm.dzp.basis.gz\n",
            "Fe.LDA.gz           O.GLLBSC.gz                         Tm.LDA.gz\n",
            "Fe.PBE.gz           O.LDA.gz                            Tm.PBE.gz\n",
            "Fe.revPBE.gz        O.PBE.gz                            V.5.dzp.basis.gz\n",
            "Fe.RPBE.gz          O.revPBE.gz                         V.5.GLLBSC.gz\n",
            "F.GLLBSC.gz         O.RPBE.gz                           V.5.LDA.gz\n",
            "F.LDA.gz            Os.8.dzp.basis.gz                   V.5.PBE.gz\n",
            "F.PBE.gz            Os.8.GLLBSC.gz                      V.5.revPBE.gz\n",
            "F.revPBE.gz         Os.8.LDA.gz                         V.5.RPBE.gz\n",
            "F.RPBE.gz           Os.8.PBE.gz                         V.dzp.basis.gz\n",
            "Ga.dzp.basis.gz     Os.8.revPBE.gz                      V.GLLBSC.gz\n",
            "Ga.GLLBSC.gz        Os.8.RPBE.gz                        V.LDA.gz\n",
            "Ga.LDA.gz           Os.dzp.basis.gz                     V.PBE.gz\n",
            "Ga.PBE.gz           Os.GLLBSC.gz                        V.revPBE.gz\n",
            "Ga.revPBE.gz        Os.LDA.gz                           V.RPBE.gz\n",
            "Ga.RPBE.gz          Os.PBE.gz                           W.6.dzp.basis.gz\n",
            "Gd.dzp.basis.gz     Os.revPBE.gz                        W.6.GLLBSC.gz\n",
            "Gd.LDA.gz           Os.RPBE.gz                          W.6.LDA.gz\n",
            "Gd.PBE.gz           Pb.dzp.basis.gz                     W.6.PBE.gz\n",
            "Ge.dzp.basis.gz     Pb.GLLBSC.gz                        W.6.revPBE.gz\n",
            "Ge.GLLBSC.gz        Pb.LDA.gz                           W.6.RPBE.gz\n",
            "Ge.LDA.gz           Pb.PBE.gz                           W.dzp.basis.gz\n",
            "Ge.PBE.gz           Pb.revPBE.gz                        W.GLLBSC.gz\n",
            "Ge.revPBE.gz        Pb.RPBE.gz                          W.LDA.gz\n",
            "Ge.RPBE.gz          Pd.10.dzp.basis.gz                  W.PBE.gz\n",
            "H.dzp.basis.gz      Pd.10.GLLBSC.gz                     W.revPBE.gz\n",
            "He.dzp.basis.gz     Pd.10.LDA.gz                        W.RPBE.gz\n",
            "He.GLLBSC.gz        Pd.10.PBE.gz                        Xe.dzp.basis.gz\n",
            "He.LDA.gz           Pd.10.revPBE.gz                     Xe.GLLBSC.gz\n",
            "He.PBE.gz           Pd.10.RPBE.gz                       Xe.LDA.gz\n",
            "He.revPBE.gz        Pd.dzp.basis.gz                     Xe.PBE.gz\n",
            "He.RPBE.gz          Pd.GLLBSC.gz                        Xe.revPBE.gz\n",
            "Hf.dzp.basis.gz     Pd.LDA.gz                           Xe.RPBE.gz\n",
            "Hf.GLLBSC.gz        Pd.PBE.gz                           Yb.dzp.basis.gz\n",
            "Hf.LDA.gz           Pd.revPBE.gz                        Yb.LDA.gz\n",
            "Hf.PBE.gz           Pd.RPBE.gz                          Yb.PBE.gz\n",
            "Hf.revPBE.gz        P.dzp.basis.gz                      Y.dzp.basis.gz\n",
            "Hf.RPBE.gz          P.GLLBSC.gz                         Y.GLLBSC.gz\n",
            "Hg.dzp.basis.gz     phi-0.500-1.000-20.000-21-201.pckl  Y.LDA.gz\n",
            "Hg.GLLBSC.gz        phi-0.500-1.000-20.000-21-201.txt   Y.PBE.gz\n",
            "Hg.LDA.gz           P.LDA.gz                            Y.revPBE.gz\n",
            "H.GLLBSC.gz         Pm.dzp.basis.gz                     Y.RPBE.gz\n",
            "Hg.PBE.gz           Pm.LDA.gz                           Zn.dzp.basis.gz\n",
            "Hg.revPBE.gz        Pm.PBE.gz                           Zn.GLLBSC.gz\n",
            "Hg.RPBE.gz          P.PBE.gz                            Zn.LDA.gz\n",
            "H.LDA.gz            Pr.dzp.basis.gz                     Zn.PBE.gz\n",
            "Ho.dzp.basis.gz     P.revPBE.gz                         Zn.revPBE.gz\n",
            "Ho.LDA.gz           Pr.LDA.gz                           Zn.RPBE.gz\n",
            "Ho.PBE.gz           Pr.PBE.gz                           Zr.dzp.basis.gz\n",
            "H.PBE.gz            P.RPBE.gz                           Zr.GLLBSC.gz\n",
            "H.revPBE.gz         Pt.10.dzp.basis.gz                  Zr.LDA.gz\n",
            "H.RPBE.gz           Pt.10.GLLBSC.gz                     Zr.PBE.gz\n",
            "I.dzp.basis.gz      Pt.10.LDA.gz                        Zr.revPBE.gz\n",
            "I.GLLBSC.gz         Pt.10.PBE.gz                        Zr.RPBE.gz\n",
            "I.LDA.gz            Pt.10.revPBE.gz\n",
            "In.dzp.basis.gz     Pt.10.RPBE.gz\n"
          ]
        }
      ]
    },
    {
      "cell_type": "code",
      "source": [
        "!gunzip /usr/local/lib/python3/dist-packages/gpaw/data/gpaw-setups-24.11.0/Zr.PBE.gz"
      ],
      "metadata": {
        "id": "axBibfGo9zHc"
      },
      "execution_count": 12,
      "outputs": []
    },
    {
      "cell_type": "code",
      "source": [
        "ls /usr/local/lib/python3/dist-packages/gpaw/data/gpaw-setups-24.11.0/"
      ],
      "metadata": {
        "colab": {
          "base_uri": "https://localhost:8080/"
        },
        "id": "uyEAKYcP-q7k",
        "outputId": "b779a373-82a2-4777-ff96-edf97528be62",
        "collapsed": true
      },
      "execution_count": null,
      "outputs": [
        {
          "output_type": "stream",
          "name": "stdout",
          "text": [
            "Ag.11.dzp.basis.gz  In.GLLBSC.gz                        Pt.dzp.basis.gz\n",
            "Ag.11.GLLBSC.gz     In.LDA.gz                           Pt.GLLBSC.gz\n",
            "Ag.11.LDA.gz        In.PBE.gz                           Pt.LDA.gz\n",
            "Ag.11.PBE.gz        In.revPBE.gz                        Pt.PBE.gz\n",
            "Ag.11.revPBE.gz     In.RPBE.gz                          Pt.revPBE.gz\n",
            "Ag.11.RPBE.gz       I.PBE.gz                            Pt.RPBE.gz\n",
            "Ag.dzp.basis.gz     Ir.9.dzp.basis.gz                   Rb.dzp.basis.gz\n",
            "Ag.GLLBSC.gz        Ir.9.GLLBSC.gz                      Rb.GLLBSC.gz\n",
            "Ag.LDA.gz           Ir.9.LDA.gz                         Rb.LDA.gz\n",
            "Ag.PBE.gz           Ir.9.PBE.gz                         Rb.PBE.gz\n",
            "Ag.revPBE.gz        Ir.9.revPBE.gz                      Rb.revPBE.gz\n",
            "Ag.RPBE.gz          Ir.9.RPBE.gz                        Rb.RPBE.gz\n",
            "Al.dzp.basis.gz     Ir.dzp.basis.gz                     Re.dzp.basis.gz\n",
            "Al.GLLBSC.gz        I.revPBE.gz                         Re.GLLBSC.gz\n",
            "Al.LDA.gz           Ir.GLLBSC.gz                        Re.LDA.gz\n",
            "Al.PBE.gz           Ir.LDA.gz                           Re.PBE.gz\n",
            "Al.revPBE.gz        Ir.PBE.gz                           Re.revPBE.gz\n",
            "Al.RPBE.gz          I.RPBE.gz                           Re.RPBE.gz\n",
            "Ar.dzp.basis.gz     Ir.revPBE.gz                        Rh.9.dzp.basis.gz\n",
            "Ar.GLLBSC.gz        Ir.RPBE.gz                          Rh.9.GLLBSC.gz\n",
            "Ar.LDA.gz           K.dzp.basis.gz                      Rh.9.LDA.gz\n",
            "Ar.PBE.gz           K.GLLBSC.gz                         Rh.9.PBE.gz\n",
            "Ar.revPBE.gz        K.LDA.gz                            Rh.9.revPBE.gz\n",
            "Ar.RPBE.gz          K.PBE.gz                            Rh.9.RPBE.gz\n",
            "As.dzp.basis.gz     Kr.dzp.basis.gz                     Rh.dzp.basis.gz\n",
            "As.GLLBSC.gz        K.revPBE.gz                         Rh.GLLBSC.gz\n",
            "As.LDA.gz           Kr.GLLBSC.gz                        Rh.LDA.gz\n",
            "As.PBE.gz           Kr.LDA.gz                           Rh.PBE.gz\n",
            "As.revPBE.gz        Kr.PBE.gz                           Rh.revPBE.gz\n",
            "As.RPBE.gz          K.RPBE.gz                           Rh.RPBE.gz\n",
            "Au.dzp.basis.gz     Kr.revPBE.gz                        Rn.dzp.basis.gz\n",
            "Au.GLLBSC.gz        Kr.RPBE.gz                          Rn.GLLBSC.gz\n",
            "Au.LDA.gz           La.dzp.basis.gz                     Rn.LDA.gz\n",
            "Au.PBE.gz           La.LDA.gz                           Rn.PBE.gz\n",
            "Au.revPBE.gz        La.PBE.gz                           Rn.revPBE.gz\n",
            "Au.RPBE.gz          LICENSE                             Rn.RPBE.gz\n",
            "Ba.dzp.basis.gz     Li.dzp.basis.gz                     Ru.8.dzp.basis.gz\n",
            "Ba.GLLBSC.gz        Li.GLLBSC.gz                        Ru.8.GLLBSC.gz\n",
            "Ba.LDA.gz           Li.LDA.gz                           Ru.8.LDA.gz\n",
            "Ba.PBE.gz           Li.PBE.gz                           Ru.8.PBE.gz\n",
            "Ba.revPBE.gz        Li.revPBE.gz                        Ru.8.revPBE.gz\n",
            "Ba.RPBE.gz          Li.RPBE.gz                          Ru.8.RPBE.gz\n",
            "B.dzp.basis.gz      Lu.dzp.basis.gz                     Ru.dzp.basis.gz\n",
            "Be.dzp.basis.gz     Lu.LDA.gz                           Ru.GLLBSC.gz\n",
            "Be.GLLBSC.gz        Lu.PBE.gz                           Ru.LDA.gz\n",
            "Be.LDA.gz           Mg.2.dzp.basis.gz                   Ru.PBE.gz\n",
            "Be.PBE.gz           Mg.2.GLLBSC.gz                      Ru.revPBE.gz\n",
            "Be.revPBE.gz        Mg.2.LDA.gz                         Ru.RPBE.gz\n",
            "Be.RPBE.gz          Mg.2.PBE.gz                         Sb.dzp.basis.gz\n",
            "B.GLLBSC.gz         Mg.2.revPBE.gz                      Sb.GLLBSC.gz\n",
            "Bi.dzp.basis.gz     Mg.2.RPBE.gz                        Sb.LDA.gz\n",
            "Bi.GLLBSC.gz        Mg.dzp.basis.gz                     Sb.PBE.gz\n",
            "Bi.LDA.gz           Mg.GLLBSC.gz                        Sb.revPBE.gz\n",
            "Bi.PBE.gz           Mg.LDA.gz                           Sb.RPBE.gz\n",
            "Bi.revPBE.gz        Mg.PBE.gz                           Sc.dzp.basis.gz\n",
            "Bi.RPBE.gz          Mg.revPBE.gz                        Sc.GLLBSC.gz\n",
            "B.LDA.gz            Mg.RPBE.gz                          Sc.LDA.gz\n",
            "B.PBE.gz            Mn.7.dzp.basis.gz                   Sc.PBE.gz\n",
            "Br.dzp.basis.gz     Mn.7.GLLBSC.gz                      Sc.revPBE.gz\n",
            "B.revPBE.gz         Mn.7.LDA.gz                         Sc.RPBE.gz\n",
            "Br.GLLBSC.gz        Mn.7.PBE.gz                         S.dzp.basis.gz\n",
            "Br.LDA.gz           Mn.7.revPBE.gz                      Se.dzp.basis.gz\n",
            "Br.PBE.gz           Mn.7.RPBE.gz                        Se.GLLBSC.gz\n",
            "B.RPBE.gz           Mn.dzp.basis.gz                     Se.LDA.gz\n",
            "Br.revPBE.gz        Mn.GLLBSC.gz                        Se.PBE.gz\n",
            "Br.RPBE.gz          Mn.LDA.gz                           Se.revPBE.gz\n",
            "Ca.dzp.basis.gz     Mn.PBE.gz                           Se.RPBE.gz\n",
            "Ca.GLLBSC.gz        Mn.revPBE.gz                        S.GLLBSC.gz\n",
            "Ca.LDA.gz           Mn.RPBE.gz                          Si.dzp.basis.gz\n",
            "Ca.PBE.gz           Mo.6.dzp.basis.gz                   Si.GLLBSC.gz\n",
            "Ca.revPBE.gz        Mo.6.GLLBSC.gz                      Si.LDA.gz\n",
            "Ca.RPBE.gz          Mo.6.LDA.gz                         Si.PBE.gz\n",
            "Cd.dzp.basis.gz     Mo.6.PBE.gz                         Si.revPBE.gz\n",
            "Cd.GLLBSC.gz        Mo.6.revPBE.gz                      Si.RPBE.gz\n",
            "Cd.LDA.gz           Mo.6.RPBE.gz                        S.LDA.gz\n",
            "Cd.PBE.gz           Mo.dzp.basis.gz                     Sm.dzp.basis.gz\n",
            "Cd.revPBE.gz        Mo.GLLBSC.gz                        Sm.LDA.gz\n",
            "Cd.RPBE.gz          Mo.LDA.gz                           Sm.PBE.gz\n",
            "C.dzp.basis.gz      Mo.PBE.gz                           Sn.dzp.basis.gz\n",
            "Ce.dzp.basis.gz     Mo.revPBE.gz                        Sn.GLLBSC.gz\n",
            "Ce.LDA.gz           Mo.RPBE.gz                          Sn.LDA.gz\n",
            "Ce.PBE.gz           Na.1.dzp.basis.gz                   Sn.PBE.gz\n",
            "C.GLLBSC.gz         Na.1.GLLBSC.gz                      Sn.revPBE.gz\n",
            "C.LDA.gz            Na.1.LDA.gz                         Sn.RPBE.gz\n",
            "Cl.dzp.basis.gz     Na.1.PBE.gz                         S.PBE.gz\n",
            "Cl.GLLBSC.gz        Na.1.revPBE.gz                      Sr.dzp.basis.gz\n",
            "Cl.LDA.gz           Na.1.RPBE.gz                        S.revPBE.gz\n",
            "Cl.PBE.gz           Na.dzp.basis.gz                     Sr.GLLBSC.gz\n",
            "Cl.revPBE.gz        Na.GLLBSC.gz                        Sr.LDA.gz\n",
            "Cl.RPBE.gz          Na.LDA.gz                           Sr.PBE.gz\n",
            "Co.dzp.basis.gz     Na.PBE.gz                           S.RPBE.gz\n",
            "Co.GLLBSC.gz        Na.revPBE.gz                        Sr.revPBE.gz\n",
            "Co.LDA.gz           Na.RPBE.gz                          Sr.RPBE.gz\n",
            "Co.PBE.gz           Nb.5.dzp.basis.gz                   Ta.5.dzp.basis.gz\n",
            "COPYING             Nb.5.GLLBSC.gz                      Ta.5.GLLBSC.gz\n",
            "Co.revPBE.gz        Nb.5.LDA.gz                         Ta.5.LDA.gz\n",
            "Co.RPBE.gz          Nb.5.PBE.gz                         Ta.5.PBE.gz\n",
            "C.PBE.gz            Nb.5.revPBE.gz                      Ta.5.revPBE.gz\n",
            "Cr.14.dzp.basis.gz  Nb.5.RPBE.gz                        Ta.5.RPBE.gz\n",
            "Cr.14.LDA.gz        Nb.dzp.basis.gz                     Ta.dzp.basis.gz\n",
            "Cr.14.PBE.gz        Nb.GLLBSC.gz                        Ta.GLLBSC.gz\n",
            "Cr.dzp.basis.gz     Nb.LDA.gz                           Ta.LDA.gz\n",
            "C.revPBE.gz         Nb.PBE.gz                           Ta.PBE.gz\n",
            "Cr.GLLBSC.gz        Nb.revPBE.gz                        Ta.revPBE.gz\n",
            "Cr.LDA.gz           Nb.RPBE.gz                          Ta.RPBE.gz\n",
            "Cr.PBE.gz           Nd.dzp.basis.gz                     Tb.dzp.basis.gz\n",
            "C.RPBE.gz           Nd.LDA.gz                           Tb.LDA.gz\n",
            "Cr.revPBE.gz        Nd.PBE.gz                           Tb.PBE.gz\n",
            "Cr.RPBE.gz          N.dzp.basis.gz                      Te.16.dzp.basis.gz\n",
            "Cs.dzp.basis.gz     Ne.dzp.basis.gz                     Te.16.GLLBSC.gz\n",
            "Cs.GLLBSC.gz        Ne.GLLBSC.gz                        Te.16.LDA.gz\n",
            "Cs.LDA.gz           Ne.LDA.gz                           Te.16.PBE.gz\n",
            "Cs.PBE.gz           Ne.PBE.gz                           Te.16.revPBE.gz\n",
            "Cs.revPBE.gz        Ne.revPBE.gz                        Te.16.RPBE.gz\n",
            "Cs.RPBE.gz          Ne.RPBE.gz                          Te.dzp.basis.gz\n",
            "Cu.dzp.basis.gz     N.GLLBSC.gz                         Te.GLLBSC.gz\n",
            "Cu.GLLBSC.gz        Ni.10.dzp.basis.gz                  Te.LDA.gz\n",
            "Cu.LDA.gz           Ni.10.GLLBSC.gz                     Te.PBE.gz\n",
            "Cu.PBE.gz           Ni.10.LDA.gz                        Te.revPBE.gz\n",
            "Cu.revPBE.gz        Ni.10.PBE.gz                        Te.RPBE.gz\n",
            "Cu.RPBE.gz          Ni.10.revPBE.gz                     Ti.dzp.basis.gz\n",
            "Dy.dzp.basis.gz     Ni.10.RPBE.gz                       Ti.GLLBSC.gz\n",
            "Dy.LDA.gz           Ni.dzp.basis.gz                     Ti.LDA.gz\n",
            "Dy.PBE.gz           Ni.GLLBSC.gz                        Ti.PBE.gz\n",
            "Er.dzp.basis.gz     Ni.LDA.gz                           Ti.revPBE.gz\n",
            "Er.LDA.gz           Ni.PBE.gz                           Ti.RPBE.gz\n",
            "Er.PBE.gz           Ni.revPBE.gz                        Tl.dzp.basis.gz\n",
            "Eu.dzp.basis.gz     Ni.RPBE.gz                          Tl.GLLBSC.gz\n",
            "Eu.LDA.gz           N.LDA.gz                            Tl.LDA.gz\n",
            "Eu.PBE.gz           N.PBE.gz                            Tl.PBE.gz\n",
            "F.dzp.basis.gz      N.revPBE.gz                         Tl.revPBE.gz\n",
            "Fe.dzp.basis.gz     N.RPBE.gz                           Tl.RPBE.gz\n",
            "Fe.GLLBSC.gz        O.dzp.basis.gz                      Tm.dzp.basis.gz\n",
            "Fe.LDA.gz           O.GLLBSC.gz                         Tm.LDA.gz\n",
            "Fe.PBE.gz           O.LDA.gz                            Tm.PBE.gz\n",
            "Fe.revPBE.gz        O.PBE.gz                            V.5.dzp.basis.gz\n",
            "Fe.RPBE.gz          O.revPBE.gz                         V.5.GLLBSC.gz\n",
            "F.GLLBSC.gz         O.RPBE.gz                           V.5.LDA.gz\n",
            "F.LDA.gz            Os.8.dzp.basis.gz                   V.5.PBE.gz\n",
            "F.PBE.gz            Os.8.GLLBSC.gz                      V.5.revPBE.gz\n",
            "F.revPBE.gz         Os.8.LDA.gz                         V.5.RPBE.gz\n",
            "F.RPBE.gz           Os.8.PBE.gz                         V.dzp.basis.gz\n",
            "Ga.dzp.basis.gz     Os.8.revPBE.gz                      V.GLLBSC.gz\n",
            "Ga.GLLBSC.gz        Os.8.RPBE.gz                        V.LDA.gz\n",
            "Ga.LDA.gz           Os.dzp.basis.gz                     V.PBE.gz\n",
            "Ga.PBE.gz           Os.GLLBSC.gz                        V.revPBE.gz\n",
            "Ga.revPBE.gz        Os.LDA.gz                           V.RPBE.gz\n",
            "Ga.RPBE.gz          Os.PBE.gz                           W.6.dzp.basis.gz\n",
            "Gd.dzp.basis.gz     Os.revPBE.gz                        W.6.GLLBSC.gz\n",
            "Gd.LDA.gz           Os.RPBE.gz                          W.6.LDA.gz\n",
            "Gd.PBE.gz           Pb.dzp.basis.gz                     W.6.PBE.gz\n",
            "Ge.dzp.basis.gz     Pb.GLLBSC.gz                        W.6.revPBE.gz\n",
            "Ge.GLLBSC.gz        Pb.LDA.gz                           W.6.RPBE.gz\n",
            "Ge.LDA.gz           Pb.PBE.gz                           W.dzp.basis.gz\n",
            "Ge.PBE.gz           Pb.revPBE.gz                        W.GLLBSC.gz\n",
            "Ge.revPBE.gz        Pb.RPBE.gz                          W.LDA.gz\n",
            "Ge.RPBE.gz          Pd.10.dzp.basis.gz                  W.PBE.gz\n",
            "H.dzp.basis.gz      Pd.10.GLLBSC.gz                     W.revPBE.gz\n",
            "He.dzp.basis.gz     Pd.10.LDA.gz                        W.RPBE.gz\n",
            "He.GLLBSC.gz        Pd.10.PBE.gz                        Xe.dzp.basis.gz\n",
            "He.LDA.gz           Pd.10.revPBE.gz                     Xe.GLLBSC.gz\n",
            "He.PBE.gz           Pd.10.RPBE.gz                       Xe.LDA.gz\n",
            "He.revPBE.gz        Pd.dzp.basis.gz                     Xe.PBE.gz\n",
            "He.RPBE.gz          Pd.GLLBSC.gz                        Xe.revPBE.gz\n",
            "Hf.dzp.basis.gz     Pd.LDA.gz                           Xe.RPBE.gz\n",
            "Hf.GLLBSC.gz        Pd.PBE.gz                           Yb.dzp.basis.gz\n",
            "Hf.LDA.gz           Pd.revPBE.gz                        Yb.LDA.gz\n",
            "Hf.PBE.gz           Pd.RPBE.gz                          Yb.PBE.gz\n",
            "Hf.revPBE.gz        P.dzp.basis.gz                      Y.dzp.basis.gz\n",
            "Hf.RPBE.gz          P.GLLBSC.gz                         Y.GLLBSC.gz\n",
            "Hg.dzp.basis.gz     phi-0.500-1.000-20.000-21-201.pckl  Y.LDA.gz\n",
            "Hg.GLLBSC.gz        phi-0.500-1.000-20.000-21-201.txt   Y.PBE.gz\n",
            "Hg.LDA.gz           P.LDA.gz                            Y.revPBE.gz\n",
            "H.GLLBSC.gz         Pm.dzp.basis.gz                     Y.RPBE.gz\n",
            "Hg.PBE.gz           Pm.LDA.gz                           Zn.dzp.basis.gz\n",
            "Hg.revPBE.gz        Pm.PBE.gz                           Zn.GLLBSC.gz\n",
            "Hg.RPBE.gz          P.PBE.gz                            Zn.LDA.gz\n",
            "H.LDA.gz            Pr.dzp.basis.gz                     Zn.PBE.gz\n",
            "Ho.dzp.basis.gz     P.revPBE.gz                         Zn.revPBE.gz\n",
            "Ho.LDA.gz           Pr.LDA.gz                           Zn.RPBE.gz\n",
            "Ho.PBE.gz           Pr.PBE.gz                           Zr.dzp.basis.gz\n",
            "H.PBE.gz            P.RPBE.gz                           Zr.GLLBSC.gz\n",
            "H.revPBE.gz         Pt.10.dzp.basis.gz                  Zr.LDA.gz\n",
            "H.RPBE.gz           Pt.10.GLLBSC.gz                     Zr.PBE\n",
            "I.dzp.basis.gz      Pt.10.LDA.gz                        Zr.revPBE.gz\n",
            "I.GLLBSC.gz         Pt.10.PBE.gz                        Zr.RPBE.gz\n",
            "I.LDA.gz            Pt.10.revPBE.gz\n",
            "In.dzp.basis.gz     Pt.10.RPBE.gz\n"
          ]
        }
      ]
    },
    {
      "cell_type": "code",
      "source": [
        "import os\n",
        "\n",
        "gpaw_data_path = '/usr/local/lib/python3/dist-packages/gpaw/data/gpaw-setups-24.11.0/'\n",
        "paw_dataset_file = os.path.join(gpaw_data_path, 'Zr.PBE')\n",
        "\n",
        "if os.path.exists(paw_dataset_file):\n",
        "    print(f\"The file '{paw_dataset_file}' exists.\")\n",
        "else:\n",
        "    print(f\"The file '{paw_dataset_file}' does not exist.\")"
      ],
      "metadata": {
        "colab": {
          "base_uri": "https://localhost:8080/"
        },
        "id": "s43BeyBF7x0Y",
        "outputId": "702f469a-16ac-4bcd-c8cd-9f8d74183007"
      },
      "execution_count": null,
      "outputs": [
        {
          "output_type": "stream",
          "name": "stdout",
          "text": [
            "The file '/usr/local/lib/python3/dist-packages/gpaw/data/gpaw-setups-24.11.0/Zr.PBE' exists.\n"
          ]
        }
      ]
    },
    {
      "cell_type": "code",
      "source": [
        "!mv /usr/local/lib/python3/dist-packages/gpaw/data/gpaw-setups-24.11.0/Zr.PBE /usr/local/lib/python3/dist-packages/gpaw/data/gpaw-setups-24.11.0/Zr.PBE.gz"
      ],
      "metadata": {
        "id": "o2vkbH8QAjWw"
      },
      "execution_count": null,
      "outputs": []
    },
    {
      "cell_type": "code",
      "source": [
        "ls /usr/local/lib/python3/dist-packages/gpaw/data/gpaw-setups-24.11.0/"
      ],
      "metadata": {
        "colab": {
          "base_uri": "https://localhost:8080/"
        },
        "id": "I9uq0eyaAl0M",
        "outputId": "c60b3df9-6eac-4a70-9e3f-8618b57bc5d2",
        "collapsed": true
      },
      "execution_count": null,
      "outputs": [
        {
          "output_type": "stream",
          "name": "stdout",
          "text": [
            "Ag.11.dzp.basis.gz  In.GLLBSC.gz                        Pt.dzp.basis.gz\n",
            "Ag.11.GLLBSC.gz     In.LDA.gz                           Pt.GLLBSC.gz\n",
            "Ag.11.LDA.gz        In.PBE.gz                           Pt.LDA.gz\n",
            "Ag.11.PBE.gz        In.revPBE.gz                        Pt.PBE.gz\n",
            "Ag.11.revPBE.gz     In.RPBE.gz                          Pt.revPBE.gz\n",
            "Ag.11.RPBE.gz       I.PBE.gz                            Pt.RPBE.gz\n",
            "Ag.dzp.basis.gz     Ir.9.dzp.basis.gz                   Rb.dzp.basis.gz\n",
            "Ag.GLLBSC.gz        Ir.9.GLLBSC.gz                      Rb.GLLBSC.gz\n",
            "Ag.LDA.gz           Ir.9.LDA.gz                         Rb.LDA.gz\n",
            "Ag.PBE.gz           Ir.9.PBE.gz                         Rb.PBE.gz\n",
            "Ag.revPBE.gz        Ir.9.revPBE.gz                      Rb.revPBE.gz\n",
            "Ag.RPBE.gz          Ir.9.RPBE.gz                        Rb.RPBE.gz\n",
            "Al.dzp.basis.gz     Ir.dzp.basis.gz                     Re.dzp.basis.gz\n",
            "Al.GLLBSC.gz        I.revPBE.gz                         Re.GLLBSC.gz\n",
            "Al.LDA.gz           Ir.GLLBSC.gz                        Re.LDA.gz\n",
            "Al.PBE.gz           Ir.LDA.gz                           Re.PBE.gz\n",
            "Al.revPBE.gz        Ir.PBE.gz                           Re.revPBE.gz\n",
            "Al.RPBE.gz          I.RPBE.gz                           Re.RPBE.gz\n",
            "Ar.dzp.basis.gz     Ir.revPBE.gz                        Rh.9.dzp.basis.gz\n",
            "Ar.GLLBSC.gz        Ir.RPBE.gz                          Rh.9.GLLBSC.gz\n",
            "Ar.LDA.gz           K.dzp.basis.gz                      Rh.9.LDA.gz\n",
            "Ar.PBE.gz           K.GLLBSC.gz                         Rh.9.PBE.gz\n",
            "Ar.revPBE.gz        K.LDA.gz                            Rh.9.revPBE.gz\n",
            "Ar.RPBE.gz          K.PBE.gz                            Rh.9.RPBE.gz\n",
            "As.dzp.basis.gz     Kr.dzp.basis.gz                     Rh.dzp.basis.gz\n",
            "As.GLLBSC.gz        K.revPBE.gz                         Rh.GLLBSC.gz\n",
            "As.LDA.gz           Kr.GLLBSC.gz                        Rh.LDA.gz\n",
            "As.PBE.gz           Kr.LDA.gz                           Rh.PBE.gz\n",
            "As.revPBE.gz        Kr.PBE.gz                           Rh.revPBE.gz\n",
            "As.RPBE.gz          K.RPBE.gz                           Rh.RPBE.gz\n",
            "Au.dzp.basis.gz     Kr.revPBE.gz                        Rn.dzp.basis.gz\n",
            "Au.GLLBSC.gz        Kr.RPBE.gz                          Rn.GLLBSC.gz\n",
            "Au.LDA.gz           La.dzp.basis.gz                     Rn.LDA.gz\n",
            "Au.PBE.gz           La.LDA.gz                           Rn.PBE.gz\n",
            "Au.revPBE.gz        La.PBE.gz                           Rn.revPBE.gz\n",
            "Au.RPBE.gz          LICENSE                             Rn.RPBE.gz\n",
            "Ba.dzp.basis.gz     Li.dzp.basis.gz                     Ru.8.dzp.basis.gz\n",
            "Ba.GLLBSC.gz        Li.GLLBSC.gz                        Ru.8.GLLBSC.gz\n",
            "Ba.LDA.gz           Li.LDA.gz                           Ru.8.LDA.gz\n",
            "Ba.PBE.gz           Li.PBE.gz                           Ru.8.PBE.gz\n",
            "Ba.revPBE.gz        Li.revPBE.gz                        Ru.8.revPBE.gz\n",
            "Ba.RPBE.gz          Li.RPBE.gz                          Ru.8.RPBE.gz\n",
            "B.dzp.basis.gz      Lu.dzp.basis.gz                     Ru.dzp.basis.gz\n",
            "Be.dzp.basis.gz     Lu.LDA.gz                           Ru.GLLBSC.gz\n",
            "Be.GLLBSC.gz        Lu.PBE.gz                           Ru.LDA.gz\n",
            "Be.LDA.gz           Mg.2.dzp.basis.gz                   Ru.PBE.gz\n",
            "Be.PBE.gz           Mg.2.GLLBSC.gz                      Ru.revPBE.gz\n",
            "Be.revPBE.gz        Mg.2.LDA.gz                         Ru.RPBE.gz\n",
            "Be.RPBE.gz          Mg.2.PBE.gz                         Sb.dzp.basis.gz\n",
            "B.GLLBSC.gz         Mg.2.revPBE.gz                      Sb.GLLBSC.gz\n",
            "Bi.dzp.basis.gz     Mg.2.RPBE.gz                        Sb.LDA.gz\n",
            "Bi.GLLBSC.gz        Mg.dzp.basis.gz                     Sb.PBE.gz\n",
            "Bi.LDA.gz           Mg.GLLBSC.gz                        Sb.revPBE.gz\n",
            "Bi.PBE.gz           Mg.LDA.gz                           Sb.RPBE.gz\n",
            "Bi.revPBE.gz        Mg.PBE.gz                           Sc.dzp.basis.gz\n",
            "Bi.RPBE.gz          Mg.revPBE.gz                        Sc.GLLBSC.gz\n",
            "B.LDA.gz            Mg.RPBE.gz                          Sc.LDA.gz\n",
            "B.PBE.gz            Mn.7.dzp.basis.gz                   Sc.PBE.gz\n",
            "Br.dzp.basis.gz     Mn.7.GLLBSC.gz                      Sc.revPBE.gz\n",
            "B.revPBE.gz         Mn.7.LDA.gz                         Sc.RPBE.gz\n",
            "Br.GLLBSC.gz        Mn.7.PBE.gz                         S.dzp.basis.gz\n",
            "Br.LDA.gz           Mn.7.revPBE.gz                      Se.dzp.basis.gz\n",
            "Br.PBE.gz           Mn.7.RPBE.gz                        Se.GLLBSC.gz\n",
            "B.RPBE.gz           Mn.dzp.basis.gz                     Se.LDA.gz\n",
            "Br.revPBE.gz        Mn.GLLBSC.gz                        Se.PBE.gz\n",
            "Br.RPBE.gz          Mn.LDA.gz                           Se.revPBE.gz\n",
            "Ca.dzp.basis.gz     Mn.PBE.gz                           Se.RPBE.gz\n",
            "Ca.GLLBSC.gz        Mn.revPBE.gz                        S.GLLBSC.gz\n",
            "Ca.LDA.gz           Mn.RPBE.gz                          Si.dzp.basis.gz\n",
            "Ca.PBE.gz           Mo.6.dzp.basis.gz                   Si.GLLBSC.gz\n",
            "Ca.revPBE.gz        Mo.6.GLLBSC.gz                      Si.LDA.gz\n",
            "Ca.RPBE.gz          Mo.6.LDA.gz                         Si.PBE.gz\n",
            "Cd.dzp.basis.gz     Mo.6.PBE.gz                         Si.revPBE.gz\n",
            "Cd.GLLBSC.gz        Mo.6.revPBE.gz                      Si.RPBE.gz\n",
            "Cd.LDA.gz           Mo.6.RPBE.gz                        S.LDA.gz\n",
            "Cd.PBE.gz           Mo.dzp.basis.gz                     Sm.dzp.basis.gz\n",
            "Cd.revPBE.gz        Mo.GLLBSC.gz                        Sm.LDA.gz\n",
            "Cd.RPBE.gz          Mo.LDA.gz                           Sm.PBE.gz\n",
            "C.dzp.basis.gz      Mo.PBE.gz                           Sn.dzp.basis.gz\n",
            "Ce.dzp.basis.gz     Mo.revPBE.gz                        Sn.GLLBSC.gz\n",
            "Ce.LDA.gz           Mo.RPBE.gz                          Sn.LDA.gz\n",
            "Ce.PBE.gz           Na.1.dzp.basis.gz                   Sn.PBE.gz\n",
            "C.GLLBSC.gz         Na.1.GLLBSC.gz                      Sn.revPBE.gz\n",
            "C.LDA.gz            Na.1.LDA.gz                         Sn.RPBE.gz\n",
            "Cl.dzp.basis.gz     Na.1.PBE.gz                         S.PBE.gz\n",
            "Cl.GLLBSC.gz        Na.1.revPBE.gz                      Sr.dzp.basis.gz\n",
            "Cl.LDA.gz           Na.1.RPBE.gz                        S.revPBE.gz\n",
            "Cl.PBE.gz           Na.dzp.basis.gz                     Sr.GLLBSC.gz\n",
            "Cl.revPBE.gz        Na.GLLBSC.gz                        Sr.LDA.gz\n",
            "Cl.RPBE.gz          Na.LDA.gz                           Sr.PBE.gz\n",
            "Co.dzp.basis.gz     Na.PBE.gz                           S.RPBE.gz\n",
            "Co.GLLBSC.gz        Na.revPBE.gz                        Sr.revPBE.gz\n",
            "Co.LDA.gz           Na.RPBE.gz                          Sr.RPBE.gz\n",
            "Co.PBE.gz           Nb.5.dzp.basis.gz                   Ta.5.dzp.basis.gz\n",
            "COPYING             Nb.5.GLLBSC.gz                      Ta.5.GLLBSC.gz\n",
            "Co.revPBE.gz        Nb.5.LDA.gz                         Ta.5.LDA.gz\n",
            "Co.RPBE.gz          Nb.5.PBE.gz                         Ta.5.PBE.gz\n",
            "C.PBE.gz            Nb.5.revPBE.gz                      Ta.5.revPBE.gz\n",
            "Cr.14.dzp.basis.gz  Nb.5.RPBE.gz                        Ta.5.RPBE.gz\n",
            "Cr.14.LDA.gz        Nb.dzp.basis.gz                     Ta.dzp.basis.gz\n",
            "Cr.14.PBE.gz        Nb.GLLBSC.gz                        Ta.GLLBSC.gz\n",
            "Cr.dzp.basis.gz     Nb.LDA.gz                           Ta.LDA.gz\n",
            "C.revPBE.gz         Nb.PBE.gz                           Ta.PBE.gz\n",
            "Cr.GLLBSC.gz        Nb.revPBE.gz                        Ta.revPBE.gz\n",
            "Cr.LDA.gz           Nb.RPBE.gz                          Ta.RPBE.gz\n",
            "Cr.PBE.gz           Nd.dzp.basis.gz                     Tb.dzp.basis.gz\n",
            "C.RPBE.gz           Nd.LDA.gz                           Tb.LDA.gz\n",
            "Cr.revPBE.gz        Nd.PBE.gz                           Tb.PBE.gz\n",
            "Cr.RPBE.gz          N.dzp.basis.gz                      Te.16.dzp.basis.gz\n",
            "Cs.dzp.basis.gz     Ne.dzp.basis.gz                     Te.16.GLLBSC.gz\n",
            "Cs.GLLBSC.gz        Ne.GLLBSC.gz                        Te.16.LDA.gz\n",
            "Cs.LDA.gz           Ne.LDA.gz                           Te.16.PBE.gz\n",
            "Cs.PBE.gz           Ne.PBE.gz                           Te.16.revPBE.gz\n",
            "Cs.revPBE.gz        Ne.revPBE.gz                        Te.16.RPBE.gz\n",
            "Cs.RPBE.gz          Ne.RPBE.gz                          Te.dzp.basis.gz\n",
            "Cu.dzp.basis.gz     N.GLLBSC.gz                         Te.GLLBSC.gz\n",
            "Cu.GLLBSC.gz        Ni.10.dzp.basis.gz                  Te.LDA.gz\n",
            "Cu.LDA.gz           Ni.10.GLLBSC.gz                     Te.PBE.gz\n",
            "Cu.PBE.gz           Ni.10.LDA.gz                        Te.revPBE.gz\n",
            "Cu.revPBE.gz        Ni.10.PBE.gz                        Te.RPBE.gz\n",
            "Cu.RPBE.gz          Ni.10.revPBE.gz                     Ti.dzp.basis.gz\n",
            "Dy.dzp.basis.gz     Ni.10.RPBE.gz                       Ti.GLLBSC.gz\n",
            "Dy.LDA.gz           Ni.dzp.basis.gz                     Ti.LDA.gz\n",
            "Dy.PBE.gz           Ni.GLLBSC.gz                        Ti.PBE.gz\n",
            "Er.dzp.basis.gz     Ni.LDA.gz                           Ti.revPBE.gz\n",
            "Er.LDA.gz           Ni.PBE.gz                           Ti.RPBE.gz\n",
            "Er.PBE.gz           Ni.revPBE.gz                        Tl.dzp.basis.gz\n",
            "Eu.dzp.basis.gz     Ni.RPBE.gz                          Tl.GLLBSC.gz\n",
            "Eu.LDA.gz           N.LDA.gz                            Tl.LDA.gz\n",
            "Eu.PBE.gz           N.PBE.gz                            Tl.PBE.gz\n",
            "F.dzp.basis.gz      N.revPBE.gz                         Tl.revPBE.gz\n",
            "Fe.dzp.basis.gz     N.RPBE.gz                           Tl.RPBE.gz\n",
            "Fe.GLLBSC.gz        O.dzp.basis.gz                      Tm.dzp.basis.gz\n",
            "Fe.LDA.gz           O.GLLBSC.gz                         Tm.LDA.gz\n",
            "Fe.PBE.gz           O.LDA.gz                            Tm.PBE.gz\n",
            "Fe.revPBE.gz        O.PBE.gz                            V.5.dzp.basis.gz\n",
            "Fe.RPBE.gz          O.revPBE.gz                         V.5.GLLBSC.gz\n",
            "F.GLLBSC.gz         O.RPBE.gz                           V.5.LDA.gz\n",
            "F.LDA.gz            Os.8.dzp.basis.gz                   V.5.PBE.gz\n",
            "F.PBE.gz            Os.8.GLLBSC.gz                      V.5.revPBE.gz\n",
            "F.revPBE.gz         Os.8.LDA.gz                         V.5.RPBE.gz\n",
            "F.RPBE.gz           Os.8.PBE.gz                         V.dzp.basis.gz\n",
            "Ga.dzp.basis.gz     Os.8.revPBE.gz                      V.GLLBSC.gz\n",
            "Ga.GLLBSC.gz        Os.8.RPBE.gz                        V.LDA.gz\n",
            "Ga.LDA.gz           Os.dzp.basis.gz                     V.PBE.gz\n",
            "Ga.PBE.gz           Os.GLLBSC.gz                        V.revPBE.gz\n",
            "Ga.revPBE.gz        Os.LDA.gz                           V.RPBE.gz\n",
            "Ga.RPBE.gz          Os.PBE.gz                           W.6.dzp.basis.gz\n",
            "Gd.dzp.basis.gz     Os.revPBE.gz                        W.6.GLLBSC.gz\n",
            "Gd.LDA.gz           Os.RPBE.gz                          W.6.LDA.gz\n",
            "Gd.PBE.gz           Pb.dzp.basis.gz                     W.6.PBE.gz\n",
            "Ge.dzp.basis.gz     Pb.GLLBSC.gz                        W.6.revPBE.gz\n",
            "Ge.GLLBSC.gz        Pb.LDA.gz                           W.6.RPBE.gz\n",
            "Ge.LDA.gz           Pb.PBE.gz                           W.dzp.basis.gz\n",
            "Ge.PBE.gz           Pb.revPBE.gz                        W.GLLBSC.gz\n",
            "Ge.revPBE.gz        Pb.RPBE.gz                          W.LDA.gz\n",
            "Ge.RPBE.gz          Pd.10.dzp.basis.gz                  W.PBE.gz\n",
            "H.dzp.basis.gz      Pd.10.GLLBSC.gz                     W.revPBE.gz\n",
            "He.dzp.basis.gz     Pd.10.LDA.gz                        W.RPBE.gz\n",
            "He.GLLBSC.gz        Pd.10.PBE.gz                        Xe.dzp.basis.gz\n",
            "He.LDA.gz           Pd.10.revPBE.gz                     Xe.GLLBSC.gz\n",
            "He.PBE.gz           Pd.10.RPBE.gz                       Xe.LDA.gz\n",
            "He.revPBE.gz        Pd.dzp.basis.gz                     Xe.PBE.gz\n",
            "He.RPBE.gz          Pd.GLLBSC.gz                        Xe.revPBE.gz\n",
            "Hf.dzp.basis.gz     Pd.LDA.gz                           Xe.RPBE.gz\n",
            "Hf.GLLBSC.gz        Pd.PBE.gz                           Yb.dzp.basis.gz\n",
            "Hf.LDA.gz           Pd.revPBE.gz                        Yb.LDA.gz\n",
            "Hf.PBE.gz           Pd.RPBE.gz                          Yb.PBE.gz\n",
            "Hf.revPBE.gz        P.dzp.basis.gz                      Y.dzp.basis.gz\n",
            "Hf.RPBE.gz          P.GLLBSC.gz                         Y.GLLBSC.gz\n",
            "Hg.dzp.basis.gz     phi-0.500-1.000-20.000-21-201.pckl  Y.LDA.gz\n",
            "Hg.GLLBSC.gz        phi-0.500-1.000-20.000-21-201.txt   Y.PBE.gz\n",
            "Hg.LDA.gz           P.LDA.gz                            Y.revPBE.gz\n",
            "H.GLLBSC.gz         Pm.dzp.basis.gz                     Y.RPBE.gz\n",
            "Hg.PBE.gz           Pm.LDA.gz                           Zn.dzp.basis.gz\n",
            "Hg.revPBE.gz        Pm.PBE.gz                           Zn.GLLBSC.gz\n",
            "Hg.RPBE.gz          P.PBE.gz                            Zn.LDA.gz\n",
            "H.LDA.gz            Pr.dzp.basis.gz                     Zn.PBE.gz\n",
            "Ho.dzp.basis.gz     P.revPBE.gz                         Zn.revPBE.gz\n",
            "Ho.LDA.gz           Pr.LDA.gz                           Zn.RPBE.gz\n",
            "Ho.PBE.gz           Pr.PBE.gz                           Zr.dzp.basis.gz\n",
            "H.PBE.gz            P.RPBE.gz                           Zr.GLLBSC.gz\n",
            "H.revPBE.gz         Pt.10.dzp.basis.gz                  Zr.LDA.gz\n",
            "H.RPBE.gz           Pt.10.GLLBSC.gz                     Zr.PBE.gz\n",
            "I.dzp.basis.gz      Pt.10.LDA.gz                        Zr.revPBE.gz\n",
            "I.GLLBSC.gz         Pt.10.PBE.gz                        Zr.RPBE.gz\n",
            "I.LDA.gz            Pt.10.revPBE.gz\n",
            "In.dzp.basis.gz     Pt.10.RPBE.gz\n"
          ]
        }
      ]
    },
    {
      "cell_type": "code",
      "source": [
        "!pip install gpaw ase\n",
        "\n",
        "!wget https://wiki.fysik.dtu.dk/gpaw-files/gpaw-setups-24.11.0.tar.gz\n",
        "!head -n 5 gpaw-setups-24.11.0.tar.gz"
      ],
      "metadata": {
        "colab": {
          "base_uri": "https://localhost:8080/"
        },
        "id": "poAHwd79Oxun",
        "outputId": "89689c39-d961-43ad-f776-daa727d6aeb6"
      },
      "execution_count": null,
      "outputs": [
        {
          "output_type": "stream",
          "name": "stdout",
          "text": [
            "Requirement already satisfied: gpaw in /usr/local/lib/python3.11/dist-packages (25.1.0)\n",
            "Requirement already satisfied: ase in /usr/local/lib/python3.11/dist-packages (3.25.0)\n",
            "Requirement already satisfied: numpy in /usr/local/lib/python3.11/dist-packages (from gpaw) (2.0.2)\n",
            "Requirement already satisfied: scipy>=1.6.0 in /usr/local/lib/python3.11/dist-packages (from gpaw) (1.15.3)\n",
            "Requirement already satisfied: matplotlib>=3.3.4 in /usr/local/lib/python3.11/dist-packages (from ase) (3.10.0)\n",
            "Requirement already satisfied: contourpy>=1.0.1 in /usr/local/lib/python3.11/dist-packages (from matplotlib>=3.3.4->ase) (1.3.2)\n",
            "Requirement already satisfied: cycler>=0.10 in /usr/local/lib/python3.11/dist-packages (from matplotlib>=3.3.4->ase) (0.12.1)\n",
            "Requirement already satisfied: fonttools>=4.22.0 in /usr/local/lib/python3.11/dist-packages (from matplotlib>=3.3.4->ase) (4.58.2)\n",
            "Requirement already satisfied: kiwisolver>=1.3.1 in /usr/local/lib/python3.11/dist-packages (from matplotlib>=3.3.4->ase) (1.4.8)\n",
            "Requirement already satisfied: packaging>=20.0 in /usr/local/lib/python3.11/dist-packages (from matplotlib>=3.3.4->ase) (24.2)\n",
            "Requirement already satisfied: pillow>=8 in /usr/local/lib/python3.11/dist-packages (from matplotlib>=3.3.4->ase) (11.2.1)\n",
            "Requirement already satisfied: pyparsing>=2.3.1 in /usr/local/lib/python3.11/dist-packages (from matplotlib>=3.3.4->ase) (3.2.3)\n",
            "Requirement already satisfied: python-dateutil>=2.7 in /usr/local/lib/python3.11/dist-packages (from matplotlib>=3.3.4->ase) (2.9.0.post0)\n",
            "Requirement already satisfied: six>=1.5 in /usr/local/lib/python3.11/dist-packages (from python-dateutil>=2.7->matplotlib>=3.3.4->ase) (1.17.0)\n",
            "--2025-06-18 09:34:19--  https://wiki.fysik.dtu.dk/gpaw-files/gpaw-setups-24.11.0.tar.gz\n",
            "Resolving wiki.fysik.dtu.dk (wiki.fysik.dtu.dk)... 130.225.86.27\n",
            "Connecting to wiki.fysik.dtu.dk (wiki.fysik.dtu.dk)|130.225.86.27|:443... connected.\n",
            "HTTP request sent, awaiting response... 200 OK\n",
            "Length: 71622074 (68M) [application/x-gzip]\n",
            "Saving to: ‘gpaw-setups-24.11.0.tar.gz’\n",
            "\n",
            "gpaw-setups-24.11.0 100%[===================>]  68.30M  96.9MB/s    in 0.7s    \n",
            "\n",
            "2025-06-18 09:34:20 (96.9 MB/s) - ‘gpaw-setups-24.11.0.tar.gz’ saved [71622074/71622074]\n",
            "\n",
            "���\u001e�?-���>��>�\u0003��?H~/��?��ޯ�߾�~����\u0001�?��?��OO��oO��������?\u001f���\u000f������~\u001f\u0017�\u0018_�~���?\u0007�\u001f\u001f��\u001f��_�����\u001f��?���[�ߟ���������+�{�+X����x��}�?�~���L������ػ\u001e<����t�����|_^��|������g���G����������xW����:���j�����~�7���������� ^5�?<�G��~W��\u0016����\u000bp���=��~��s��s���5���sK����ۿ���}�x�\u0004\u0000�����Y������~��\t�\u0000��o[}���+������ߏY{����d���\u0017�����~c�ׇ�z���1՗o��o�q�ا�U�O������������9�o����>���z[�#�=}��\u0007w�/W�����:7\u0002\u0000��u|g�u��@g�ag����sw��f�l�\n",
            "��2��\u001d�w�����:MJ��[�7�\u001f@ޏ��\f\u001f�������?���\u0001`W\u0017�G\u001b��\u001d�G|c��W�e��ɫ�\u001f��\\�3\\���z�������q���}����(k<�����u���w����D�ח��o;����n����7����s�+^���7ܵ�8ƹ{�\u0013��,����m����������\"���\u001b��뮿��p��������7�����WW�@���w��w��|���\u000f\u0000��t'\u0018h[�_�������?-�>=�_��=������\u001a��\u0001�\u0019?��\u00020����\u000e�;�>~�cn�گv.��������K����m���%L��a�n4\u0017��Z����\u001f��ןv�9�}q�;k�Ѿ���\\W�����w[|�]�(;�{e�?����=��\u0007@�u�O����ƹg��0��q�9��9�;�/;ǚW������n�;Yo���Vn��=��W��^_m���}��\u0002~�EmZ��\u0014�^��\u0000��u���w��i�?Em^�3z\u0018��)�^���w���\u001d<�e���)��s�[.z�\u0011w�:C\u0000�X��\\uގ�����ק\u0018c~^ղϝ;�횿;�o+�+$�mNXW\u0018�ߵg\\W�����O�xg�m�^@��1�\n",
            "��woJ�l��_��C��\u0005N\u0016`a�+�\u0017G�w�&:�~�\u0000}�e=�\u0012�&�Q�q�]��x�;�|e]��l+S_�c�������s�ܝVis�G��}����\u001c��\u0015��d�U�/w��s|u�}\u0017]�O�۴2\u0018W���k�|�~\u0003��*E\u0019�|��\u0001��+�<����K\u0019�SM�7��E��?\u000f���W�?�,\u0017�t��\u0011vd��f��3�y�4����]����\u001fWIw�S��F/�VvS\u0015��}�y���s�֪�\u0019��ﱚV!��m\u001c��;���\u000f�����X��xaZm��v�mź䩺����?��������ٖ�F��|=�w��F]�_�z���>��{��ji�����E\u0003��S���\\+���\u0005$z��N��.�w�)\"|��5�՛W��P����W�\u00046�,�Ɏ��\u001b�]���k���{�%r�r�\u001b�3�5u��Ӝ���b�Ġ�レ�;�E\u000f����g����\n",
            "X#b�T\u001e�E]kt\\�̌v�[sk;����υ��}Y���\u001bW�o��q*s�J�7�\n",
            "�\u000e�n.���m�3��L�ub�,J���Ր�+s�:Ѹ��Jz\n"
          ]
        }
      ]
    },
    {
      "cell_type": "code",
      "source": [
        "!tar -xzf gpaw-setups-24.11.0.tar.gz"
      ],
      "metadata": {
        "id": "2pNCVQU2R0RJ"
      },
      "execution_count": null,
      "outputs": []
    },
    {
      "cell_type": "markdown",
      "source": [
        "**CO Adsorption on Cu {For Fun}**"
      ],
      "metadata": {
        "id": "gDzfkS0q3vIX"
      }
    },
    {
      "cell_type": "code",
      "source": [
        "!pip install gpaw ase\n",
        "\n",
        "!wget https://wiki.fysik.dtu.dk/gpaw-files/gpaw-setups-24.11.0.tar.gz\n",
        "\n",
        "!head -n 5 gpaw-setups-24.11.0.tar.gz\n",
        "\n",
        "!tar -xzf gpaw-setups-24.11.0.tar.gz\n",
        "\n",
        "import os\n",
        "os.environ[\"GPAW_SETUP_PATH\"] = \"/content/gpaw-setups-24.11.0\"\n",
        "\n",
        "from ase.build import fcc111, add_adsorbate\n",
        "from ase.constraints import FixAtoms\n",
        "from ase.optimize import BFGS\n",
        "from gpaw import GPAW, PW\n",
        "\n",
        "slab = fcc111('Cu', size=(2, 2, 3), vacuum=10.0)\n",
        "add_adsorbate(slab, 'C', height=1.85, position='ontop')\n",
        "add_adsorbate(slab, 'O', height=3.00, position='ontop')\n",
        "slab.center(axis=2, vacuum=10.0)\n",
        "\n",
        "fixed_indices = [atom.index for atom in slab if atom.position[2] < slab.positions[:,2].mean()]\n",
        "slab.set_constraint(FixAtoms(indices=fixed_indices))\n",
        "\n",
        "slab.calc = GPAW(\n",
        "    mode=PW(400),\n",
        "    xc='PBE',\n",
        "    kpts=(2, 2, 1),\n",
        "    txt='gpaw.log'\n",
        ")\n",
        "\n",
        "opt = BFGS(slab, logfile='optimization.log')\n",
        "opt.run(fmax=0.05)\n",
        "\n",
        "print(\"Final energy:\", slab.get_potential_energy(), \"eV\")"
      ],
      "metadata": {
        "id": "d4Mx9gSv4iwc",
        "colab": {
          "base_uri": "https://localhost:8080/",
          "height": 956
        },
        "outputId": "4571ee06-30ee-498d-9fa1-6a106f092a8a"
      },
      "execution_count": null,
      "outputs": [
        {
          "output_type": "stream",
          "name": "stdout",
          "text": [
            "Requirement already satisfied: gpaw in /usr/local/lib/python3.11/dist-packages (25.1.0)\n",
            "Requirement already satisfied: ase in /usr/local/lib/python3.11/dist-packages (3.25.0)\n",
            "Requirement already satisfied: numpy in /usr/local/lib/python3.11/dist-packages (from gpaw) (2.0.2)\n",
            "Requirement already satisfied: scipy>=1.6.0 in /usr/local/lib/python3.11/dist-packages (from gpaw) (1.15.2)\n",
            "Requirement already satisfied: matplotlib>=3.3.4 in /usr/local/lib/python3.11/dist-packages (from ase) (3.10.0)\n",
            "Requirement already satisfied: contourpy>=1.0.1 in /usr/local/lib/python3.11/dist-packages (from matplotlib>=3.3.4->ase) (1.3.2)\n",
            "Requirement already satisfied: cycler>=0.10 in /usr/local/lib/python3.11/dist-packages (from matplotlib>=3.3.4->ase) (0.12.1)\n",
            "Requirement already satisfied: fonttools>=4.22.0 in /usr/local/lib/python3.11/dist-packages (from matplotlib>=3.3.4->ase) (4.57.0)\n",
            "Requirement already satisfied: kiwisolver>=1.3.1 in /usr/local/lib/python3.11/dist-packages (from matplotlib>=3.3.4->ase) (1.4.8)\n",
            "Requirement already satisfied: packaging>=20.0 in /usr/local/lib/python3.11/dist-packages (from matplotlib>=3.3.4->ase) (24.2)\n",
            "Requirement already satisfied: pillow>=8 in /usr/local/lib/python3.11/dist-packages (from matplotlib>=3.3.4->ase) (11.2.1)\n",
            "Requirement already satisfied: pyparsing>=2.3.1 in /usr/local/lib/python3.11/dist-packages (from matplotlib>=3.3.4->ase) (3.2.3)\n",
            "Requirement already satisfied: python-dateutil>=2.7 in /usr/local/lib/python3.11/dist-packages (from matplotlib>=3.3.4->ase) (2.9.0.post0)\n",
            "Requirement already satisfied: six>=1.5 in /usr/local/lib/python3.11/dist-packages (from python-dateutil>=2.7->matplotlib>=3.3.4->ase) (1.17.0)\n",
            "--2025-05-07 13:38:00--  https://wiki.fysik.dtu.dk/gpaw-files/gpaw-setups-24.11.0.tar.gz\n",
            "Resolving wiki.fysik.dtu.dk (wiki.fysik.dtu.dk)... 130.225.86.27\n",
            "Connecting to wiki.fysik.dtu.dk (wiki.fysik.dtu.dk)|130.225.86.27|:443... connected.\n",
            "HTTP request sent, awaiting response... 200 OK\n",
            "Length: 71622074 (68M) [application/x-gzip]\n",
            "Saving to: ‘gpaw-setups-24.11.0.tar.gz.3’\n",
            "\n",
            "gpaw-setups-24.11.0 100%[===================>]  68.30M  23.4MB/s    in 2.9s    \n",
            "\n",
            "2025-05-07 13:38:03 (23.4 MB/s) - ‘gpaw-setups-24.11.0.tar.gz.3’ saved [71622074/71622074]\n",
            "\n",
            "���\u001e�?-���>��>�\u0003��?H~/��?��ޯ�߾�~����\u0001�?��?��OO��oO��������?\u001f���\u000f������~\u001f\u0017�\u0018_�~���?\u0007�\u001f\u001f��\u001f��_�����\u001f��?���[�ߟ���������+�{�+X����x��}�?�~���L������ػ\u001e<����t�����|_^��|������g���G����������xW����:���j�����~�7���������� ^5�?<�G��~W��\u0016����\u000bp���=��~��s��s���5���sK����ۿ���}�x�\u0004\u0000�����Y������~��\t�\u0000��o[}���+������ߏY{����d���\u0017�����~c�ׇ�z���1՗o��o�q�ا�U�O������������9�o����>���z[�#�=}��\u0007w�/W�����:7\u0002\u0000��u|g�u��@g�ag����sw��f�l�\n",
            "��2��\u001d�w�����:MJ��[�7�\u001f@ޏ��\f\u001f�������?���\u0001`W\u0017�G\u001b��\u001d�G|c��W�e��ɫ�\u001f��\\�3\\���z�������q���}����(k<�����u���w����D�ח��o;����n����7����s�+^���7ܵ�8ƹ{�\u0013��,����m����������\"���\u001b��뮿��p��������7�����WW�@���w��w��|���\u000f\u0000��t'\u0018h[�_�������?-�>=�_��=������\u001a��\u0001�\u0019?��\u00020����\u000e�;�>~�cn�گv.��������K����m���%L��a�n4\u0017��Z����\u001f��ןv�9�}q�;k�Ѿ���\\W�����w[|�]�(;�{e�?����=��\u0007@�u�O����ƹg��0��q�9��9�;�/;ǚW������n�;Yo���Vn��=��W��^_m���}��\u0002~�EmZ��\u0014�^��\u0000��u���w��i�?Em^�3z\u0018��)�^���w���\u001d<�e���)��s�[.z�\u0011w�:C\u0000�X��\\uގ�����ק\u0018c~^ղϝ;�횿;�o+�+$�mNXW\u0018�ߵg\\W�����O�xg�m�^@��1�\n",
            "��woJ�l��_��C��\u0005N\u0016`a�+�\u0017G�w�&:�~�\u0000}�e=�\u0012�&�Q�q�]��x�;�|e]��l+S_�c�������s�ܝVis�G��}����\u001c��\u0015��d�U�/w��s|u�}\u0017]�O�۴2\u0018W���k�|�~\u0003��*E\u0019�|��\u0001��+�<����K\u0019�SM�7��E��?\u000f���W�?�,\u0017�t��\u0011vd��f��3�y�4����]����\u001fWIw�S��F/�VvS\u0015��}�y���s�֪�\u0019��ﱚV!��m\u001c��;���\u000f�����X��xaZm��v�mź䩺����?��������ٖ�F��|=�w��F]�_�z���>��{��ji�����E\u0003��S���\\+���\u0005$z��N��.�w�)\"|��5�՛W��P����W�\u00046�,�Ɏ��\u001b�]���k���{�%r�r�\u001b�3�5u��Ӝ���b�Ġ�レ�;�E\u000f����g����\n",
            "X#b�T\u001e�E]kt\\�̌v�[sk;����υ��}Y���\u001bW�o��q*s�J�7�\n",
            "�\u000e�n.���m�3��L�ub�,J���Ր�+s�:Ѹ��Jz\n"
          ]
        },
        {
          "output_type": "error",
          "ename": "KeyboardInterrupt",
          "evalue": "",
          "traceback": [
            "\u001b[0;31m---------------------------------------------------------------------------\u001b[0m",
            "\u001b[0;31mKeyboardInterrupt\u001b[0m                         Traceback (most recent call last)",
            "\u001b[0;32m<ipython-input-9-48eec6b38d43>\u001b[0m in \u001b[0;36m<cell line: 0>\u001b[0;34m()\u001b[0m\n\u001b[1;32m     31\u001b[0m \u001b[0;34m\u001b[0m\u001b[0m\n\u001b[1;32m     32\u001b[0m \u001b[0mopt\u001b[0m \u001b[0;34m=\u001b[0m \u001b[0mBFGS\u001b[0m\u001b[0;34m(\u001b[0m\u001b[0mslab\u001b[0m\u001b[0;34m,\u001b[0m \u001b[0mlogfile\u001b[0m\u001b[0;34m=\u001b[0m\u001b[0;34m'optimization.log'\u001b[0m\u001b[0;34m)\u001b[0m\u001b[0;34m\u001b[0m\u001b[0;34m\u001b[0m\u001b[0m\n\u001b[0;32m---> 33\u001b[0;31m \u001b[0mopt\u001b[0m\u001b[0;34m.\u001b[0m\u001b[0mrun\u001b[0m\u001b[0;34m(\u001b[0m\u001b[0mfmax\u001b[0m\u001b[0;34m=\u001b[0m\u001b[0;36m0.05\u001b[0m\u001b[0;34m)\u001b[0m\u001b[0;34m\u001b[0m\u001b[0;34m\u001b[0m\u001b[0m\n\u001b[0m\u001b[1;32m     34\u001b[0m \u001b[0;34m\u001b[0m\u001b[0m\n\u001b[1;32m     35\u001b[0m \u001b[0mprint\u001b[0m\u001b[0;34m(\u001b[0m\u001b[0;34m\"Final energy:\"\u001b[0m\u001b[0;34m,\u001b[0m \u001b[0mslab\u001b[0m\u001b[0;34m.\u001b[0m\u001b[0mget_potential_energy\u001b[0m\u001b[0;34m(\u001b[0m\u001b[0;34m)\u001b[0m\u001b[0;34m,\u001b[0m \u001b[0;34m\"eV\"\u001b[0m\u001b[0;34m)\u001b[0m\u001b[0;34m\u001b[0m\u001b[0;34m\u001b[0m\u001b[0m\n",
            "\u001b[0;32m/usr/local/lib/python3.11/dist-packages/ase/optimize/optimize.py\u001b[0m in \u001b[0;36mrun\u001b[0;34m(self, fmax, steps)\u001b[0m\n\u001b[1;32m    415\u001b[0m         \"\"\"\n\u001b[1;32m    416\u001b[0m         \u001b[0mself\u001b[0m\u001b[0;34m.\u001b[0m\u001b[0mfmax\u001b[0m \u001b[0;34m=\u001b[0m \u001b[0mfmax\u001b[0m\u001b[0;34m\u001b[0m\u001b[0;34m\u001b[0m\u001b[0m\n\u001b[0;32m--> 417\u001b[0;31m         \u001b[0;32mreturn\u001b[0m \u001b[0mDynamics\u001b[0m\u001b[0;34m.\u001b[0m\u001b[0mrun\u001b[0m\u001b[0;34m(\u001b[0m\u001b[0mself\u001b[0m\u001b[0;34m,\u001b[0m \u001b[0msteps\u001b[0m\u001b[0;34m=\u001b[0m\u001b[0msteps\u001b[0m\u001b[0;34m)\u001b[0m\u001b[0;34m\u001b[0m\u001b[0;34m\u001b[0m\u001b[0m\n\u001b[0m\u001b[1;32m    418\u001b[0m \u001b[0;34m\u001b[0m\u001b[0m\n\u001b[1;32m    419\u001b[0m     \u001b[0;32mdef\u001b[0m \u001b[0mconverged\u001b[0m\u001b[0;34m(\u001b[0m\u001b[0mself\u001b[0m\u001b[0;34m,\u001b[0m \u001b[0mforces\u001b[0m\u001b[0;34m=\u001b[0m\u001b[0;32mNone\u001b[0m\u001b[0;34m)\u001b[0m\u001b[0;34m:\u001b[0m\u001b[0;34m\u001b[0m\u001b[0;34m\u001b[0m\u001b[0m\n",
            "\u001b[0;32m/usr/local/lib/python3.11/dist-packages/ase/optimize/optimize.py\u001b[0m in \u001b[0;36mrun\u001b[0;34m(self, steps)\u001b[0m\n\u001b[1;32m    284\u001b[0m         \"\"\"\n\u001b[1;32m    285\u001b[0m \u001b[0;34m\u001b[0m\u001b[0m\n\u001b[0;32m--> 286\u001b[0;31m         \u001b[0;32mfor\u001b[0m \u001b[0mconverged\u001b[0m \u001b[0;32min\u001b[0m \u001b[0mDynamics\u001b[0m\u001b[0;34m.\u001b[0m\u001b[0mirun\u001b[0m\u001b[0;34m(\u001b[0m\u001b[0mself\u001b[0m\u001b[0;34m,\u001b[0m \u001b[0msteps\u001b[0m\u001b[0;34m=\u001b[0m\u001b[0msteps\u001b[0m\u001b[0;34m)\u001b[0m\u001b[0;34m:\u001b[0m\u001b[0;34m\u001b[0m\u001b[0;34m\u001b[0m\u001b[0m\n\u001b[0m\u001b[1;32m    287\u001b[0m             \u001b[0;32mpass\u001b[0m\u001b[0;34m\u001b[0m\u001b[0;34m\u001b[0m\u001b[0m\n\u001b[1;32m    288\u001b[0m         \u001b[0;32mreturn\u001b[0m \u001b[0mconverged\u001b[0m\u001b[0;34m\u001b[0m\u001b[0;34m\u001b[0m\u001b[0m\n",
            "\u001b[0;32m/usr/local/lib/python3.11/dist-packages/ase/optimize/optimize.py\u001b[0m in \u001b[0;36mirun\u001b[0;34m(self, steps)\u001b[0m\n\u001b[1;32m    259\u001b[0m \u001b[0;34m\u001b[0m\u001b[0m\n\u001b[1;32m    260\u001b[0m             \u001b[0;31m# log the step\u001b[0m\u001b[0;34m\u001b[0m\u001b[0;34m\u001b[0m\u001b[0m\n\u001b[0;32m--> 261\u001b[0;31m             \u001b[0mself\u001b[0m\u001b[0;34m.\u001b[0m\u001b[0mlog\u001b[0m\u001b[0;34m(\u001b[0m\u001b[0;34m)\u001b[0m\u001b[0;34m\u001b[0m\u001b[0;34m\u001b[0m\u001b[0m\n\u001b[0m\u001b[1;32m    262\u001b[0m             \u001b[0mself\u001b[0m\u001b[0;34m.\u001b[0m\u001b[0mcall_observers\u001b[0m\u001b[0;34m(\u001b[0m\u001b[0;34m)\u001b[0m\u001b[0;34m\u001b[0m\u001b[0;34m\u001b[0m\u001b[0m\n\u001b[1;32m    263\u001b[0m \u001b[0;34m\u001b[0m\u001b[0m\n",
            "\u001b[0;32m/usr/local/lib/python3.11/dist-packages/ase/optimize/optimize.py\u001b[0m in \u001b[0;36mlog\u001b[0;34m(self, forces)\u001b[0m\n\u001b[1;32m    425\u001b[0m     \u001b[0;32mdef\u001b[0m \u001b[0mlog\u001b[0m\u001b[0;34m(\u001b[0m\u001b[0mself\u001b[0m\u001b[0;34m,\u001b[0m \u001b[0mforces\u001b[0m\u001b[0;34m=\u001b[0m\u001b[0;32mNone\u001b[0m\u001b[0;34m)\u001b[0m\u001b[0;34m:\u001b[0m\u001b[0;34m\u001b[0m\u001b[0;34m\u001b[0m\u001b[0m\n\u001b[1;32m    426\u001b[0m         \u001b[0;32mif\u001b[0m \u001b[0mforces\u001b[0m \u001b[0;32mis\u001b[0m \u001b[0;32mNone\u001b[0m\u001b[0;34m:\u001b[0m\u001b[0;34m\u001b[0m\u001b[0;34m\u001b[0m\u001b[0m\n\u001b[0;32m--> 427\u001b[0;31m             \u001b[0mforces\u001b[0m \u001b[0;34m=\u001b[0m \u001b[0mself\u001b[0m\u001b[0;34m.\u001b[0m\u001b[0moptimizable\u001b[0m\u001b[0;34m.\u001b[0m\u001b[0mget_forces\u001b[0m\u001b[0;34m(\u001b[0m\u001b[0;34m)\u001b[0m\u001b[0;34m\u001b[0m\u001b[0;34m\u001b[0m\u001b[0m\n\u001b[0m\u001b[1;32m    428\u001b[0m         \u001b[0mfmax\u001b[0m \u001b[0;34m=\u001b[0m \u001b[0msqrt\u001b[0m\u001b[0;34m(\u001b[0m\u001b[0;34m(\u001b[0m\u001b[0mforces\u001b[0m \u001b[0;34m**\u001b[0m \u001b[0;36m2\u001b[0m\u001b[0;34m)\u001b[0m\u001b[0;34m.\u001b[0m\u001b[0msum\u001b[0m\u001b[0;34m(\u001b[0m\u001b[0maxis\u001b[0m\u001b[0;34m=\u001b[0m\u001b[0;36m1\u001b[0m\u001b[0;34m)\u001b[0m\u001b[0;34m.\u001b[0m\u001b[0mmax\u001b[0m\u001b[0;34m(\u001b[0m\u001b[0;34m)\u001b[0m\u001b[0;34m)\u001b[0m\u001b[0;34m\u001b[0m\u001b[0;34m\u001b[0m\u001b[0m\n\u001b[1;32m    429\u001b[0m         \u001b[0me\u001b[0m \u001b[0;34m=\u001b[0m \u001b[0mself\u001b[0m\u001b[0;34m.\u001b[0m\u001b[0moptimizable\u001b[0m\u001b[0;34m.\u001b[0m\u001b[0mget_potential_energy\u001b[0m\u001b[0;34m(\u001b[0m\u001b[0;34m)\u001b[0m\u001b[0;34m\u001b[0m\u001b[0;34m\u001b[0m\u001b[0m\n",
            "\u001b[0;32m/usr/local/lib/python3.11/dist-packages/ase/optimize/optimize.py\u001b[0m in \u001b[0;36mget_forces\u001b[0;34m(self)\u001b[0m\n\u001b[1;32m     35\u001b[0m \u001b[0;34m\u001b[0m\u001b[0m\n\u001b[1;32m     36\u001b[0m     \u001b[0;32mdef\u001b[0m \u001b[0mget_forces\u001b[0m\u001b[0;34m(\u001b[0m\u001b[0mself\u001b[0m\u001b[0;34m)\u001b[0m\u001b[0;34m:\u001b[0m\u001b[0;34m\u001b[0m\u001b[0;34m\u001b[0m\u001b[0m\n\u001b[0;32m---> 37\u001b[0;31m         \u001b[0;32mreturn\u001b[0m \u001b[0mself\u001b[0m\u001b[0;34m.\u001b[0m\u001b[0matoms\u001b[0m\u001b[0;34m.\u001b[0m\u001b[0mget_forces\u001b[0m\u001b[0;34m(\u001b[0m\u001b[0;34m)\u001b[0m\u001b[0;34m\u001b[0m\u001b[0;34m\u001b[0m\u001b[0m\n\u001b[0m\u001b[1;32m     38\u001b[0m \u001b[0;34m\u001b[0m\u001b[0m\n\u001b[1;32m     39\u001b[0m     \u001b[0;34m@\u001b[0m\u001b[0mcached_property\u001b[0m\u001b[0;34m\u001b[0m\u001b[0;34m\u001b[0m\u001b[0m\n",
            "\u001b[0;32m/usr/local/lib/python3.11/dist-packages/ase/atoms.py\u001b[0m in \u001b[0;36mget_forces\u001b[0;34m(self, apply_constraint, md)\u001b[0m\n\u001b[1;32m    827\u001b[0m         \u001b[0;32mif\u001b[0m \u001b[0mself\u001b[0m\u001b[0;34m.\u001b[0m\u001b[0m_calc\u001b[0m \u001b[0;32mis\u001b[0m \u001b[0;32mNone\u001b[0m\u001b[0;34m:\u001b[0m\u001b[0;34m\u001b[0m\u001b[0;34m\u001b[0m\u001b[0m\n\u001b[1;32m    828\u001b[0m             \u001b[0;32mraise\u001b[0m \u001b[0mRuntimeError\u001b[0m\u001b[0;34m(\u001b[0m\u001b[0;34m'Atoms object has no calculator.'\u001b[0m\u001b[0;34m)\u001b[0m\u001b[0;34m\u001b[0m\u001b[0;34m\u001b[0m\u001b[0m\n\u001b[0;32m--> 829\u001b[0;31m         \u001b[0mforces\u001b[0m \u001b[0;34m=\u001b[0m \u001b[0mself\u001b[0m\u001b[0;34m.\u001b[0m\u001b[0m_calc\u001b[0m\u001b[0;34m.\u001b[0m\u001b[0mget_forces\u001b[0m\u001b[0;34m(\u001b[0m\u001b[0mself\u001b[0m\u001b[0;34m)\u001b[0m\u001b[0;34m\u001b[0m\u001b[0;34m\u001b[0m\u001b[0m\n\u001b[0m\u001b[1;32m    830\u001b[0m \u001b[0;34m\u001b[0m\u001b[0m\n\u001b[1;32m    831\u001b[0m         \u001b[0;32mif\u001b[0m \u001b[0mapply_constraint\u001b[0m\u001b[0;34m:\u001b[0m\u001b[0;34m\u001b[0m\u001b[0;34m\u001b[0m\u001b[0m\n",
            "\u001b[0;32m/usr/local/lib/python3.11/dist-packages/ase/calculators/abc.py\u001b[0m in \u001b[0;36mget_forces\u001b[0;34m(self, atoms)\u001b[0m\n\u001b[1;32m     30\u001b[0m \u001b[0;34m\u001b[0m\u001b[0m\n\u001b[1;32m     31\u001b[0m     \u001b[0;32mdef\u001b[0m \u001b[0mget_forces\u001b[0m\u001b[0;34m(\u001b[0m\u001b[0mself\u001b[0m\u001b[0;34m,\u001b[0m \u001b[0matoms\u001b[0m\u001b[0;34m=\u001b[0m\u001b[0;32mNone\u001b[0m\u001b[0;34m)\u001b[0m\u001b[0;34m:\u001b[0m\u001b[0;34m\u001b[0m\u001b[0;34m\u001b[0m\u001b[0m\n\u001b[0;32m---> 32\u001b[0;31m         \u001b[0;32mreturn\u001b[0m \u001b[0mself\u001b[0m\u001b[0;34m.\u001b[0m\u001b[0mget_property\u001b[0m\u001b[0;34m(\u001b[0m\u001b[0;34m'forces'\u001b[0m\u001b[0;34m,\u001b[0m \u001b[0matoms\u001b[0m\u001b[0;34m)\u001b[0m\u001b[0;34m\u001b[0m\u001b[0;34m\u001b[0m\u001b[0m\n\u001b[0m\u001b[1;32m     33\u001b[0m \u001b[0;34m\u001b[0m\u001b[0m\n\u001b[1;32m     34\u001b[0m     \u001b[0;32mdef\u001b[0m \u001b[0mget_stress\u001b[0m\u001b[0;34m(\u001b[0m\u001b[0mself\u001b[0m\u001b[0;34m,\u001b[0m \u001b[0matoms\u001b[0m\u001b[0;34m=\u001b[0m\u001b[0;32mNone\u001b[0m\u001b[0;34m)\u001b[0m\u001b[0;34m:\u001b[0m\u001b[0;34m\u001b[0m\u001b[0;34m\u001b[0m\u001b[0m\n",
            "\u001b[0;32m/usr/local/lib/python3.11/dist-packages/ase/calculators/calculator.py\u001b[0m in \u001b[0;36mget_property\u001b[0;34m(self, name, atoms, allow_calculation)\u001b[0m\n\u001b[1;32m    513\u001b[0m                 \u001b[0mself\u001b[0m\u001b[0;34m.\u001b[0m\u001b[0matoms\u001b[0m \u001b[0;34m=\u001b[0m \u001b[0matoms\u001b[0m\u001b[0;34m.\u001b[0m\u001b[0mcopy\u001b[0m\u001b[0;34m(\u001b[0m\u001b[0;34m)\u001b[0m\u001b[0;34m\u001b[0m\u001b[0;34m\u001b[0m\u001b[0m\n\u001b[1;32m    514\u001b[0m \u001b[0;34m\u001b[0m\u001b[0m\n\u001b[0;32m--> 515\u001b[0;31m             \u001b[0mself\u001b[0m\u001b[0;34m.\u001b[0m\u001b[0mcalculate\u001b[0m\u001b[0;34m(\u001b[0m\u001b[0matoms\u001b[0m\u001b[0;34m,\u001b[0m \u001b[0;34m[\u001b[0m\u001b[0mname\u001b[0m\u001b[0;34m]\u001b[0m\u001b[0;34m,\u001b[0m \u001b[0msystem_changes\u001b[0m\u001b[0;34m)\u001b[0m\u001b[0;34m\u001b[0m\u001b[0;34m\u001b[0m\u001b[0m\n\u001b[0m\u001b[1;32m    516\u001b[0m \u001b[0;34m\u001b[0m\u001b[0m\n\u001b[1;32m    517\u001b[0m         \u001b[0;32mif\u001b[0m \u001b[0mname\u001b[0m \u001b[0;32mnot\u001b[0m \u001b[0;32min\u001b[0m \u001b[0mself\u001b[0m\u001b[0;34m.\u001b[0m\u001b[0mresults\u001b[0m\u001b[0;34m:\u001b[0m\u001b[0;34m\u001b[0m\u001b[0;34m\u001b[0m\u001b[0m\n",
            "\u001b[0;32m/usr/local/lib/python3.11/dist-packages/gpaw/calculator.py\u001b[0m in \u001b[0;36mcalculate\u001b[0;34m(self, atoms, properties, system_changes)\u001b[0m\n\u001b[1;32m    416\u001b[0m     def calculate(self, atoms=None, properties=['energy'],\n\u001b[1;32m    417\u001b[0m                   system_changes=['cell']):\n\u001b[0;32m--> 418\u001b[0;31m         \u001b[0;32mfor\u001b[0m \u001b[0m_\u001b[0m \u001b[0;32min\u001b[0m \u001b[0mself\u001b[0m\u001b[0;34m.\u001b[0m\u001b[0micalculate\u001b[0m\u001b[0;34m(\u001b[0m\u001b[0matoms\u001b[0m\u001b[0;34m,\u001b[0m \u001b[0mproperties\u001b[0m\u001b[0;34m,\u001b[0m \u001b[0msystem_changes\u001b[0m\u001b[0;34m)\u001b[0m\u001b[0;34m:\u001b[0m\u001b[0;34m\u001b[0m\u001b[0;34m\u001b[0m\u001b[0m\n\u001b[0m\u001b[1;32m    419\u001b[0m             \u001b[0;32mpass\u001b[0m\u001b[0;34m\u001b[0m\u001b[0;34m\u001b[0m\u001b[0m\n\u001b[1;32m    420\u001b[0m \u001b[0;34m\u001b[0m\u001b[0m\n",
            "\u001b[0;32m/usr/local/lib/python3.11/dist-packages/gpaw/calculator.py\u001b[0m in \u001b[0;36micalculate\u001b[0;34m(self, atoms, properties, system_changes)\u001b[0m\n\u001b[1;32m    454\u001b[0m \u001b[0;34m\u001b[0m\u001b[0m\n\u001b[1;32m    455\u001b[0m             \u001b[0;32mwith\u001b[0m \u001b[0mself\u001b[0m\u001b[0;34m.\u001b[0m\u001b[0mtimer\u001b[0m\u001b[0;34m(\u001b[0m\u001b[0;34m'SCF-cycle'\u001b[0m\u001b[0;34m)\u001b[0m\u001b[0;34m:\u001b[0m\u001b[0;34m\u001b[0m\u001b[0;34m\u001b[0m\u001b[0m\n\u001b[0;32m--> 456\u001b[0;31m                 yield from self.scf.irun(\n\u001b[0m\u001b[1;32m    457\u001b[0m                     \u001b[0mself\u001b[0m\u001b[0;34m.\u001b[0m\u001b[0mwfs\u001b[0m\u001b[0;34m,\u001b[0m \u001b[0mself\u001b[0m\u001b[0;34m.\u001b[0m\u001b[0mhamiltonian\u001b[0m\u001b[0;34m,\u001b[0m\u001b[0;34m\u001b[0m\u001b[0;34m\u001b[0m\u001b[0m\n\u001b[1;32m    458\u001b[0m                     \u001b[0mself\u001b[0m\u001b[0;34m.\u001b[0m\u001b[0mdensity\u001b[0m\u001b[0;34m,\u001b[0m\u001b[0;34m\u001b[0m\u001b[0;34m\u001b[0m\u001b[0m\n",
            "\u001b[0;32m/usr/local/lib/python3.11/dist-packages/gpaw/scf.py\u001b[0m in \u001b[0;36mirun\u001b[0;34m(self, wfs, ham, dens, log, callback)\u001b[0m\n\u001b[1;32m     54\u001b[0m \u001b[0;34m\u001b[0m\u001b[0m\n\u001b[1;32m     55\u001b[0m         \u001b[0;32mwhile\u001b[0m \u001b[0mself\u001b[0m\u001b[0;34m.\u001b[0m\u001b[0mniter\u001b[0m \u001b[0;34m<=\u001b[0m \u001b[0mself\u001b[0m\u001b[0;34m.\u001b[0m\u001b[0mmaxiter\u001b[0m\u001b[0;34m:\u001b[0m\u001b[0;34m\u001b[0m\u001b[0;34m\u001b[0m\u001b[0m\n\u001b[0;32m---> 56\u001b[0;31m             \u001b[0mrestart\u001b[0m \u001b[0;34m=\u001b[0m \u001b[0mself\u001b[0m\u001b[0;34m.\u001b[0m\u001b[0miterate_eigensolver\u001b[0m\u001b[0;34m(\u001b[0m\u001b[0mwfs\u001b[0m\u001b[0;34m,\u001b[0m \u001b[0mham\u001b[0m\u001b[0;34m,\u001b[0m \u001b[0mdens\u001b[0m\u001b[0;34m,\u001b[0m \u001b[0mlog\u001b[0m\u001b[0;34m)\u001b[0m\u001b[0;34m\u001b[0m\u001b[0;34m\u001b[0m\u001b[0m\n\u001b[0m\u001b[1;32m     57\u001b[0m \u001b[0;34m\u001b[0m\u001b[0m\n\u001b[1;32m     58\u001b[0m             ctx = self.check_convergence(\n",
            "\u001b[0;32m/usr/local/lib/python3.11/dist-packages/gpaw/scf.py\u001b[0m in \u001b[0;36miterate_eigensolver\u001b[0;34m(self, wfs, ham, dens, log)\u001b[0m\n\u001b[1;32m    130\u001b[0m             \u001b[0mkin_en_using_band\u001b[0m \u001b[0;34m=\u001b[0m \u001b[0;32mFalse\u001b[0m\u001b[0;34m\u001b[0m\u001b[0;34m\u001b[0m\u001b[0m\n\u001b[1;32m    131\u001b[0m         \u001b[0;32melse\u001b[0m\u001b[0;34m:\u001b[0m\u001b[0;34m\u001b[0m\u001b[0;34m\u001b[0m\u001b[0m\n\u001b[0;32m--> 132\u001b[0;31m             \u001b[0mwfs\u001b[0m\u001b[0;34m.\u001b[0m\u001b[0meigensolver\u001b[0m\u001b[0;34m.\u001b[0m\u001b[0miterate\u001b[0m\u001b[0;34m(\u001b[0m\u001b[0mham\u001b[0m\u001b[0;34m,\u001b[0m \u001b[0mwfs\u001b[0m\u001b[0;34m)\u001b[0m\u001b[0;34m\u001b[0m\u001b[0;34m\u001b[0m\u001b[0m\n\u001b[0m\u001b[1;32m    133\u001b[0m             \u001b[0me_entropy\u001b[0m \u001b[0;34m=\u001b[0m \u001b[0mwfs\u001b[0m\u001b[0;34m.\u001b[0m\u001b[0mcalculate_occupation_numbers\u001b[0m\u001b[0;34m(\u001b[0m\u001b[0mself\u001b[0m\u001b[0;34m.\u001b[0m\u001b[0mfix_fermi_level\u001b[0m\u001b[0;34m)\u001b[0m\u001b[0;34m\u001b[0m\u001b[0;34m\u001b[0m\u001b[0m\n\u001b[1;32m    134\u001b[0m             \u001b[0mkin_en_using_band\u001b[0m \u001b[0;34m=\u001b[0m \u001b[0;32mTrue\u001b[0m\u001b[0;34m\u001b[0m\u001b[0;34m\u001b[0m\u001b[0m\n",
            "\u001b[0;32m/usr/local/lib/python3.11/dist-packages/gpaw/eigensolvers/eigensolver.py\u001b[0m in \u001b[0;36miterate\u001b[0;34m(self, ham, wfs)\u001b[0m\n\u001b[1;32m    139\u001b[0m                 \u001b[0;32mif\u001b[0m \u001b[0;32mnot\u001b[0m \u001b[0mwfs\u001b[0m\u001b[0;34m.\u001b[0m\u001b[0morthonormalized\u001b[0m\u001b[0;34m:\u001b[0m\u001b[0;34m\u001b[0m\u001b[0;34m\u001b[0m\u001b[0m\n\u001b[1;32m    140\u001b[0m                     \u001b[0mwfs\u001b[0m\u001b[0;34m.\u001b[0m\u001b[0morthonormalize\u001b[0m\u001b[0;34m(\u001b[0m\u001b[0mkpt\u001b[0m\u001b[0;34m)\u001b[0m\u001b[0;34m\u001b[0m\u001b[0;34m\u001b[0m\u001b[0m\n\u001b[0;32m--> 141\u001b[0;31m                 \u001b[0me\u001b[0m \u001b[0;34m=\u001b[0m \u001b[0mself\u001b[0m\u001b[0;34m.\u001b[0m\u001b[0miterate_one_k_point\u001b[0m\u001b[0;34m(\u001b[0m\u001b[0mham\u001b[0m\u001b[0;34m,\u001b[0m \u001b[0mwfs\u001b[0m\u001b[0;34m,\u001b[0m \u001b[0mkpt\u001b[0m\u001b[0;34m,\u001b[0m \u001b[0mweights\u001b[0m\u001b[0;34m)\u001b[0m\u001b[0;34m\u001b[0m\u001b[0;34m\u001b[0m\u001b[0m\n\u001b[0m\u001b[1;32m    142\u001b[0m                 \u001b[0merror\u001b[0m \u001b[0;34m+=\u001b[0m \u001b[0me\u001b[0m\u001b[0;34m\u001b[0m\u001b[0;34m\u001b[0m\u001b[0m\n\u001b[1;32m    143\u001b[0m                 \u001b[0;32mif\u001b[0m \u001b[0mself\u001b[0m\u001b[0;34m.\u001b[0m\u001b[0morthonormalization_required\u001b[0m\u001b[0;34m:\u001b[0m\u001b[0;34m\u001b[0m\u001b[0;34m\u001b[0m\u001b[0m\n",
            "\u001b[0;32m/usr/local/lib/python3.11/dist-packages/ase/utils/timing.py\u001b[0m in \u001b[0;36mnew_method\u001b[0;34m(slf, *args, **kwargs)\u001b[0m\n\u001b[1;32m    186\u001b[0m             \u001b[0;32mdef\u001b[0m \u001b[0mnew_method\u001b[0m\u001b[0;34m(\u001b[0m\u001b[0mslf\u001b[0m\u001b[0;34m,\u001b[0m \u001b[0;34m*\u001b[0m\u001b[0margs\u001b[0m\u001b[0;34m,\u001b[0m \u001b[0;34m**\u001b[0m\u001b[0mkwargs\u001b[0m\u001b[0;34m)\u001b[0m\u001b[0;34m:\u001b[0m\u001b[0;34m\u001b[0m\u001b[0;34m\u001b[0m\u001b[0m\n\u001b[1;32m    187\u001b[0m                 \u001b[0mslf\u001b[0m\u001b[0;34m.\u001b[0m\u001b[0mtimer\u001b[0m\u001b[0;34m.\u001b[0m\u001b[0mstart\u001b[0m\u001b[0;34m(\u001b[0m\u001b[0mself\u001b[0m\u001b[0;34m.\u001b[0m\u001b[0mname\u001b[0m\u001b[0;34m)\u001b[0m\u001b[0;34m\u001b[0m\u001b[0;34m\u001b[0m\u001b[0m\n\u001b[0;32m--> 188\u001b[0;31m                 \u001b[0mx\u001b[0m \u001b[0;34m=\u001b[0m \u001b[0mmethod\u001b[0m\u001b[0;34m(\u001b[0m\u001b[0mslf\u001b[0m\u001b[0;34m,\u001b[0m \u001b[0;34m*\u001b[0m\u001b[0margs\u001b[0m\u001b[0;34m,\u001b[0m \u001b[0;34m**\u001b[0m\u001b[0mkwargs\u001b[0m\u001b[0;34m)\u001b[0m\u001b[0;34m\u001b[0m\u001b[0;34m\u001b[0m\u001b[0m\n\u001b[0m\u001b[1;32m    189\u001b[0m                 \u001b[0;32mtry\u001b[0m\u001b[0;34m:\u001b[0m\u001b[0;34m\u001b[0m\u001b[0;34m\u001b[0m\u001b[0m\n\u001b[1;32m    190\u001b[0m                     \u001b[0mslf\u001b[0m\u001b[0;34m.\u001b[0m\u001b[0mtimer\u001b[0m\u001b[0;34m.\u001b[0m\u001b[0mstop\u001b[0m\u001b[0;34m(\u001b[0m\u001b[0;34m)\u001b[0m\u001b[0;34m\u001b[0m\u001b[0;34m\u001b[0m\u001b[0m\n",
            "\u001b[0;32m/usr/local/lib/python3.11/dist-packages/gpaw/eigensolvers/davidson.py\u001b[0m in \u001b[0;36miterate_one_k_point\u001b[0;34m(self, ham, wfs, kpt, weights)\u001b[0m\n\u001b[1;32m    166\u001b[0m             \u001b[0;32mwith\u001b[0m \u001b[0mself\u001b[0m\u001b[0;34m.\u001b[0m\u001b[0mtimer\u001b[0m\u001b[0;34m(\u001b[0m\u001b[0;34m'calc. matrices'\u001b[0m\u001b[0;34m)\u001b[0m\u001b[0;34m:\u001b[0m\u001b[0;34m\u001b[0m\u001b[0;34m\u001b[0m\u001b[0m\n\u001b[1;32m    167\u001b[0m                 \u001b[0;31m# <psi2 | H | psi2>\u001b[0m\u001b[0;34m\u001b[0m\u001b[0;34m\u001b[0m\u001b[0m\n\u001b[0;32m--> 168\u001b[0;31m                 psit2.matrix_elements(\n\u001b[0m\u001b[1;32m    169\u001b[0m                     operator=Ht, result=R, out=M, symmetric=True, cc=True)\n\u001b[1;32m    170\u001b[0m                 \u001b[0mham\u001b[0m\u001b[0;34m.\u001b[0m\u001b[0mdH\u001b[0m\u001b[0;34m(\u001b[0m\u001b[0mP2\u001b[0m\u001b[0;34m,\u001b[0m \u001b[0mout\u001b[0m\u001b[0;34m=\u001b[0m\u001b[0mP3\u001b[0m\u001b[0;34m)\u001b[0m\u001b[0;34m\u001b[0m\u001b[0;34m\u001b[0m\u001b[0m\n",
            "\u001b[0;32m/usr/local/lib/python3.11/dist-packages/gpaw/wavefunctions/arrays.py\u001b[0m in \u001b[0;36mmatrix_elements\u001b[0;34m(self, other, out, symmetric, cc, operator, result, serial)\u001b[0m\n\u001b[1;32m    215\u001b[0m             \u001b[0;32mif\u001b[0m \u001b[0mother\u001b[0m \u001b[0;32mis\u001b[0m \u001b[0;32mNone\u001b[0m\u001b[0;34m:\u001b[0m\u001b[0;34m\u001b[0m\u001b[0;34m\u001b[0m\u001b[0m\n\u001b[1;32m    216\u001b[0m                 \u001b[0;32massert\u001b[0m \u001b[0msymmetric\u001b[0m\u001b[0;34m\u001b[0m\u001b[0;34m\u001b[0m\u001b[0m\n\u001b[0;32m--> 217\u001b[0;31m                 \u001b[0moperate_and_multiply\u001b[0m\u001b[0;34m(\u001b[0m\u001b[0mself\u001b[0m\u001b[0;34m,\u001b[0m \u001b[0mself\u001b[0m\u001b[0;34m.\u001b[0m\u001b[0mdv\u001b[0m\u001b[0;34m,\u001b[0m \u001b[0mout\u001b[0m\u001b[0;34m,\u001b[0m \u001b[0moperator\u001b[0m\u001b[0;34m,\u001b[0m \u001b[0mresult\u001b[0m\u001b[0;34m)\u001b[0m\u001b[0;34m\u001b[0m\u001b[0;34m\u001b[0m\u001b[0m\n\u001b[0m\u001b[1;32m    218\u001b[0m             \u001b[0;32melif\u001b[0m \u001b[0;32mnot\u001b[0m \u001b[0mserial\u001b[0m\u001b[0;34m:\u001b[0m\u001b[0;34m\u001b[0m\u001b[0;34m\u001b[0m\u001b[0m\n\u001b[1;32m    219\u001b[0m                 \u001b[0;32massert\u001b[0m \u001b[0;32mnot\u001b[0m \u001b[0msymmetric\u001b[0m\u001b[0;34m\u001b[0m\u001b[0;34m\u001b[0m\u001b[0m\n",
            "\u001b[0;32m/usr/local/lib/python3.11/dist-packages/gpaw/wavefunctions/arrays.py\u001b[0m in \u001b[0;36moperate_and_multiply\u001b[0;34m(psit1, dv, out, operator, psit2)\u001b[0m\n\u001b[1;32m    297\u001b[0m         \u001b[0;32mif\u001b[0m \u001b[0mr\u001b[0m \u001b[0;34m==\u001b[0m \u001b[0;36m0\u001b[0m\u001b[0;34m:\u001b[0m\u001b[0;34m\u001b[0m\u001b[0;34m\u001b[0m\u001b[0m\n\u001b[1;32m    298\u001b[0m             \u001b[0;32mif\u001b[0m \u001b[0moperator\u001b[0m\u001b[0;34m:\u001b[0m\u001b[0;34m\u001b[0m\u001b[0;34m\u001b[0m\u001b[0m\n\u001b[0;32m--> 299\u001b[0;31m                 \u001b[0moperator\u001b[0m\u001b[0;34m(\u001b[0m\u001b[0mpsit1\u001b[0m\u001b[0;34m.\u001b[0m\u001b[0marray\u001b[0m\u001b[0;34m,\u001b[0m \u001b[0mpsit2\u001b[0m\u001b[0;34m.\u001b[0m\u001b[0marray\u001b[0m\u001b[0;34m)\u001b[0m\u001b[0;34m\u001b[0m\u001b[0;34m\u001b[0m\u001b[0m\n\u001b[0m\u001b[1;32m    300\u001b[0m             \u001b[0;32melse\u001b[0m\u001b[0;34m:\u001b[0m\u001b[0;34m\u001b[0m\u001b[0;34m\u001b[0m\u001b[0m\n\u001b[1;32m    301\u001b[0m                 \u001b[0mpsit2\u001b[0m \u001b[0;34m=\u001b[0m \u001b[0mpsit\u001b[0m\u001b[0;34m\u001b[0m\u001b[0;34m\u001b[0m\u001b[0m\n",
            "\u001b[0;32m/usr/local/lib/python3.11/dist-packages/ase/utils/timing.py\u001b[0m in \u001b[0;36mnew_method\u001b[0;34m(slf, *args, **kwargs)\u001b[0m\n\u001b[1;32m    186\u001b[0m             \u001b[0;32mdef\u001b[0m \u001b[0mnew_method\u001b[0m\u001b[0;34m(\u001b[0m\u001b[0mslf\u001b[0m\u001b[0;34m,\u001b[0m \u001b[0;34m*\u001b[0m\u001b[0margs\u001b[0m\u001b[0;34m,\u001b[0m \u001b[0;34m**\u001b[0m\u001b[0mkwargs\u001b[0m\u001b[0;34m)\u001b[0m\u001b[0;34m:\u001b[0m\u001b[0;34m\u001b[0m\u001b[0;34m\u001b[0m\u001b[0m\n\u001b[1;32m    187\u001b[0m                 \u001b[0mslf\u001b[0m\u001b[0;34m.\u001b[0m\u001b[0mtimer\u001b[0m\u001b[0;34m.\u001b[0m\u001b[0mstart\u001b[0m\u001b[0;34m(\u001b[0m\u001b[0mself\u001b[0m\u001b[0;34m.\u001b[0m\u001b[0mname\u001b[0m\u001b[0;34m)\u001b[0m\u001b[0;34m\u001b[0m\u001b[0;34m\u001b[0m\u001b[0m\n\u001b[0;32m--> 188\u001b[0;31m                 \u001b[0mx\u001b[0m \u001b[0;34m=\u001b[0m \u001b[0mmethod\u001b[0m\u001b[0;34m(\u001b[0m\u001b[0mslf\u001b[0m\u001b[0;34m,\u001b[0m \u001b[0;34m*\u001b[0m\u001b[0margs\u001b[0m\u001b[0;34m,\u001b[0m \u001b[0;34m**\u001b[0m\u001b[0mkwargs\u001b[0m\u001b[0;34m)\u001b[0m\u001b[0;34m\u001b[0m\u001b[0;34m\u001b[0m\u001b[0m\n\u001b[0m\u001b[1;32m    189\u001b[0m                 \u001b[0;32mtry\u001b[0m\u001b[0;34m:\u001b[0m\u001b[0;34m\u001b[0m\u001b[0;34m\u001b[0m\u001b[0m\n\u001b[1;32m    190\u001b[0m                     \u001b[0mslf\u001b[0m\u001b[0;34m.\u001b[0m\u001b[0mtimer\u001b[0m\u001b[0;34m.\u001b[0m\u001b[0mstop\u001b[0m\u001b[0;34m(\u001b[0m\u001b[0;34m)\u001b[0m\u001b[0;34m\u001b[0m\u001b[0;34m\u001b[0m\u001b[0m\n",
            "\u001b[0;32m/usr/local/lib/python3.11/dist-packages/gpaw/wavefunctions/pw.py\u001b[0m in \u001b[0;36mapply_pseudo_hamiltonian\u001b[0;34m(self, kpt, ham, psit_xG, Htpsit_xG)\u001b[0m\n\u001b[1;32m    286\u001b[0m                 \u001b[0mnp\u001b[0m\u001b[0;34m.\u001b[0m\u001b[0mmultiply\u001b[0m\u001b[0;34m(\u001b[0m\u001b[0mT_G\u001b[0m\u001b[0;34m,\u001b[0m \u001b[0mpsit_xG\u001b[0m\u001b[0;34m[\u001b[0m\u001b[0mn1\u001b[0m\u001b[0;34m:\u001b[0m\u001b[0mn2\u001b[0m\u001b[0;34m]\u001b[0m\u001b[0;34m,\u001b[0m \u001b[0mHtpsit_xG\u001b[0m\u001b[0;34m[\u001b[0m\u001b[0mn1\u001b[0m\u001b[0;34m:\u001b[0m\u001b[0mn2\u001b[0m\u001b[0;34m]\u001b[0m\u001b[0;34m)\u001b[0m\u001b[0;34m\u001b[0m\u001b[0;34m\u001b[0m\u001b[0m\n\u001b[1;32m    287\u001b[0m             \u001b[0;32mif\u001b[0m \u001b[0mpsit_G\u001b[0m \u001b[0;32mis\u001b[0m \u001b[0;32mnot\u001b[0m \u001b[0;32mNone\u001b[0m\u001b[0;34m:\u001b[0m\u001b[0;34m\u001b[0m\u001b[0;34m\u001b[0m\u001b[0m\n\u001b[0;32m--> 288\u001b[0;31m                 \u001b[0mpsit_R\u001b[0m \u001b[0;34m=\u001b[0m \u001b[0mself\u001b[0m\u001b[0;34m.\u001b[0m\u001b[0mpd\u001b[0m\u001b[0;34m.\u001b[0m\u001b[0mifft\u001b[0m\u001b[0;34m(\u001b[0m\u001b[0mpsit_G\u001b[0m\u001b[0;34m,\u001b[0m \u001b[0mkpt\u001b[0m\u001b[0;34m.\u001b[0m\u001b[0mq\u001b[0m\u001b[0;34m,\u001b[0m \u001b[0mlocal\u001b[0m\u001b[0;34m=\u001b[0m\u001b[0;32mTrue\u001b[0m\u001b[0;34m,\u001b[0m \u001b[0msafe\u001b[0m\u001b[0;34m=\u001b[0m\u001b[0;32mFalse\u001b[0m\u001b[0;34m)\u001b[0m\u001b[0;34m\u001b[0m\u001b[0;34m\u001b[0m\u001b[0m\n\u001b[0m\u001b[1;32m    289\u001b[0m                 \u001b[0mpsit_R\u001b[0m \u001b[0;34m*=\u001b[0m \u001b[0mvt_R\u001b[0m\u001b[0;34m\u001b[0m\u001b[0;34m\u001b[0m\u001b[0m\n\u001b[1;32m    290\u001b[0m                 \u001b[0mself\u001b[0m\u001b[0;34m.\u001b[0m\u001b[0mpd\u001b[0m\u001b[0;34m.\u001b[0m\u001b[0mfftplan\u001b[0m\u001b[0;34m.\u001b[0m\u001b[0mexecute\u001b[0m\u001b[0;34m(\u001b[0m\u001b[0;34m)\u001b[0m\u001b[0;34m\u001b[0m\u001b[0;34m\u001b[0m\u001b[0m\n",
            "\u001b[0;32m/usr/local/lib/python3.11/dist-packages/gpaw/pw/descriptor.py\u001b[0m in \u001b[0;36mifft\u001b[0;34m(self, c_G, q, local, safe, distribute)\u001b[0m\n\u001b[1;32m    253\u001b[0m                 \u001b[0mt\u001b[0m\u001b[0;34m[\u001b[0m\u001b[0;34m-\u001b[0m\u001b[0mn\u001b[0m\u001b[0;34m:\u001b[0m\u001b[0;34m,\u001b[0m \u001b[0;34m-\u001b[0m\u001b[0mm\u001b[0m\u001b[0;34m:\u001b[0m\u001b[0;34m]\u001b[0m \u001b[0;34m=\u001b[0m \u001b[0mt\u001b[0m\u001b[0;34m[\u001b[0m\u001b[0mn\u001b[0m\u001b[0;34m:\u001b[0m\u001b[0;36m0\u001b[0m\u001b[0;34m:\u001b[0m\u001b[0;34m-\u001b[0m\u001b[0;36m1\u001b[0m\u001b[0;34m,\u001b[0m \u001b[0mm\u001b[0m\u001b[0;34m:\u001b[0m\u001b[0;36m0\u001b[0m\u001b[0;34m:\u001b[0m\u001b[0;34m-\u001b[0m\u001b[0;36m1\u001b[0m\u001b[0;34m]\u001b[0m\u001b[0;34m.\u001b[0m\u001b[0mconj\u001b[0m\u001b[0;34m(\u001b[0m\u001b[0;34m)\u001b[0m\u001b[0;34m\u001b[0m\u001b[0;34m\u001b[0m\u001b[0m\n\u001b[1;32m    254\u001b[0m                 \u001b[0mt\u001b[0m\u001b[0;34m[\u001b[0m\u001b[0;34m-\u001b[0m\u001b[0mn\u001b[0m\u001b[0;34m:\u001b[0m\u001b[0;34m,\u001b[0m \u001b[0;36m0\u001b[0m\u001b[0;34m]\u001b[0m \u001b[0;34m=\u001b[0m \u001b[0mt\u001b[0m\u001b[0;34m[\u001b[0m\u001b[0mn\u001b[0m\u001b[0;34m:\u001b[0m\u001b[0;36m0\u001b[0m\u001b[0;34m:\u001b[0m\u001b[0;34m-\u001b[0m\u001b[0;36m1\u001b[0m\u001b[0;34m,\u001b[0m \u001b[0;36m0\u001b[0m\u001b[0;34m]\u001b[0m\u001b[0;34m.\u001b[0m\u001b[0mconj\u001b[0m\u001b[0;34m(\u001b[0m\u001b[0;34m)\u001b[0m\u001b[0;34m\u001b[0m\u001b[0;34m\u001b[0m\u001b[0m\n\u001b[0;32m--> 255\u001b[0;31m             \u001b[0mself\u001b[0m\u001b[0;34m.\u001b[0m\u001b[0mifftplan\u001b[0m\u001b[0;34m.\u001b[0m\u001b[0mexecute\u001b[0m\u001b[0;34m(\u001b[0m\u001b[0;34m)\u001b[0m\u001b[0;34m\u001b[0m\u001b[0;34m\u001b[0m\u001b[0m\n\u001b[0m\u001b[1;32m    256\u001b[0m         \u001b[0;32mif\u001b[0m \u001b[0mcomm\u001b[0m\u001b[0;34m.\u001b[0m\u001b[0msize\u001b[0m \u001b[0;34m==\u001b[0m \u001b[0;36m1\u001b[0m \u001b[0;32mor\u001b[0m \u001b[0mlocal\u001b[0m \u001b[0;32mor\u001b[0m \u001b[0;32mnot\u001b[0m \u001b[0mdistribute\u001b[0m\u001b[0;34m:\u001b[0m\u001b[0;34m\u001b[0m\u001b[0;34m\u001b[0m\u001b[0m\n\u001b[1;32m    257\u001b[0m             \u001b[0;32mif\u001b[0m \u001b[0msafe\u001b[0m\u001b[0;34m:\u001b[0m\u001b[0;34m\u001b[0m\u001b[0;34m\u001b[0m\u001b[0m\n",
            "\u001b[0;32m/usr/local/lib/python3.11/dist-packages/gpaw/fftw.py\u001b[0m in \u001b[0;36mexecute\u001b[0;34m(self)\u001b[0m\n\u001b[1;32m    361\u001b[0m             \u001b[0mself\u001b[0m\u001b[0;34m.\u001b[0m\u001b[0mout_R\u001b[0m \u001b[0;34m*=\u001b[0m \u001b[0mself\u001b[0m\u001b[0;34m.\u001b[0m\u001b[0mout_R\u001b[0m\u001b[0;34m.\u001b[0m\u001b[0msize\u001b[0m\u001b[0;34m\u001b[0m\u001b[0;34m\u001b[0m\u001b[0m\n\u001b[1;32m    362\u001b[0m         \u001b[0;32melif\u001b[0m \u001b[0mself\u001b[0m\u001b[0;34m.\u001b[0m\u001b[0msign\u001b[0m \u001b[0;34m==\u001b[0m \u001b[0;36m1\u001b[0m\u001b[0;34m:\u001b[0m\u001b[0;34m\u001b[0m\u001b[0;34m\u001b[0m\u001b[0m\n\u001b[0;32m--> 363\u001b[0;31m             self.out_R[:] = np.fft.ifftn(self.in_R,\n\u001b[0m\u001b[1;32m    364\u001b[0m                                          \u001b[0mself\u001b[0m\u001b[0;34m.\u001b[0m\u001b[0mout_R\u001b[0m\u001b[0;34m.\u001b[0m\u001b[0mshape\u001b[0m\u001b[0;34m,\u001b[0m\u001b[0;34m\u001b[0m\u001b[0;34m\u001b[0m\u001b[0m\n\u001b[1;32m    365\u001b[0m                                          [0, 1, 2])\n",
            "\u001b[0;32m/usr/local/lib/python3.11/dist-packages/numpy/fft/_pocketfft.py\u001b[0m in \u001b[0;36mifftn\u001b[0;34m(a, s, axes, norm, out)\u001b[0m\n\u001b[1;32m   1016\u001b[0m \u001b[0;34m\u001b[0m\u001b[0m\n\u001b[1;32m   1017\u001b[0m     \"\"\"\n\u001b[0;32m-> 1018\u001b[0;31m     \u001b[0;32mreturn\u001b[0m \u001b[0m_raw_fftnd\u001b[0m\u001b[0;34m(\u001b[0m\u001b[0ma\u001b[0m\u001b[0;34m,\u001b[0m \u001b[0ms\u001b[0m\u001b[0;34m,\u001b[0m \u001b[0maxes\u001b[0m\u001b[0;34m,\u001b[0m \u001b[0mifft\u001b[0m\u001b[0;34m,\u001b[0m \u001b[0mnorm\u001b[0m\u001b[0;34m,\u001b[0m \u001b[0mout\u001b[0m\u001b[0;34m=\u001b[0m\u001b[0mout\u001b[0m\u001b[0;34m)\u001b[0m\u001b[0;34m\u001b[0m\u001b[0;34m\u001b[0m\u001b[0m\n\u001b[0m\u001b[1;32m   1019\u001b[0m \u001b[0;34m\u001b[0m\u001b[0m\n\u001b[1;32m   1020\u001b[0m \u001b[0;34m\u001b[0m\u001b[0m\n",
            "\u001b[0;32m/usr/local/lib/python3.11/dist-packages/numpy/fft/_pocketfft.py\u001b[0m in \u001b[0;36m_raw_fftnd\u001b[0;34m(a, s, axes, function, norm, out)\u001b[0m\n\u001b[1;32m    745\u001b[0m     \u001b[0mitl\u001b[0m\u001b[0;34m.\u001b[0m\u001b[0mreverse\u001b[0m\u001b[0;34m(\u001b[0m\u001b[0;34m)\u001b[0m\u001b[0;34m\u001b[0m\u001b[0;34m\u001b[0m\u001b[0m\n\u001b[1;32m    746\u001b[0m     \u001b[0;32mfor\u001b[0m \u001b[0mii\u001b[0m \u001b[0;32min\u001b[0m \u001b[0mitl\u001b[0m\u001b[0;34m:\u001b[0m\u001b[0;34m\u001b[0m\u001b[0;34m\u001b[0m\u001b[0m\n\u001b[0;32m--> 747\u001b[0;31m         \u001b[0ma\u001b[0m \u001b[0;34m=\u001b[0m \u001b[0mfunction\u001b[0m\u001b[0;34m(\u001b[0m\u001b[0ma\u001b[0m\u001b[0;34m,\u001b[0m \u001b[0mn\u001b[0m\u001b[0;34m=\u001b[0m\u001b[0ms\u001b[0m\u001b[0;34m[\u001b[0m\u001b[0mii\u001b[0m\u001b[0;34m]\u001b[0m\u001b[0;34m,\u001b[0m \u001b[0maxis\u001b[0m\u001b[0;34m=\u001b[0m\u001b[0maxes\u001b[0m\u001b[0;34m[\u001b[0m\u001b[0mii\u001b[0m\u001b[0;34m]\u001b[0m\u001b[0;34m,\u001b[0m \u001b[0mnorm\u001b[0m\u001b[0;34m=\u001b[0m\u001b[0mnorm\u001b[0m\u001b[0;34m,\u001b[0m \u001b[0mout\u001b[0m\u001b[0;34m=\u001b[0m\u001b[0mout\u001b[0m\u001b[0;34m)\u001b[0m\u001b[0;34m\u001b[0m\u001b[0;34m\u001b[0m\u001b[0m\n\u001b[0m\u001b[1;32m    748\u001b[0m     \u001b[0;32mreturn\u001b[0m \u001b[0ma\u001b[0m\u001b[0;34m\u001b[0m\u001b[0;34m\u001b[0m\u001b[0m\n\u001b[1;32m    749\u001b[0m \u001b[0;34m\u001b[0m\u001b[0m\n",
            "\u001b[0;32m/usr/local/lib/python3.11/dist-packages/numpy/fft/_pocketfft.py\u001b[0m in \u001b[0;36mifft\u001b[0;34m(a, n, axis, norm, out)\u001b[0m\n\u001b[1;32m    314\u001b[0m     \u001b[0;32mif\u001b[0m \u001b[0mn\u001b[0m \u001b[0;32mis\u001b[0m \u001b[0;32mNone\u001b[0m\u001b[0;34m:\u001b[0m\u001b[0;34m\u001b[0m\u001b[0;34m\u001b[0m\u001b[0m\n\u001b[1;32m    315\u001b[0m         \u001b[0mn\u001b[0m \u001b[0;34m=\u001b[0m \u001b[0ma\u001b[0m\u001b[0;34m.\u001b[0m\u001b[0mshape\u001b[0m\u001b[0;34m[\u001b[0m\u001b[0maxis\u001b[0m\u001b[0;34m]\u001b[0m\u001b[0;34m\u001b[0m\u001b[0;34m\u001b[0m\u001b[0m\n\u001b[0;32m--> 316\u001b[0;31m     \u001b[0moutput\u001b[0m \u001b[0;34m=\u001b[0m \u001b[0m_raw_fft\u001b[0m\u001b[0;34m(\u001b[0m\u001b[0ma\u001b[0m\u001b[0;34m,\u001b[0m \u001b[0mn\u001b[0m\u001b[0;34m,\u001b[0m \u001b[0maxis\u001b[0m\u001b[0;34m,\u001b[0m \u001b[0;32mFalse\u001b[0m\u001b[0;34m,\u001b[0m \u001b[0;32mFalse\u001b[0m\u001b[0;34m,\u001b[0m \u001b[0mnorm\u001b[0m\u001b[0;34m,\u001b[0m \u001b[0mout\u001b[0m\u001b[0;34m=\u001b[0m\u001b[0mout\u001b[0m\u001b[0;34m)\u001b[0m\u001b[0;34m\u001b[0m\u001b[0;34m\u001b[0m\u001b[0m\n\u001b[0m\u001b[1;32m    317\u001b[0m     \u001b[0;32mreturn\u001b[0m \u001b[0moutput\u001b[0m\u001b[0;34m\u001b[0m\u001b[0;34m\u001b[0m\u001b[0m\n\u001b[1;32m    318\u001b[0m \u001b[0;34m\u001b[0m\u001b[0m\n",
            "\u001b[0;32m/usr/local/lib/python3.11/dist-packages/numpy/fft/_pocketfft.py\u001b[0m in \u001b[0;36m_raw_fft\u001b[0;34m(a, n, axis, is_real, is_forward, norm, out)\u001b[0m\n\u001b[1;32m     92\u001b[0m         \u001b[0;32mraise\u001b[0m \u001b[0mValueError\u001b[0m\u001b[0;34m(\u001b[0m\u001b[0;34m\"output array has wrong shape.\"\u001b[0m\u001b[0;34m)\u001b[0m\u001b[0;34m\u001b[0m\u001b[0;34m\u001b[0m\u001b[0m\n\u001b[1;32m     93\u001b[0m \u001b[0;34m\u001b[0m\u001b[0m\n\u001b[0;32m---> 94\u001b[0;31m     \u001b[0;32mreturn\u001b[0m \u001b[0mufunc\u001b[0m\u001b[0;34m(\u001b[0m\u001b[0ma\u001b[0m\u001b[0;34m,\u001b[0m \u001b[0mfct\u001b[0m\u001b[0;34m,\u001b[0m \u001b[0maxes\u001b[0m\u001b[0;34m=\u001b[0m\u001b[0;34m[\u001b[0m\u001b[0;34m(\u001b[0m\u001b[0maxis\u001b[0m\u001b[0;34m,\u001b[0m\u001b[0;34m)\u001b[0m\u001b[0;34m,\u001b[0m \u001b[0;34m(\u001b[0m\u001b[0;34m)\u001b[0m\u001b[0;34m,\u001b[0m \u001b[0;34m(\u001b[0m\u001b[0maxis\u001b[0m\u001b[0;34m,\u001b[0m\u001b[0;34m)\u001b[0m\u001b[0;34m]\u001b[0m\u001b[0;34m,\u001b[0m \u001b[0mout\u001b[0m\u001b[0;34m=\u001b[0m\u001b[0mout\u001b[0m\u001b[0;34m)\u001b[0m\u001b[0;34m\u001b[0m\u001b[0;34m\u001b[0m\u001b[0m\n\u001b[0m\u001b[1;32m     95\u001b[0m \u001b[0;34m\u001b[0m\u001b[0m\n\u001b[1;32m     96\u001b[0m \u001b[0;34m\u001b[0m\u001b[0m\n",
            "\u001b[0;31mKeyboardInterrupt\u001b[0m: "
          ]
        }
      ]
    },
    {
      "cell_type": "code",
      "source": [
        "!pip install --q ase gpaw"
      ],
      "metadata": {
        "id": "vwFuaZHA5p_U"
      },
      "execution_count": 13,
      "outputs": []
    },
    {
      "cell_type": "code",
      "source": [
        "!wget -q https://wiki.fysik.dtu.dk/gpaw-files/gpaw-setups-24.11.0.tar.gz\n",
        "!tar -xzf gpaw-setups-24.11.0.tar.gz"
      ],
      "metadata": {
        "id": "iiKySWfS5qBh"
      },
      "execution_count": 14,
      "outputs": []
    },
    {
      "cell_type": "code",
      "source": [
        "import os\n",
        "os.environ[\"GPAW_SETUP_PATH\"] = \"/content/gpaw-setups-24.11.0\""
      ],
      "metadata": {
        "id": "pu82txcW5qE8"
      },
      "execution_count": 15,
      "outputs": []
    },
    {
      "cell_type": "code",
      "source": [
        "import os\n",
        "\n",
        "setup_path = os.environ[\"GPAW_SETUP_PATH\"]\n",
        "zr_pbe_path = os.path.join(setup_path, \"Zr.PBE\")\n",
        "\n",
        "if not os.path.isfile(zr_pbe_path):\n",
        "    raise FileNotFoundError(f\"'Zr.PBE' not found in {setup_path}. Please verify the file's presence.\")"
      ],
      "metadata": {
        "id": "xYKerfyxCwI_",
        "colab": {
          "base_uri": "https://localhost:8080/",
          "height": 219
        },
        "outputId": "e9b56408-7d0f-452b-b4c1-b95eacda534d"
      },
      "execution_count": 16,
      "outputs": [
        {
          "output_type": "error",
          "ename": "FileNotFoundError",
          "evalue": "'Zr.PBE' not found in /content/gpaw-setups-24.11.0. Please verify the file's presence.",
          "traceback": [
            "\u001b[0;31m---------------------------------------------------------------------------\u001b[0m",
            "\u001b[0;31mFileNotFoundError\u001b[0m                         Traceback (most recent call last)",
            "\u001b[0;32m<ipython-input-16-881531156>\u001b[0m in \u001b[0;36m<cell line: 0>\u001b[0;34m()\u001b[0m\n\u001b[1;32m      5\u001b[0m \u001b[0;34m\u001b[0m\u001b[0m\n\u001b[1;32m      6\u001b[0m \u001b[0;32mif\u001b[0m \u001b[0;32mnot\u001b[0m \u001b[0mos\u001b[0m\u001b[0;34m.\u001b[0m\u001b[0mpath\u001b[0m\u001b[0;34m.\u001b[0m\u001b[0misfile\u001b[0m\u001b[0;34m(\u001b[0m\u001b[0mzr_pbe_path\u001b[0m\u001b[0;34m)\u001b[0m\u001b[0;34m:\u001b[0m\u001b[0;34m\u001b[0m\u001b[0;34m\u001b[0m\u001b[0m\n\u001b[0;32m----> 7\u001b[0;31m     \u001b[0;32mraise\u001b[0m \u001b[0mFileNotFoundError\u001b[0m\u001b[0;34m(\u001b[0m\u001b[0;34mf\"'Zr.PBE' not found in {setup_path}. Please verify the file's presence.\"\u001b[0m\u001b[0;34m)\u001b[0m\u001b[0;34m\u001b[0m\u001b[0;34m\u001b[0m\u001b[0m\n\u001b[0m",
            "\u001b[0;31mFileNotFoundError\u001b[0m: 'Zr.PBE' not found in /content/gpaw-setups-24.11.0. Please verify the file's presence."
          ]
        }
      ]
    },
    {
      "cell_type": "markdown",
      "source": [
        "#**ZrS2 Adsorption**\n",
        "#*Au*\n"
      ],
      "metadata": {
        "id": "juh92dyTTEKN"
      }
    },
    {
      "cell_type": "code",
      "source": [
        "a = 3.682"
      ],
      "metadata": {
        "id": "yldOm5y38N0A"
      },
      "execution_count": 18,
      "outputs": []
    },
    {
      "cell_type": "code",
      "source": [
        "from ase.build import mx2, add_adsorbate\n",
        "from ase.constraints import FixAtoms\n",
        "from ase.optimize import BFGS\n",
        "from gpaw import GPAW, PW\n",
        "from ase.io import write\n",
        "import numpy as np\n",
        "\n",
        "slab = mx2(formula='ZrS2', kind='1T', a=a, thickness=3.19, vacuum=10)\n",
        "slab = slab.repeat((2, 2, 1))\n",
        "slab.center(vacuum=10, axis=2)\n",
        "\n",
        "s_positions = [atom.position for atom in slab if atom.symbol == 'S']\n",
        "adsorption_site = s_positions[0][:2]\n",
        "\n",
        "add_adsorbate(slab, 'Au', height=2.34, position=adsorption_site)\n",
        "\n",
        "z_mean = np.mean([atom.z for atom in slab if atom.symbol == 'Zr'])\n",
        "fixed_indices = [atom.index for atom in slab if atom.position[2] < z_mean]\n",
        "slab.set_constraint(FixAtoms(indices=fixed_indices))\n",
        "\n",
        "calc = GPAW(\n",
        "    mode=PW(400),\n",
        "    xc='PBE',\n",
        "    kpts={'size': (4, 4, 1), 'gamma': True},\n",
        "    txt='au_adsorption.log'\n",
        ")\n",
        "slab.calc = calc\n",
        "\n",
        "write('ZrS2_2x2_Au_adsorbed.cif', slab)\n",
        "# print(\"Adsorption energy (eV):\", slab.get_potential_energy())"
      ],
      "metadata": {
        "id": "gSRQDKNiC2e4"
      },
      "execution_count": 19,
      "outputs": []
    },
    {
      "cell_type": "markdown",
      "source": [
        "#*Pt*\n"
      ],
      "metadata": {
        "id": "EOkPX81wTYmg"
      }
    },
    {
      "cell_type": "code",
      "source": [
        "from ase.build import mx2, add_adsorbate\n",
        "from ase.constraints import FixAtoms\n",
        "from ase.optimize import BFGS\n",
        "from gpaw import GPAW, PW\n",
        "from ase.io import write\n",
        "import numpy as np\n",
        "\n",
        "slab = mx2(formula='ZrS2', kind='1T', a=a, thickness=3.19, vacuum=10)\n",
        "slab = slab.repeat((2, 2, 1))\n",
        "slab.center(vacuum=10, axis=2)\n",
        "\n",
        "s_positions = [atom.position for atom in slab if atom.symbol == 'S']\n",
        "adsorption_site = s_positions[0][:2]\n",
        "\n",
        "add_adsorbate(slab, 'Pt', height=2.34, position=adsorption_site)\n",
        "\n",
        "z_mean = np.mean([atom.z for atom in slab if atom.symbol == 'Zr'])\n",
        "fixed_indices = [atom.index for atom in slab if atom.position[2] < z_mean]\n",
        "slab.set_constraint(FixAtoms(indices=fixed_indices))\n",
        "\n",
        "calc = GPAW(\n",
        "    mode=PW(400),\n",
        "    xc='PBE',\n",
        "    kpts={'size': (4, 4, 1), 'gamma': True},\n",
        "    txt='pt_adsorption.log'\n",
        ")\n",
        "slab.calc = calc\n",
        "\n",
        "write('ZrS2_2x2_Pt_adsorbed.cif', slab)\n",
        "# print(\"Adsorption energy (eV):\", slab.get_potential_energy())"
      ],
      "metadata": {
        "id": "dCH8YUUgKD0O"
      },
      "execution_count": 22,
      "outputs": []
    },
    {
      "cell_type": "markdown",
      "source": [
        "#*Bi*"
      ],
      "metadata": {
        "id": "kYNQ58-3Tb8f"
      }
    },
    {
      "cell_type": "code",
      "source": [
        "a = 3.682\n",
        "c = 17.891\n",
        "from ase.build import mx2, add_adsorbate\n",
        "from ase.constraints import FixAtoms\n",
        "from ase.optimize import BFGS\n",
        "from gpaw import GPAW, PW\n",
        "from ase.io import write\n",
        "import numpy as np\n",
        "\n",
        "slab = mx2(formula='ZrS2', kind='1T', a=a, thickness=3.19, vacuum=10)\n",
        "slab = slab.repeat((2, 2, 1))\n",
        "slab.center(vacuum=10, axis=2)\n",
        "\n",
        "s_positions = [atom.position for atom in slab if atom.symbol == 'S']\n",
        "adsorption_site = s_positions[0][:2]\n",
        "\n",
        "add_adsorbate(slab, 'Bi', height=2.34, position=adsorption_site)\n",
        "\n",
        "z_mean = np.mean([atom.z for atom in slab if atom.symbol == 'Zr'])\n",
        "fixed_indices = [atom.index for atom in slab if atom.position[2] < z_mean]\n",
        "slab.set_constraint(FixAtoms(indices=fixed_indices))\n",
        "\n",
        "calc = GPAW(\n",
        "    mode=PW(400),\n",
        "    xc='PBE',\n",
        "    kpts={'size': (4, 4, 1), 'gamma': True},\n",
        "    txt='bi_adsorption.log'\n",
        ")\n",
        "slab.calc = calc\n",
        "\n",
        "write('ZrS2_2x2_Bi_adsorbed.cif', slab)\n",
        "# print(\"Adsorption energy (eV):\", slab.get_potential_energy())"
      ],
      "metadata": {
        "id": "KkNV5MaqOYeY"
      },
      "execution_count": 23,
      "outputs": []
    },
    {
      "cell_type": "markdown",
      "source": [
        "#**ZrSe2**\n",
        "#*Au*"
      ],
      "metadata": {
        "id": "tApH-Y88Tv9j"
      }
    },
    {
      "cell_type": "code",
      "source": [
        "a = 3.795\n",
        "c = 18.150\n",
        "slab = mx2(formula='ZrSe2', kind='1T', a=a, thickness=c, vacuum=0)\n",
        "print(\"Lattice vectors (Å):\")\n",
        "print(slab.cell.cellpar())\n",
        "# import os\n",
        "# os.environ[\"GPAW_SETUP_PATH\"] = \"/usr/local/lib/python3/dist-packages/gpaw/data/gpaw-setups-24.11.0\"  # Or your correct path"
      ],
      "metadata": {
        "colab": {
          "base_uri": "https://localhost:8080/"
        },
        "outputId": "d210541b-70f3-4c16-ac00-c72927e2e671",
        "id": "7qHgJUsmDxjz"
      },
      "execution_count": 24,
      "outputs": [
        {
          "output_type": "stream",
          "name": "stdout",
          "text": [
            "Lattice vectors (Å):\n",
            "[  3.795   3.795  18.15   90.     90.    120.   ]\n"
          ]
        }
      ]
    },
    {
      "cell_type": "code",
      "source": [
        "a = 3.795\n",
        "c = 3.35\n",
        "\n",
        "slab = mx2(formula='ZrSe2',kind='1T',a=a,thickness=c,vacuum=10)\n",
        "slab = slab.repeat((2,2,1))\n",
        "slab.center(vacuum=10,axis=2)\n",
        "\n",
        "s_positions = [atom.position for atom in slab if atom.symbol == 'Se']\n",
        "adsorption_site=s_positions[0][:2]\n",
        "add_adsorbate(slab,'Au',height=2.40,position=adsorption_site)\n",
        "\n",
        "z_mean = np.mean([atom.z for atom in slab if atom.symbol == 'Zr'])\n",
        "fixed_indices = [atom.index for atom in slab if atom.position[2] < z_mean]\n",
        "slab.set_constraint(FixAtoms(indices=fixed_indices))\n",
        "\n",
        "calc = GPAW(\n",
        "    mode= PW(400),\n",
        "    xc ='PBE',kpts={'size':(4, 4, 1),'gamma':True},\n",
        "    txt = 'au_adsorption.log'\n",
        ")\n",
        "slab.calc = calc\n",
        "write('ZrSe2_2x2_Au_adsorption.cif',slab)"
      ],
      "metadata": {
        "id": "d2boM5UoT2SK"
      },
      "execution_count": 25,
      "outputs": []
    },
    {
      "cell_type": "markdown",
      "source": [
        "#*Pt*"
      ],
      "metadata": {
        "id": "9sqV8COyT3Hx"
      }
    },
    {
      "cell_type": "code",
      "source": [
        "a = 3.795\n",
        "c = 3.35\n",
        "\n",
        "slab = mx2(formula='ZrSe2',kind='1T',a=a,thickness=c,vacuum=10)\n",
        "slab = slab.repeat((2,2,1))\n",
        "slab.center(vacuum=10,axis=2)\n",
        "\n",
        "s_positions = [atom.position for atom in slab if atom.symbol == 'Se']\n",
        "adsorption_site=s_positions[0][:2]\n",
        "add_adsorbate(slab,'Pt',height=2.40,position=adsorption_site)\n",
        "\n",
        "z_mean = np.mean([atom.z for atom in slab if atom.symbol == 'Zr'])\n",
        "fixed_indices = [atom.index for atom in slab if atom.position[2] < z_mean]\n",
        "slab.set_constraint(FixAtoms(indices=fixed_indices))\n",
        "\n",
        "calc = GPAW(\n",
        "    mode= PW(400),\n",
        "    xc ='PBE',\n",
        "    kpts={'size':(4 ,4 ,1),'gamma':True},\n",
        "    txt = 'pt_adsorption.log'\n",
        ")\n",
        "slab.calc = calc\n",
        "write('ZrSe2_2x2_Pt_adsorption.cif',slab)"
      ],
      "metadata": {
        "id": "psB53-wET3s7"
      },
      "execution_count": 26,
      "outputs": []
    },
    {
      "cell_type": "markdown",
      "source": [
        "#*Bi*"
      ],
      "metadata": {
        "id": "1LxKxjF5T4kp"
      }
    },
    {
      "cell_type": "code",
      "source": [
        "a = 3.795\n",
        "c = 3.35\n",
        "\n",
        "slab = mx2(formula='ZrSe2',kind='1T',a=a,thickness=c,vacuum=10)\n",
        "slab = slab.repeat((2,2,1))\n",
        "slab.center(vacuum=10,axis=2)\n",
        "\n",
        "s_positions = [atom.position for atom in slab if atom.symbol == 'Se']\n",
        "adsorption_site=s_positions[0][:2]\n",
        "add_adsorbate(slab,'Bi',height=2.40,position=adsorption_site)\n",
        "\n",
        "z_mean = np.mean([atom.z for atom in slab if atom.symbol == 'Zr'])\n",
        "fixed_indices = [atom.index for atom in slab if atom.position[2] < z_mean]\n",
        "slab.set_constraint(FixAtoms(indices=fixed_indices))\n",
        "\n",
        "calc = GPAW(\n",
        "    mode= PW(400),\n",
        "    xc ='PBE',kpts={'size':(4, 4, 1),'gamma':True},\n",
        "    txt = 'bi_adsorption.log'\n",
        ")\n",
        "slab.calc = calc\n",
        "write('ZrSe2_2x2_Bi_adsorption.cif',slab)"
      ],
      "metadata": {
        "id": "RwDtGVaQT5hz"
      },
      "execution_count": 27,
      "outputs": []
    },
    {
      "cell_type": "markdown",
      "source": [
        "\n",
        "\n",
        "```\n",
        "# This is formatted as code\n",
        "```\n",
        "\n",
        "#**ZrTe2**\n",
        "#*Au*"
      ],
      "metadata": {
        "id": "k0Ng-sc6e8Dh"
      }
    },
    {
      "cell_type": "code",
      "source": [
        "a = 4.05\n",
        "c = 3.65\n",
        "slab = mx2(formula='ZrTe2', kind='1T', a=a, thickness=c, vacuum=0)\n",
        "print(\"Lattice vectors (Å):\")\n",
        "print(slab.cell.cellpar())\n",
        "# import os\n",
        "# os.environ[\"GPAW_SETUP_PATH\"] = \"/usr/local/lib/python3/dist-packages/gpaw/data/gpaw-setups-24.11.0\"  # Or your correct path"
      ],
      "metadata": {
        "colab": {
          "base_uri": "https://localhost:8080/"
        },
        "outputId": "ba0e27a4-c5a4-4408-cf4e-5bf8d036d00a",
        "id": "fRX6AMn5GBhe"
      },
      "execution_count": 28,
      "outputs": [
        {
          "output_type": "stream",
          "name": "stdout",
          "text": [
            "Lattice vectors (Å):\n",
            "[  4.05   4.05   3.65  90.    90.   120.  ]\n"
          ]
        }
      ]
    },
    {
      "cell_type": "code",
      "source": [
        "slab = mx2(formula='ZrTe2',kind='1T',a=a,thickness=c,vacuum=10)\n",
        "slab = slab.repeat((2,2,1))\n",
        "slab.center(vacuum=10,axis=2)\n",
        "\n",
        "s_positions = [atom.position for atom in slab if atom.symbol == 'Te']\n",
        "adsorption_site=s_positions[0][:2]\n",
        "add_adsorbate(slab,'Au',height=2.40,position=adsorption_site)\n",
        "\n",
        "z_mean = np.mean([atom.z for atom in slab if atom.symbol == 'Zr'])\n",
        "fixed_indices = [atom.index for atom in slab if atom.position[2] < z_mean]\n",
        "slab.set_constraint(FixAtoms(indices=fixed_indices))\n",
        "\n",
        "calc = GPAW(\n",
        "    mode= PW(400),\n",
        "    xc ='PBE',kpts={'size':(4 ,4 ,1),'gamma':True},\n",
        "    txt = 'au_adsorption.log'\n",
        ")\n",
        "slab.calc = calc\n",
        "write('ZrTe2_2x2_Au_adsorption.cif',slab)"
      ],
      "metadata": {
        "id": "VmOokpPAe9Xz"
      },
      "execution_count": 29,
      "outputs": []
    },
    {
      "cell_type": "markdown",
      "source": [
        "#*Pt*"
      ],
      "metadata": {
        "id": "pGGDek2Qe95W"
      }
    },
    {
      "cell_type": "code",
      "source": [
        "slab = mx2(formula='ZrTe2',kind='1T',a=a,thickness=c,vacuum=10)\n",
        "slab = slab.repeat((2,2,1))\n",
        "slab.center(vacuum=10,axis=2)\n",
        "\n",
        "s_positions = [atom.position for atom in slab if atom.symbol == 'Te']\n",
        "adsorption_site=s_positions[0][:2]\n",
        "add_adsorbate(slab,'Pt',height=2.40,position=adsorption_site)\n",
        "\n",
        "z_mean = np.mean([atom.z for atom in slab if atom.symbol == 'Zr'])\n",
        "fixed_indices = [atom.index for atom in slab if atom.position[2] < z_mean]\n",
        "slab.set_constraint(FixAtoms(indices=fixed_indices))\n",
        "\n",
        "calc = GPAW(\n",
        "    mode= PW(400),\n",
        "    xc ='PBE',kpts={'size':(4, 4, 1),'gamma':True},\n",
        "    txt = 'au_adsorption.log'\n",
        ")\n",
        "slab.calc = calc\n",
        "write('ZrTe2_2x2_Pt_adsorption.cif',slab)"
      ],
      "metadata": {
        "id": "dH9aehw_e_V0"
      },
      "execution_count": 30,
      "outputs": []
    },
    {
      "cell_type": "markdown",
      "source": [
        "#*Bi*"
      ],
      "metadata": {
        "id": "pIhsHEpCe_6S"
      }
    },
    {
      "cell_type": "code",
      "source": [
        "slab = mx2(formula='ZrTe2',kind='1T',a=a,thickness=c,vacuum=10)\n",
        "slab = slab.repeat((2,2,1))\n",
        "slab.center(vacuum=10,axis=2)\n",
        "\n",
        "s_positions = [atom.position for atom in slab if atom.symbol == 'Te']\n",
        "adsorption_site=s_positions[0][:2]\n",
        "add_adsorbate(slab,'Bi',height=2.40,position=adsorption_site)\n",
        "\n",
        "z_mean = np.mean([atom.z for atom in slab if atom.symbol == 'Zr'])\n",
        "fixed_indices = [atom.index for atom in slab if atom.position[2] < z_mean]\n",
        "slab.set_constraint(FixAtoms(indices=fixed_indices))\n",
        "\n",
        "calc = GPAW(\n",
        "    mode= PW(400),\n",
        "    xc ='PBE',kpts={'size':(4 ,4 ,1),'gamma':True},\n",
        "    txt = 'au_adsorption.log'\n",
        ")\n",
        "slab.calc = calc\n",
        "write('ZrTe2_2x2_Bi_adsorption.cif',slab)"
      ],
      "metadata": {
        "id": "6DmToDJNfAof"
      },
      "execution_count": 31,
      "outputs": []
    },
    {
      "cell_type": "markdown",
      "source": [
        "#**ZrS2 (substitution with Au)**"
      ],
      "metadata": {
        "id": "Fozd3AxFMKrv"
      }
    },
    {
      "cell_type": "code",
      "source": [
        "# 1. Installation with proper setup files\n",
        "# !pip install -q ase gpaw\n",
        "# !wget -q https://wiki.fysik.dtu.dk/gpaw-files/gpaw-setups-0.9.20000.tar.gz  # Using older but more reliable version\n",
        "# !tar -xzf gpaw-setups-0.9.20000.tar.gz\n",
        "\n",
        "import os\n",
        "os.environ[\"GPAW_SETUP_PATH\"] = \"/usr/local/lib/python3/dist-packages/gpaw/data/gpaw-setups-24.11.0/\"\n",
        "\n",
        "# Verify ALL required setup files exist\n",
        "print(\"Verifying setup files:\")\n",
        "!find /usr/local/lib/python3/dist-packages/gpaw/data/gpaw-setups-24.11.0/ -name \"Zr.*\"\n",
        "!find /usr/local/lib/python3/dist-packages/gpaw/data/gpaw-setups-24.11.0/ -name \"Au.*\"\n",
        "!find /usr/local/lib/python3/dist-packages/gpaw/data/gpaw-setups-24.11.0/ -name \"S.*\"\n",
        "\n",
        "# 2. Structure creation and substitution\n",
        "from ase.build import mx2\n",
        "from gpaw import GPAW, PW\n",
        "from ase.optimize import BFGS\n",
        "from ase.visualize import view\n",
        "\n",
        "# Create ZrS2 monolayer\n",
        "slab = mx2(formula='ZrS2', kind='1T', a=3.66, thickness=1, vacuum=10.0)\n",
        "\n",
        "# Visualize before substitution (optional)\n",
        "print(\"\\nOriginal structure:\")\n",
        "view(slab)\n",
        "\n",
        "# Perform substitution\n",
        "zr_indices = [i for i, atom in enumerate(slab) if atom.symbol == 'Zr']\n",
        "substitution_index = zr_indices[0]  # Selecting first Zr atom\n",
        "slab[substitution_index].symbol = 'Au'  # Actual substitution\n",
        "\n",
        "print(\"\\nStructure after Au substitution:\")\n",
        "view(slab)  # Verify substitution visually\n",
        "\n",
        "# 3. DFT calculation setup\n",
        "slab.calc = GPAW(\n",
        "    mode=PW(400),\n",
        "    xc='PBE',\n",
        "    kpts={'size': (4, 4, 1), 'gamma': True},\n",
        "    setups={'Zr': 'pbe', 'S': 'pbe', 'Au': 'pbe'},  # All lowercase\n",
        "    txt='substitution.log'\n",
        ")\n",
        "\n",
        "# 4. Structure relaxation\n",
        "opt = BFGS(slab, trajectory='optimization.traj')\n",
        "try:\n",
        "    opt.run(fmax=0.05)\n",
        "    print(\"\\nOptimization successful!\")\n",
        "    print(\"Final Energy:\", slab.get_potential_energy(), \"eV\")\n",
        "\n",
        "    # Save final structure\n",
        "    from ase.io import write\n",
        "    write('final_structure.cif', slab)\n",
        "    write('final_structure.traj', slab)  # ASE format for future analysis\n",
        "\n",
        "except Exception as e:\n",
        "    print(\"\\nError during optimization:\", e)\n",
        "    print(\"\\nTroubleshooting steps:\")\n",
        "    print(\"1. Verify setup files exist:\")\n",
        "    !ls /usr/local/lib/python3/dist-packages/gpaw/data/gpaw-setups-24.11.0/Au.*\n",
        "    print(\"\\n2. Try restarting the runtime (Runtime -> Restart runtime) and run again\")"
      ],
      "metadata": {
        "colab": {
          "base_uri": "https://localhost:8080/"
        },
        "id": "25iEPYqyMQHy",
        "outputId": "23249802-9931-479e-a678-1e8d5e486fd2"
      },
      "execution_count": 32,
      "outputs": [
        {
          "output_type": "stream",
          "name": "stdout",
          "text": [
            "Verifying setup files:\n",
            "/usr/local/lib/python3/dist-packages/gpaw/data/gpaw-setups-24.11.0/Zr.RPBE.gz\n",
            "/usr/local/lib/python3/dist-packages/gpaw/data/gpaw-setups-24.11.0/Zr.LDA.gz\n",
            "/usr/local/lib/python3/dist-packages/gpaw/data/gpaw-setups-24.11.0/Zr.dzp.basis.gz\n",
            "/usr/local/lib/python3/dist-packages/gpaw/data/gpaw-setups-24.11.0/Zr.PBE\n",
            "/usr/local/lib/python3/dist-packages/gpaw/data/gpaw-setups-24.11.0/Zr.revPBE.gz\n",
            "/usr/local/lib/python3/dist-packages/gpaw/data/gpaw-setups-24.11.0/Zr.GLLBSC.gz\n",
            "/usr/local/lib/python3/dist-packages/gpaw/data/gpaw-setups-24.11.0/Au.dzp.basis.gz\n",
            "/usr/local/lib/python3/dist-packages/gpaw/data/gpaw-setups-24.11.0/Au.GLLBSC.gz\n",
            "/usr/local/lib/python3/dist-packages/gpaw/data/gpaw-setups-24.11.0/Au.RPBE.gz\n",
            "/usr/local/lib/python3/dist-packages/gpaw/data/gpaw-setups-24.11.0/Au.LDA.gz\n",
            "/usr/local/lib/python3/dist-packages/gpaw/data/gpaw-setups-24.11.0/Au.revPBE.gz\n",
            "/usr/local/lib/python3/dist-packages/gpaw/data/gpaw-setups-24.11.0/Au.PBE.gz\n",
            "/usr/local/lib/python3/dist-packages/gpaw/data/gpaw-setups-24.11.0/S.revPBE.gz\n",
            "/usr/local/lib/python3/dist-packages/gpaw/data/gpaw-setups-24.11.0/S.LDA.gz\n",
            "/usr/local/lib/python3/dist-packages/gpaw/data/gpaw-setups-24.11.0/S.GLLBSC.gz\n",
            "/usr/local/lib/python3/dist-packages/gpaw/data/gpaw-setups-24.11.0/S.PBE.gz\n",
            "/usr/local/lib/python3/dist-packages/gpaw/data/gpaw-setups-24.11.0/S.dzp.basis.gz\n",
            "/usr/local/lib/python3/dist-packages/gpaw/data/gpaw-setups-24.11.0/S.RPBE.gz\n",
            "\n",
            "Original structure:\n",
            "\n",
            "Structure after Au substitution:\n",
            "\n",
            "Error during optimization: Could not find required PAW dataset file \"Au.pbe.PBE\".\n",
            "\n",
            "You need to set the GPAW_SETUP_PATH environment variable to point to\n",
            "the directories where PAW dataset and basis files are stored.  See\n",
            "https://gpaw.readthedocs.io/install.html#install-paw-datasets\n",
            "for details.\n",
            "\n",
            "\n",
            "Troubleshooting steps:\n",
            "1. Verify setup files exist:\n",
            "/usr/local/lib/python3/dist-packages/gpaw/data/gpaw-setups-24.11.0/Au.dzp.basis.gz\n",
            "/usr/local/lib/python3/dist-packages/gpaw/data/gpaw-setups-24.11.0/Au.GLLBSC.gz\n",
            "/usr/local/lib/python3/dist-packages/gpaw/data/gpaw-setups-24.11.0/Au.LDA.gz\n",
            "/usr/local/lib/python3/dist-packages/gpaw/data/gpaw-setups-24.11.0/Au.PBE.gz\n",
            "/usr/local/lib/python3/dist-packages/gpaw/data/gpaw-setups-24.11.0/Au.revPBE.gz\n",
            "/usr/local/lib/python3/dist-packages/gpaw/data/gpaw-setups-24.11.0/Au.RPBE.gz\n",
            "\n",
            "2. Try restarting the runtime (Runtime -> Restart runtime) and run again\n"
          ]
        }
      ]
    },
    {
      "cell_type": "code",
      "source": [
        "!ls /usr/local/lib/python3/dist-packages/gpaw/data/gpaw-setups-24.11.0/\n",
        "# !ls /content/gpaw-setups-0.9.20000/Zr.pbe"
      ],
      "metadata": {
        "colab": {
          "base_uri": "https://localhost:8080/"
        },
        "collapsed": true,
        "id": "UevH0qfXDq3q",
        "outputId": "efcaa5ec-b4a6-49b3-ae1e-322a6ca495e1"
      },
      "execution_count": null,
      "outputs": [
        {
          "output_type": "stream",
          "name": "stdout",
          "text": [
            "Ag.11.dzp.basis.gz  In.GLLBSC.gz\t\t\tPt.dzp.basis.gz\n",
            "Ag.11.GLLBSC.gz     In.LDA.gz\t\t\t\tPt.GLLBSC.gz\n",
            "Ag.11.LDA.gz\t    In.PBE.gz\t\t\t\tPt.LDA.gz\n",
            "Ag.11.PBE.gz\t    In.revPBE.gz\t\t\tPt.PBE.gz\n",
            "Ag.11.revPBE.gz     In.RPBE.gz\t\t\t\tPt.revPBE.gz\n",
            "Ag.11.RPBE.gz\t    I.PBE.gz\t\t\t\tPt.RPBE.gz\n",
            "Ag.dzp.basis.gz     Ir.9.dzp.basis.gz\t\t\tRb.dzp.basis.gz\n",
            "Ag.GLLBSC.gz\t    Ir.9.GLLBSC.gz\t\t\tRb.GLLBSC.gz\n",
            "Ag.LDA.gz\t    Ir.9.LDA.gz\t\t\t\tRb.LDA.gz\n",
            "Ag.PBE.gz\t    Ir.9.PBE.gz\t\t\t\tRb.PBE.gz\n",
            "Ag.revPBE.gz\t    Ir.9.revPBE.gz\t\t\tRb.revPBE.gz\n",
            "Ag.RPBE.gz\t    Ir.9.RPBE.gz\t\t\tRb.RPBE.gz\n",
            "Al.dzp.basis.gz     Ir.dzp.basis.gz\t\t\tRe.dzp.basis.gz\n",
            "Al.GLLBSC.gz\t    I.revPBE.gz\t\t\t\tRe.GLLBSC.gz\n",
            "Al.LDA.gz\t    Ir.GLLBSC.gz\t\t\tRe.LDA.gz\n",
            "Al.PBE.gz\t    Ir.LDA.gz\t\t\t\tRe.PBE.gz\n",
            "Al.revPBE.gz\t    Ir.PBE.gz\t\t\t\tRe.revPBE.gz\n",
            "Al.RPBE.gz\t    I.RPBE.gz\t\t\t\tRe.RPBE.gz\n",
            "Ar.dzp.basis.gz     Ir.revPBE.gz\t\t\tRh.9.dzp.basis.gz\n",
            "Ar.GLLBSC.gz\t    Ir.RPBE.gz\t\t\t\tRh.9.GLLBSC.gz\n",
            "Ar.LDA.gz\t    K.dzp.basis.gz\t\t\tRh.9.LDA.gz\n",
            "Ar.PBE.gz\t    K.GLLBSC.gz\t\t\t\tRh.9.PBE.gz\n",
            "Ar.revPBE.gz\t    K.LDA.gz\t\t\t\tRh.9.revPBE.gz\n",
            "Ar.RPBE.gz\t    K.PBE.gz\t\t\t\tRh.9.RPBE.gz\n",
            "As.dzp.basis.gz     Kr.dzp.basis.gz\t\t\tRh.dzp.basis.gz\n",
            "As.GLLBSC.gz\t    K.revPBE.gz\t\t\t\tRh.GLLBSC.gz\n",
            "As.LDA.gz\t    Kr.GLLBSC.gz\t\t\tRh.LDA.gz\n",
            "As.PBE.gz\t    Kr.LDA.gz\t\t\t\tRh.PBE.gz\n",
            "As.revPBE.gz\t    Kr.PBE.gz\t\t\t\tRh.revPBE.gz\n",
            "As.RPBE.gz\t    K.RPBE.gz\t\t\t\tRh.RPBE.gz\n",
            "Au.dzp.basis.gz     Kr.revPBE.gz\t\t\tRn.dzp.basis.gz\n",
            "Au.GLLBSC.gz\t    Kr.RPBE.gz\t\t\t\tRn.GLLBSC.gz\n",
            "Au.LDA.gz\t    La.dzp.basis.gz\t\t\tRn.LDA.gz\n",
            "Au.PBE.gz\t    La.LDA.gz\t\t\t\tRn.PBE.gz\n",
            "Au.revPBE.gz\t    La.PBE.gz\t\t\t\tRn.revPBE.gz\n",
            "Au.RPBE.gz\t    LICENSE\t\t\t\tRn.RPBE.gz\n",
            "Ba.dzp.basis.gz     Li.dzp.basis.gz\t\t\tRu.8.dzp.basis.gz\n",
            "Ba.GLLBSC.gz\t    Li.GLLBSC.gz\t\t\tRu.8.GLLBSC.gz\n",
            "Ba.LDA.gz\t    Li.LDA.gz\t\t\t\tRu.8.LDA.gz\n",
            "Ba.PBE.gz\t    Li.PBE.gz\t\t\t\tRu.8.PBE.gz\n",
            "Ba.revPBE.gz\t    Li.revPBE.gz\t\t\tRu.8.revPBE.gz\n",
            "Ba.RPBE.gz\t    Li.RPBE.gz\t\t\t\tRu.8.RPBE.gz\n",
            "B.dzp.basis.gz\t    Lu.dzp.basis.gz\t\t\tRu.dzp.basis.gz\n",
            "Be.dzp.basis.gz     Lu.LDA.gz\t\t\t\tRu.GLLBSC.gz\n",
            "Be.GLLBSC.gz\t    Lu.PBE.gz\t\t\t\tRu.LDA.gz\n",
            "Be.LDA.gz\t    Mg.2.dzp.basis.gz\t\t\tRu.PBE.gz\n",
            "Be.PBE.gz\t    Mg.2.GLLBSC.gz\t\t\tRu.revPBE.gz\n",
            "Be.revPBE.gz\t    Mg.2.LDA.gz\t\t\t\tRu.RPBE.gz\n",
            "Be.RPBE.gz\t    Mg.2.PBE.gz\t\t\t\tSb.dzp.basis.gz\n",
            "B.GLLBSC.gz\t    Mg.2.revPBE.gz\t\t\tSb.GLLBSC.gz\n",
            "Bi.dzp.basis.gz     Mg.2.RPBE.gz\t\t\tSb.LDA.gz\n",
            "Bi.GLLBSC.gz\t    Mg.dzp.basis.gz\t\t\tSb.PBE.gz\n",
            "Bi.LDA.gz\t    Mg.GLLBSC.gz\t\t\tSb.revPBE.gz\n",
            "Bi.PBE.gz\t    Mg.LDA.gz\t\t\t\tSb.RPBE.gz\n",
            "Bi.revPBE.gz\t    Mg.PBE.gz\t\t\t\tSc.dzp.basis.gz\n",
            "Bi.RPBE.gz\t    Mg.revPBE.gz\t\t\tSc.GLLBSC.gz\n",
            "B.LDA.gz\t    Mg.RPBE.gz\t\t\t\tSc.LDA.gz\n",
            "B.PBE.gz\t    Mn.7.dzp.basis.gz\t\t\tSc.PBE.gz\n",
            "Br.dzp.basis.gz     Mn.7.GLLBSC.gz\t\t\tSc.revPBE.gz\n",
            "B.revPBE.gz\t    Mn.7.LDA.gz\t\t\t\tSc.RPBE.gz\n",
            "Br.GLLBSC.gz\t    Mn.7.PBE.gz\t\t\t\tS.dzp.basis.gz\n",
            "Br.LDA.gz\t    Mn.7.revPBE.gz\t\t\tSe.dzp.basis.gz\n",
            "Br.PBE.gz\t    Mn.7.RPBE.gz\t\t\tSe.GLLBSC.gz\n",
            "B.RPBE.gz\t    Mn.dzp.basis.gz\t\t\tSe.LDA.gz\n",
            "Br.revPBE.gz\t    Mn.GLLBSC.gz\t\t\tSe.PBE.gz\n",
            "Br.RPBE.gz\t    Mn.LDA.gz\t\t\t\tSe.revPBE.gz\n",
            "Ca.dzp.basis.gz     Mn.PBE.gz\t\t\t\tSe.RPBE.gz\n",
            "Ca.GLLBSC.gz\t    Mn.revPBE.gz\t\t\tS.GLLBSC.gz\n",
            "Ca.LDA.gz\t    Mn.RPBE.gz\t\t\t\tSi.dzp.basis.gz\n",
            "Ca.PBE.gz\t    Mo.6.dzp.basis.gz\t\t\tSi.GLLBSC.gz\n",
            "Ca.revPBE.gz\t    Mo.6.GLLBSC.gz\t\t\tSi.LDA.gz\n",
            "Ca.RPBE.gz\t    Mo.6.LDA.gz\t\t\t\tSi.PBE.gz\n",
            "Cd.dzp.basis.gz     Mo.6.PBE.gz\t\t\t\tSi.revPBE.gz\n",
            "Cd.GLLBSC.gz\t    Mo.6.revPBE.gz\t\t\tSi.RPBE.gz\n",
            "Cd.LDA.gz\t    Mo.6.RPBE.gz\t\t\tS.LDA.gz\n",
            "Cd.PBE.gz\t    Mo.dzp.basis.gz\t\t\tSm.dzp.basis.gz\n",
            "Cd.revPBE.gz\t    Mo.GLLBSC.gz\t\t\tSm.LDA.gz\n",
            "Cd.RPBE.gz\t    Mo.LDA.gz\t\t\t\tSm.PBE.gz\n",
            "C.dzp.basis.gz\t    Mo.PBE.gz\t\t\t\tSn.dzp.basis.gz\n",
            "Ce.dzp.basis.gz     Mo.revPBE.gz\t\t\tSn.GLLBSC.gz\n",
            "Ce.LDA.gz\t    Mo.RPBE.gz\t\t\t\tSn.LDA.gz\n",
            "Ce.PBE.gz\t    Na.1.dzp.basis.gz\t\t\tSn.PBE.gz\n",
            "C.GLLBSC.gz\t    Na.1.GLLBSC.gz\t\t\tSn.revPBE.gz\n",
            "C.LDA.gz\t    Na.1.LDA.gz\t\t\t\tSn.RPBE.gz\n",
            "Cl.dzp.basis.gz     Na.1.PBE.gz\t\t\t\tS.PBE.gz\n",
            "Cl.GLLBSC.gz\t    Na.1.revPBE.gz\t\t\tSr.dzp.basis.gz\n",
            "Cl.LDA.gz\t    Na.1.RPBE.gz\t\t\tS.revPBE.gz\n",
            "Cl.PBE.gz\t    Na.dzp.basis.gz\t\t\tSr.GLLBSC.gz\n",
            "Cl.revPBE.gz\t    Na.GLLBSC.gz\t\t\tSr.LDA.gz\n",
            "Cl.RPBE.gz\t    Na.LDA.gz\t\t\t\tSr.PBE.gz\n",
            "Co.dzp.basis.gz     Na.PBE.gz\t\t\t\tS.RPBE.gz\n",
            "Co.GLLBSC.gz\t    Na.revPBE.gz\t\t\tSr.revPBE.gz\n",
            "Co.LDA.gz\t    Na.RPBE.gz\t\t\t\tSr.RPBE.gz\n",
            "Co.PBE.gz\t    Nb.5.dzp.basis.gz\t\t\tTa.5.dzp.basis.gz\n",
            "COPYING\t\t    Nb.5.GLLBSC.gz\t\t\tTa.5.GLLBSC.gz\n",
            "Co.revPBE.gz\t    Nb.5.LDA.gz\t\t\t\tTa.5.LDA.gz\n",
            "Co.RPBE.gz\t    Nb.5.PBE.gz\t\t\t\tTa.5.PBE.gz\n",
            "C.PBE.gz\t    Nb.5.revPBE.gz\t\t\tTa.5.revPBE.gz\n",
            "Cr.14.dzp.basis.gz  Nb.5.RPBE.gz\t\t\tTa.5.RPBE.gz\n",
            "Cr.14.LDA.gz\t    Nb.dzp.basis.gz\t\t\tTa.dzp.basis.gz\n",
            "Cr.14.PBE.gz\t    Nb.GLLBSC.gz\t\t\tTa.GLLBSC.gz\n",
            "Cr.dzp.basis.gz     Nb.LDA.gz\t\t\t\tTa.LDA.gz\n",
            "C.revPBE.gz\t    Nb.PBE.gz\t\t\t\tTa.PBE.gz\n",
            "Cr.GLLBSC.gz\t    Nb.revPBE.gz\t\t\tTa.revPBE.gz\n",
            "Cr.LDA.gz\t    Nb.RPBE.gz\t\t\t\tTa.RPBE.gz\n",
            "Cr.PBE.gz\t    Nd.dzp.basis.gz\t\t\tTb.dzp.basis.gz\n",
            "C.RPBE.gz\t    Nd.LDA.gz\t\t\t\tTb.LDA.gz\n",
            "Cr.revPBE.gz\t    Nd.PBE.gz\t\t\t\tTb.PBE.gz\n",
            "Cr.RPBE.gz\t    N.dzp.basis.gz\t\t\tTe.16.dzp.basis.gz\n",
            "Cs.dzp.basis.gz     Ne.dzp.basis.gz\t\t\tTe.16.GLLBSC.gz\n",
            "Cs.GLLBSC.gz\t    Ne.GLLBSC.gz\t\t\tTe.16.LDA.gz\n",
            "Cs.LDA.gz\t    Ne.LDA.gz\t\t\t\tTe.16.PBE.gz\n",
            "Cs.PBE.gz\t    Ne.PBE.gz\t\t\t\tTe.16.revPBE.gz\n",
            "Cs.revPBE.gz\t    Ne.revPBE.gz\t\t\tTe.16.RPBE.gz\n",
            "Cs.RPBE.gz\t    Ne.RPBE.gz\t\t\t\tTe.dzp.basis.gz\n",
            "Cu.dzp.basis.gz     N.GLLBSC.gz\t\t\t\tTe.GLLBSC.gz\n",
            "Cu.GLLBSC.gz\t    Ni.10.dzp.basis.gz\t\t\tTe.LDA.gz\n",
            "Cu.LDA.gz\t    Ni.10.GLLBSC.gz\t\t\tTe.PBE.gz\n",
            "Cu.PBE.gz\t    Ni.10.LDA.gz\t\t\tTe.revPBE.gz\n",
            "Cu.revPBE.gz\t    Ni.10.PBE.gz\t\t\tTe.RPBE.gz\n",
            "Cu.RPBE.gz\t    Ni.10.revPBE.gz\t\t\tTi.dzp.basis.gz\n",
            "Dy.dzp.basis.gz     Ni.10.RPBE.gz\t\t\tTi.GLLBSC.gz\n",
            "Dy.LDA.gz\t    Ni.dzp.basis.gz\t\t\tTi.LDA.gz\n",
            "Dy.PBE.gz\t    Ni.GLLBSC.gz\t\t\tTi.PBE.gz\n",
            "Er.dzp.basis.gz     Ni.LDA.gz\t\t\t\tTi.revPBE.gz\n",
            "Er.LDA.gz\t    Ni.PBE.gz\t\t\t\tTi.RPBE.gz\n",
            "Er.PBE.gz\t    Ni.revPBE.gz\t\t\tTl.dzp.basis.gz\n",
            "Eu.dzp.basis.gz     Ni.RPBE.gz\t\t\t\tTl.GLLBSC.gz\n",
            "Eu.LDA.gz\t    N.LDA.gz\t\t\t\tTl.LDA.gz\n",
            "Eu.PBE.gz\t    N.PBE.gz\t\t\t\tTl.PBE.gz\n",
            "F.dzp.basis.gz\t    N.revPBE.gz\t\t\t\tTl.revPBE.gz\n",
            "Fe.dzp.basis.gz     N.RPBE.gz\t\t\t\tTl.RPBE.gz\n",
            "Fe.GLLBSC.gz\t    O.dzp.basis.gz\t\t\tTm.dzp.basis.gz\n",
            "Fe.LDA.gz\t    O.GLLBSC.gz\t\t\t\tTm.LDA.gz\n",
            "Fe.PBE.gz\t    O.LDA.gz\t\t\t\tTm.PBE.gz\n",
            "Fe.revPBE.gz\t    O.PBE.gz\t\t\t\tV.5.dzp.basis.gz\n",
            "Fe.RPBE.gz\t    O.revPBE.gz\t\t\t\tV.5.GLLBSC.gz\n",
            "F.GLLBSC.gz\t    O.RPBE.gz\t\t\t\tV.5.LDA.gz\n",
            "F.LDA.gz\t    Os.8.dzp.basis.gz\t\t\tV.5.PBE.gz\n",
            "F.PBE.gz\t    Os.8.GLLBSC.gz\t\t\tV.5.revPBE.gz\n",
            "F.revPBE.gz\t    Os.8.LDA.gz\t\t\t\tV.5.RPBE.gz\n",
            "F.RPBE.gz\t    Os.8.PBE.gz\t\t\t\tV.dzp.basis.gz\n",
            "Ga.dzp.basis.gz     Os.8.revPBE.gz\t\t\tV.GLLBSC.gz\n",
            "Ga.GLLBSC.gz\t    Os.8.RPBE.gz\t\t\tV.LDA.gz\n",
            "Ga.LDA.gz\t    Os.dzp.basis.gz\t\t\tV.PBE.gz\n",
            "Ga.PBE.gz\t    Os.GLLBSC.gz\t\t\tV.revPBE.gz\n",
            "Ga.revPBE.gz\t    Os.LDA.gz\t\t\t\tV.RPBE.gz\n",
            "Ga.RPBE.gz\t    Os.PBE.gz\t\t\t\tW.6.dzp.basis.gz\n",
            "Gd.dzp.basis.gz     Os.revPBE.gz\t\t\tW.6.GLLBSC.gz\n",
            "Gd.LDA.gz\t    Os.RPBE.gz\t\t\t\tW.6.LDA.gz\n",
            "Gd.PBE.gz\t    Pb.dzp.basis.gz\t\t\tW.6.PBE.gz\n",
            "Ge.dzp.basis.gz     Pb.GLLBSC.gz\t\t\tW.6.revPBE.gz\n",
            "Ge.GLLBSC.gz\t    Pb.LDA.gz\t\t\t\tW.6.RPBE.gz\n",
            "Ge.LDA.gz\t    Pb.PBE.gz\t\t\t\tW.dzp.basis.gz\n",
            "Ge.PBE.gz\t    Pb.revPBE.gz\t\t\tW.GLLBSC.gz\n",
            "Ge.revPBE.gz\t    Pb.RPBE.gz\t\t\t\tW.LDA.gz\n",
            "Ge.RPBE.gz\t    Pd.10.dzp.basis.gz\t\t\tW.PBE.gz\n",
            "H.dzp.basis.gz\t    Pd.10.GLLBSC.gz\t\t\tW.revPBE.gz\n",
            "He.dzp.basis.gz     Pd.10.LDA.gz\t\t\tW.RPBE.gz\n",
            "He.GLLBSC.gz\t    Pd.10.PBE.gz\t\t\tXe.dzp.basis.gz\n",
            "He.LDA.gz\t    Pd.10.revPBE.gz\t\t\tXe.GLLBSC.gz\n",
            "He.PBE.gz\t    Pd.10.RPBE.gz\t\t\tXe.LDA.gz\n",
            "He.revPBE.gz\t    Pd.dzp.basis.gz\t\t\tXe.PBE.gz\n",
            "He.RPBE.gz\t    Pd.GLLBSC.gz\t\t\tXe.revPBE.gz\n",
            "Hf.dzp.basis.gz     Pd.LDA.gz\t\t\t\tXe.RPBE.gz\n",
            "Hf.GLLBSC.gz\t    Pd.PBE.gz\t\t\t\tYb.dzp.basis.gz\n",
            "Hf.LDA.gz\t    Pd.revPBE.gz\t\t\tYb.LDA.gz\n",
            "Hf.PBE.gz\t    Pd.RPBE.gz\t\t\t\tYb.PBE.gz\n",
            "Hf.revPBE.gz\t    P.dzp.basis.gz\t\t\tY.dzp.basis.gz\n",
            "Hf.RPBE.gz\t    P.GLLBSC.gz\t\t\t\tY.GLLBSC.gz\n",
            "Hg.dzp.basis.gz     phi-0.500-1.000-20.000-21-201.pckl\tY.LDA.gz\n",
            "Hg.GLLBSC.gz\t    phi-0.500-1.000-20.000-21-201.txt\tY.PBE.gz\n",
            "Hg.LDA.gz\t    P.LDA.gz\t\t\t\tY.revPBE.gz\n",
            "H.GLLBSC.gz\t    Pm.dzp.basis.gz\t\t\tY.RPBE.gz\n",
            "Hg.PBE.gz\t    Pm.LDA.gz\t\t\t\tZn.dzp.basis.gz\n",
            "Hg.revPBE.gz\t    Pm.PBE.gz\t\t\t\tZn.GLLBSC.gz\n",
            "Hg.RPBE.gz\t    P.PBE.gz\t\t\t\tZn.LDA.gz\n",
            "H.LDA.gz\t    Pr.dzp.basis.gz\t\t\tZn.PBE.gz\n",
            "Ho.dzp.basis.gz     P.revPBE.gz\t\t\t\tZn.revPBE.gz\n",
            "Ho.LDA.gz\t    Pr.LDA.gz\t\t\t\tZn.RPBE.gz\n",
            "Ho.PBE.gz\t    Pr.PBE.gz\t\t\t\tZr.dzp.basis.gz\n",
            "H.PBE.gz\t    P.RPBE.gz\t\t\t\tZr.GLLBSC.gz\n",
            "H.revPBE.gz\t    Pt.10.dzp.basis.gz\t\t\tZr.LDA.gz\n",
            "H.RPBE.gz\t    Pt.10.GLLBSC.gz\t\t\tZr.PBE.gz\n",
            "I.dzp.basis.gz\t    Pt.10.LDA.gz\t\t\tZr.revPBE.gz\n",
            "I.GLLBSC.gz\t    Pt.10.PBE.gz\t\t\tZr.RPBE.gz\n",
            "I.LDA.gz\t    Pt.10.revPBE.gz\n",
            "In.dzp.basis.gz     Pt.10.RPBE.gz\n"
          ]
        }
      ]
    },
    {
      "cell_type": "markdown",
      "source": [
        "#**substituting Zr and S and replacing it with Defect inroduction**"
      ],
      "metadata": {
        "id": "g9z_KSzno5pO"
      }
    },
    {
      "cell_type": "markdown",
      "source": [
        "**Au substitution with defect**"
      ],
      "metadata": {
        "id": "ypVCS_HSE0aR"
      }
    },
    {
      "cell_type": "code",
      "source": [
        "from ase.build import mx2\n",
        "from ase.io import write\n",
        "from ase.optimize import BFGS\n",
        "from ase.constraints import FixAtoms\n",
        "from gpaw import GPAW, PW\n",
        "import numpy as np\n",
        "\n",
        "\n",
        "a = 3.682\n",
        "c = 3.19\n",
        "vacuum = 15\n",
        "\n",
        "slab = mx2(formula='ZrS2', kind='1T', a=a, thickness=c, vacuum=vacuum)\n",
        "slab = slab.repeat((3, 3, 1))\n",
        "slab.center(vacuum=vacuum, axis=2)\n",
        "\n",
        "s_indices = [i for i, atom in enumerate(slab) if atom.symbol == 'S']\n",
        "replace_index = s_indices[0]\n",
        "\n",
        "old_position = slab[replace_index].position.copy()\n",
        "\n",
        "\n",
        "del slab[replace_index]\n",
        "slab.append('Au')\n",
        "slab[-1].position = old_position\n",
        "\n",
        "z_positions = [atom.z for atom in slab if atom.symbol == 'Zr']\n",
        "z_mean = np.mean(z_positions)\n",
        "fixed_indices = [i for i, atom in enumerate(slab) if atom.z < z_mean]\n",
        "slab.set_constraint(FixAtoms(indices=fixed_indices))\n",
        "\n",
        "\n",
        "calc = GPAW(\n",
        "    mode=PW(500),\n",
        "    xc='PBE',\n",
        "    kpts={'size': (4, 4, 1), 'gamma': True},\n",
        "    occupations={'name': 'fermi', 'width': 0.05},\n",
        "    spinpol=True,\n",
        "    txt='ZrS2_Au_defect.log'\n",
        ")\n",
        "slab.calc = calc\n",
        "\n",
        "write('ZrS2_3x3_Au_defect.cif', slab)"
      ],
      "metadata": {
        "id": "wPzDQYJnHXRF"
      },
      "execution_count": 33,
      "outputs": []
    },
    {
      "cell_type": "markdown",
      "source": [
        "**Pt substitution with defect**"
      ],
      "metadata": {
        "id": "yOu5zsm8E5-5"
      }
    },
    {
      "cell_type": "code",
      "source": [
        "vacuum = 15\n",
        "\n",
        "slab = mx2(formula='ZrS2', kind='1T', a=a, thickness=c, vacuum=vacuum)\n",
        "slab = slab.repeat((3, 3, 1))\n",
        "slab.center(vacuum=vacuum, axis=2)\n",
        "\n",
        "s_indices = [i for i, atom in enumerate(slab) if atom.symbol == 'S']\n",
        "replace_index = s_indices[0]\n",
        "\n",
        "old_position = slab[replace_index].position.copy()\n",
        "\n",
        "\n",
        "del slab[replace_index]\n",
        "slab.append('Pt')\n",
        "slab[-1].position = old_position\n",
        "\n",
        "z_positions = [atom.z for atom in slab if atom.symbol == 'Zr']\n",
        "z_mean = np.mean(z_positions)\n",
        "fixed_indices = [i for i, atom in enumerate(slab) if atom.z < z_mean]\n",
        "slab.set_constraint(FixAtoms(indices=fixed_indices))\n",
        "\n",
        "\n",
        "calc = GPAW(\n",
        "    mode=PW(500),\n",
        "    xc='PBE',\n",
        "    kpts={'size': (4, 4, 1), 'gamma': True},\n",
        "    occupations={'name': 'fermi', 'width': 0.05},\n",
        "    spinpol=True,\n",
        "    txt='ZrS2_Pt_defect.log'\n",
        ")\n",
        "slab.calc = calc\n",
        "\n",
        "write('ZrS2_3x3_Pt_defect.cif', slab)"
      ],
      "metadata": {
        "id": "JsYq97ZpCD1X"
      },
      "execution_count": 34,
      "outputs": []
    },
    {
      "cell_type": "markdown",
      "source": [
        "**Bi substitution with defect**"
      ],
      "metadata": {
        "id": "bsC06uXdE6au"
      }
    },
    {
      "cell_type": "code",
      "source": [
        "vacuum = 15\n",
        "\n",
        "slab = mx2(formula='ZrS2', kind='1T', a=a, thickness=c, vacuum=vacuum)\n",
        "slab = slab.repeat((3, 3, 1))\n",
        "slab.center(vacuum=vacuum, axis=2)\n",
        "\n",
        "s_indices = [i for i, atom in enumerate(slab) if atom.symbol == 'S']\n",
        "replace_index = s_indices[0]\n",
        "\n",
        "old_position = slab[replace_index].position.copy()\n",
        "\n",
        "\n",
        "del slab[replace_index]\n",
        "slab.append('Bi')\n",
        "slab[-1].position = old_position\n",
        "\n",
        "z_positions = [atom.z for atom in slab if atom.symbol == 'Zr']\n",
        "z_mean = np.mean(z_positions)\n",
        "fixed_indices = [i for i, atom in enumerate(slab) if atom.z < z_mean]\n",
        "slab.set_constraint(FixAtoms(indices=fixed_indices))\n",
        "\n",
        "\n",
        "calc = GPAW(\n",
        "    mode=PW(500),\n",
        "    xc='PBE',\n",
        "    kpts={'size': (4, 4, 1), 'gamma': True},\n",
        "    occupations={'name': 'fermi', 'width': 0.05},\n",
        "    spinpol=True,\n",
        "    txt='ZrS2_Bi_defect.log'\n",
        ")\n",
        "slab.calc = calc\n",
        "\n",
        "write('ZrS2_3x3_Bi_defect.cif', slab)"
      ],
      "metadata": {
        "id": "2SlbVXlICD40"
      },
      "execution_count": 35,
      "outputs": []
    },
    {
      "cell_type": "markdown",
      "source": [
        "#**ZrSe2 substitution of Au,Pt,Bi**"
      ],
      "metadata": {
        "id": "TiPspxGCe1Ed"
      }
    },
    {
      "cell_type": "markdown",
      "source": [
        "**Au**"
      ],
      "metadata": {
        "id": "UUVt6Ri2GhHy"
      }
    },
    {
      "cell_type": "code",
      "source": [
        "from ase.build import mx2\n",
        "from ase.io import write\n",
        "from ase.optimize import BFGS\n",
        "from gpaw import GPAW,PW\n",
        "import numpy as np\n",
        "\n",
        "a = 3.795\n",
        "b = 3.35\n",
        "vacuum = 15\n",
        "\n",
        "slab = mx2(formula='ZrSe2', kind='1T', a=a, thickness=c, vacuum=vacuum)\n",
        "slab = slab.repeat((3, 3, 1))\n",
        "slab.center(vacuum=vacuum, axis=2)\n",
        "\n",
        "s_indices = [i for i, atom in enumerate(slab) if atom.symbol == 'Se']\n",
        "replace_index = s_indices[0]\n",
        "\n",
        "old_position = slab[replace_index].position.copy()\n",
        "\n",
        "\n",
        "del slab[replace_index]\n",
        "slab.append('Au')\n",
        "slab[-1].position = old_position\n",
        "\n",
        "z_positions = [atom.z for atom in slab if atom.symbol == 'Zr']\n",
        "z_mean = np.mean(z_positions)\n",
        "fixed_indices = [i for i, atom in enumerate(slab) if atom.z < z_mean]\n",
        "slab.set_constraint(FixAtoms(indices=fixed_indices))\n",
        "\n",
        "\n",
        "calc = GPAW(\n",
        "    mode=PW(500),\n",
        "    xc='PBE',\n",
        "    kpts={'size': (4, 4, 1), 'gamma': True},\n",
        "    occupations={'name': 'fermi', 'width': 0.05},\n",
        "    spinpol=True,\n",
        "    txt='ZrSe2_Au_defect.log'\n",
        ")\n",
        "slab.calc = calc\n",
        "\n",
        "write('ZrSe2_3x3_Au_defect.cif', slab)"
      ],
      "metadata": {
        "id": "kBD_Mp4Re1WL"
      },
      "execution_count": 36,
      "outputs": []
    },
    {
      "cell_type": "code",
      "source": [
        "slab = mx2(formula='ZrSe2', kind='1T', a=a, thickness=c, vacuum=vacuum)\n",
        "slab = slab.repeat((3, 3, 1))\n",
        "slab.center(vacuum=vacuum, axis=2)\n",
        "\n",
        "s_indices = [i for i, atom in enumerate(slab) if atom.symbol == 'Se']\n",
        "replace_index = s_indices[0]\n",
        "\n",
        "old_position = slab[replace_index].position.copy()\n",
        "\n",
        "\n",
        "del slab[replace_index]\n",
        "slab.append('Pt')\n",
        "slab[-1].position = old_position\n",
        "\n",
        "z_positions = [atom.z for atom in slab if atom.symbol == 'Zr']\n",
        "z_mean = np.mean(z_positions)\n",
        "fixed_indices = [i for i, atom in enumerate(slab) if atom.z < z_mean]\n",
        "slab.set_constraint(FixAtoms(indices=fixed_indices))\n",
        "\n",
        "\n",
        "calc = GPAW(\n",
        "    mode=PW(500),\n",
        "    xc='PBE',\n",
        "    kpts={'size': (4, 4, 1), 'gamma': True},\n",
        "    occupations={'name': 'fermi', 'width': 0.05},\n",
        "    spinpol=True,\n",
        "    txt='ZrSe2_Pt_defect.log'\n",
        ")\n",
        "slab.calc = calc\n",
        "\n",
        "write('ZrSe2_3x3_Pt_defect.cif', slab)"
      ],
      "metadata": {
        "id": "vjYC5nBhe1gf"
      },
      "execution_count": 37,
      "outputs": []
    },
    {
      "cell_type": "code",
      "source": [
        "slab = mx2(formula='ZrSe2', kind='1T', a=a, thickness=c, vacuum=vacuum)\n",
        "slab = slab.repeat((3, 3, 1))\n",
        "slab.center(vacuum=vacuum, axis=2)\n",
        "\n",
        "s_indices = [i for i, atom in enumerate(slab) if atom.symbol == 'Se']\n",
        "replace_index = s_indices[0]\n",
        "\n",
        "old_position = slab[replace_index].position.copy()\n",
        "\n",
        "\n",
        "del slab[replace_index]\n",
        "slab.append('Bi')\n",
        "slab[-1].position = old_position\n",
        "\n",
        "z_positions = [atom.z for atom in slab if atom.symbol == 'Zr']\n",
        "z_mean = np.mean(z_positions)\n",
        "fixed_indices = [i for i, atom in enumerate(slab) if atom.z < z_mean]\n",
        "slab.set_constraint(FixAtoms(indices=fixed_indices))\n",
        "\n",
        "\n",
        "calc = GPAW(\n",
        "    mode=PW(500),\n",
        "    xc='PBE',\n",
        "    kpts={'size': (4, 4, 1), 'gamma': True},\n",
        "    occupations={'name': 'fermi', 'width': 0.05},\n",
        "    spinpol=True,\n",
        "    txt='ZrSe2_Bi_defect.log'\n",
        ")\n",
        "slab.calc = calc\n",
        "\n",
        "write('ZrSe2_3x3_Bi_defect.cif', slab)"
      ],
      "metadata": {
        "id": "d61ofbGge1vd"
      },
      "execution_count": 38,
      "outputs": []
    },
    {
      "cell_type": "markdown",
      "source": [
        "#**ZrTe2 substitution using Au,Pt,Bi**"
      ],
      "metadata": {
        "id": "vpIaAXISe2GF"
      }
    },
    {
      "cell_type": "markdown",
      "source": [
        "**Au**"
      ],
      "metadata": {
        "id": "RuD0M_DDH-qX"
      }
    },
    {
      "cell_type": "code",
      "source": [
        "from ase.build import mx2\n",
        "from ase.io import write\n",
        "from ase.optimize import BFGS\n",
        "from gpaw import GPAW,PW\n",
        "import numpy as np\n",
        "\n",
        "a = 4.05\n",
        "b = 3.65\n",
        "vacuum = 15\n",
        "\n",
        "slab = mx2(formula='ZrTe2', kind='1T', a=a, thickness=c, vacuum=vacuum)\n",
        "slab = slab.repeat((3, 3, 1))\n",
        "slab.center(vacuum=vacuum, axis=2)\n",
        "\n",
        "s_indices = [i for i, atom in enumerate(slab) if atom.symbol == 'Te']\n",
        "replace_index = s_indices[0]\n",
        "\n",
        "old_position = slab[replace_index].position.copy()\n",
        "\n",
        "\n",
        "del slab[replace_index]\n",
        "slab.append('Au')\n",
        "slab[-1].position = old_position\n",
        "\n",
        "z_positions = [atom.z for atom in slab if atom.symbol == 'Zr']\n",
        "z_mean = np.mean(z_positions)\n",
        "fixed_indices = [i for i, atom in enumerate(slab) if atom.z < z_mean]\n",
        "slab.set_constraint(FixAtoms(indices=fixed_indices))\n",
        "\n",
        "\n",
        "calc = GPAW(\n",
        "    mode=PW(500),\n",
        "    xc='PBE',\n",
        "    kpts={'size': (4, 4, 1), 'gamma': True},\n",
        "    occupations={'name': 'fermi', 'width': 0.05},\n",
        "    spinpol=True,\n",
        "    txt='ZrTe2_Au_defect.log'\n",
        ")\n",
        "slab.calc = calc\n",
        "\n",
        "write('ZrTe2_3x3_Au_defect.cif', slab)"
      ],
      "metadata": {
        "id": "zcbV9EAne2Wf"
      },
      "execution_count": 39,
      "outputs": []
    },
    {
      "cell_type": "markdown",
      "source": [
        "**Pt**"
      ],
      "metadata": {
        "id": "d6wwHN0MIBHI"
      }
    },
    {
      "cell_type": "code",
      "source": [
        "slab = mx2(formula='ZrTe2', kind='1T', a=a, thickness=c, vacuum=vacuum)\n",
        "slab = slab.repeat((3, 3, 1))\n",
        "slab.center(vacuum=vacuum, axis=2)\n",
        "\n",
        "s_indices = [i for i, atom in enumerate(slab) if atom.symbol == 'Te']\n",
        "replace_index = s_indices[0]\n",
        "\n",
        "old_position = slab[replace_index].position.copy()\n",
        "\n",
        "\n",
        "del slab[replace_index]\n",
        "slab.append('Pt')\n",
        "slab[-1].position = old_position\n",
        "\n",
        "z_positions = [atom.z for atom in slab if atom.symbol == 'Zr']\n",
        "z_mean = np.mean(z_positions)\n",
        "fixed_indices = [i for i, atom in enumerate(slab) if atom.z < z_mean]\n",
        "slab.set_constraint(FixAtoms(indices=fixed_indices))\n",
        "\n",
        "\n",
        "calc = GPAW(\n",
        "    mode=PW(500),\n",
        "    xc='PBE',\n",
        "    kpts={'size': (4, 4, 1), 'gamma': True},\n",
        "    occupations={'name': 'fermi', 'width': 0.05},\n",
        "    spinpol=True,\n",
        "    txt='ZrTe2_Pt_defect.log'\n",
        ")\n",
        "slab.calc = calc\n",
        "\n",
        "write('ZrTe2_3x3_Pt_defect.cif', slab)"
      ],
      "metadata": {
        "id": "GPup1wTIe2iK"
      },
      "execution_count": 40,
      "outputs": []
    },
    {
      "cell_type": "markdown",
      "source": [
        "**Bi**"
      ],
      "metadata": {
        "id": "Y6UEr0DOIDV_"
      }
    },
    {
      "cell_type": "code",
      "source": [
        "slab = mx2(formula='ZrTe2', kind='1T', a=a, thickness=c, vacuum=vacuum)\n",
        "slab = slab.repeat((3, 3, 1))\n",
        "slab.center(vacuum=vacuum, axis=2)\n",
        "\n",
        "s_indices = [i for i, atom in enumerate(slab) if atom.symbol == 'Te']\n",
        "replace_index = s_indices[0]\n",
        "\n",
        "old_position = slab[replace_index].position.copy()\n",
        "\n",
        "\n",
        "del slab[replace_index]\n",
        "slab.append('Bi')\n",
        "slab[-1].position = old_position\n",
        "\n",
        "z_positions = [atom.z for atom in slab if atom.symbol == 'Zr']\n",
        "z_mean = np.mean(z_positions)\n",
        "fixed_indices = [i for i, atom in enumerate(slab) if atom.z < z_mean]\n",
        "slab.set_constraint(FixAtoms(indices=fixed_indices))\n",
        "\n",
        "\n",
        "calc = GPAW(\n",
        "    mode=PW(500),\n",
        "    xc='PBE',\n",
        "    kpts={'size': (4, 4, 1), 'gamma': True},\n",
        "    occupations={'name': 'fermi', 'width': 0.05},\n",
        "    spinpol=True,\n",
        "    txt='ZrTe2_Bi_defect.log'\n",
        ")\n",
        "slab.calc = calc\n",
        "\n",
        "write('ZrTe2_3x3_Bi_defect.cif', slab)"
      ],
      "metadata": {
        "id": "AwnNSPhie2sm"
      },
      "execution_count": 41,
      "outputs": []
    },
    {
      "cell_type": "markdown",
      "source": [
        "#**ZrS2 replacing S with Au,Pt,Bi**"
      ],
      "metadata": {
        "id": "pURVBZrgBs98"
      }
    },
    {
      "cell_type": "markdown",
      "source": [
        "**Au**"
      ],
      "metadata": {
        "id": "upijg9caMWOl"
      }
    },
    {
      "cell_type": "code",
      "source": [
        "from ase.build import mx2\n",
        "from gpaw import GPAW,PW\n",
        "from ase.optimize import BFGS\n",
        "import numpy as np\n",
        "\n",
        "a = 3.682\n",
        "c = 3.19\n",
        "\n",
        "vacuum = 10\n",
        "\n",
        "slab = mx2(formula='ZrS2', kind='1T', a=a, thickness=c, vacuum=vacuum)\n",
        "slab = slab.repeat((2, 2, 1))\n",
        "slab.center(vacuum=vacuum, axis=2)\n",
        "\n",
        "\n",
        "s_indices = [i for i, atom in enumerate(slab) if atom.symbol == 'S']\n",
        "au_position = slab[s_indices[0]].position\n",
        "\n",
        "del slab[s_indices[0]]\n",
        "slab.append('Au')\n",
        "slab[-1].position = au_position\n",
        "\n",
        "z_mean = np.mean([atom.z for atom in slab if atom.symbol == 'Zr'])\n",
        "fixed_indices = [atom.index for atom in slab if atom.position[2] < z_mean]\n",
        "slab.set_constraint(FixAtoms(indices=fixed_indices))\n",
        "\n",
        "calc = GPAW(\n",
        "    mode=PW(400),\n",
        "    xc='PBE',\n",
        "    kpts={'size': (4, 4, 1), 'gamma': True},\n",
        "    txt='ZrS2_Au_substitution.log'\n",
        ")\n",
        "slab.calc = calc\n",
        "\n",
        "\n",
        "write('ZrS2_2x2_Au_substituted.cif', slab)"
      ],
      "metadata": {
        "id": "tjkeuNV0e0ce"
      },
      "execution_count": 42,
      "outputs": []
    },
    {
      "cell_type": "markdown",
      "source": [
        "**Pt**"
      ],
      "metadata": {
        "id": "50Ovi197MZI3"
      }
    },
    {
      "cell_type": "code",
      "source": [
        "slab = mx2(formula='ZrS2', kind='1T', a=a, thickness=c, vacuum=vacuum)\n",
        "slab = slab.repeat((2, 2, 1))\n",
        "slab.center(vacuum=vacuum, axis=2)\n",
        "\n",
        "\n",
        "s_indices = [i for i, atom in enumerate(slab) if atom.symbol == 'S']\n",
        "au_position = slab[s_indices[0]].position\n",
        "\n",
        "del slab[s_indices[0]]\n",
        "slab.append('Pt')\n",
        "slab[-1].position = au_position\n",
        "\n",
        "z_mean = np.mean([atom.z for atom in slab if atom.symbol == 'Zr'])\n",
        "fixed_indices = [atom.index for atom in slab if atom.position[2] < z_mean]\n",
        "slab.set_constraint(FixAtoms(indices=fixed_indices))\n",
        "\n",
        "calc = GPAW(\n",
        "    mode=PW(400),\n",
        "    xc='PBE',\n",
        "    kpts={'size': (4, 4, 1), 'gamma': True},\n",
        "    txt='ZrS2_Pt_substitution.log'\n",
        ")\n",
        "slab.calc = calc\n",
        "\n",
        "\n",
        "write('ZrS2_2x2_Pt_substituted.cif', slab)"
      ],
      "metadata": {
        "id": "WOepGA5fMZ8A"
      },
      "execution_count": 43,
      "outputs": []
    },
    {
      "cell_type": "markdown",
      "source": [
        "**Bi**"
      ],
      "metadata": {
        "id": "IX9N4rUZMaeN"
      }
    },
    {
      "cell_type": "code",
      "source": [
        "slab = mx2(formula='ZrS2', kind='1T', a=a, thickness=c, vacuum=vacuum)\n",
        "slab = slab.repeat((2, 2, 1))\n",
        "slab.center(vacuum=vacuum, axis=2)\n",
        "\n",
        "\n",
        "s_indices = [i for i, atom in enumerate(slab) if atom.symbol == 'S']\n",
        "au_position = slab[s_indices[0]].position\n",
        "\n",
        "del slab[s_indices[0]]\n",
        "slab.append('Bi')\n",
        "slab[-1].position = au_position\n",
        "\n",
        "z_mean = np.mean([atom.z for atom in slab if atom.symbol == 'Zr'])\n",
        "fixed_indices = [atom.index for atom in slab if atom.position[2] < z_mean]\n",
        "slab.set_constraint(FixAtoms(indices=fixed_indices))\n",
        "\n",
        "calc = GPAW(\n",
        "    mode=PW(400),\n",
        "    xc='PBE',\n",
        "    kpts={'size': (4, 4, 1), 'gamma': True},\n",
        "    txt='ZrS2_Bi_substitution.log'\n",
        ")\n",
        "slab.calc = calc\n",
        "\n",
        "\n",
        "write('ZrS2_2x2_Bi_substituted.cif', slab)"
      ],
      "metadata": {
        "id": "zOwy8eciMa4t"
      },
      "execution_count": 44,
      "outputs": []
    },
    {
      "cell_type": "markdown",
      "source": [
        "#**ZrSe2 replacing Se with Au,Pt,Bi**"
      ],
      "metadata": {
        "id": "PS7ngWp6MbZ6"
      }
    },
    {
      "cell_type": "markdown",
      "source": [
        "**Au**"
      ],
      "metadata": {
        "id": "tt14dq0mMlAG"
      }
    },
    {
      "cell_type": "code",
      "source": [
        "from ase.build import mx2\n",
        "from gpaw import GPAW,PW\n",
        "from ase.optimize import BFGS\n",
        "import numpy as np\n",
        "\n",
        "a = 3.795\n",
        "b = 3.35\n",
        "\n",
        "slab = mx2(formula='ZrSe2', kind='1T', a=a, thickness=c, vacuum=vacuum)\n",
        "slab = slab.repeat((2, 2, 1))\n",
        "slab.center(vacuum=vacuum, axis=2)\n",
        "\n",
        "\n",
        "s_indices = [i for i, atom in enumerate(slab) if atom.symbol == 'Se']\n",
        "au_position = slab[s_indices[0]].position\n",
        "\n",
        "del slab[s_indices[0]]\n",
        "slab.append('Au')\n",
        "slab[-1].position = au_position\n",
        "\n",
        "z_mean = np.mean([atom.z for atom in slab if atom.symbol == 'Zr'])\n",
        "fixed_indices = [atom.index for atom in slab if atom.position[2] < z_mean]\n",
        "slab.set_constraint(FixAtoms(indices=fixed_indices))\n",
        "\n",
        "calc = GPAW(\n",
        "    mode=PW(400),\n",
        "    xc='PBE',\n",
        "    kpts={'size': (4, 4, 1), 'gamma': True},\n",
        "    txt='ZrSe2_Au_substitution.log'\n",
        ")\n",
        "slab.calc = calc\n",
        "\n",
        "\n",
        "write('ZrSe2_2x2_Au_substituted.cif', slab)"
      ],
      "metadata": {
        "id": "7WprOjthMlwh"
      },
      "execution_count": 45,
      "outputs": []
    },
    {
      "cell_type": "markdown",
      "source": [
        "**Pt**"
      ],
      "metadata": {
        "id": "1I5VxP9pMnU3"
      }
    },
    {
      "cell_type": "code",
      "source": [
        "slab = mx2(formula='ZrSe2', kind='1T', a=a, thickness=c, vacuum=vacuum)\n",
        "slab = slab.repeat((2, 2, 1))\n",
        "slab.center(vacuum=vacuum, axis=2)\n",
        "\n",
        "\n",
        "s_indices = [i for i, atom in enumerate(slab) if atom.symbol == 'Se']\n",
        "au_position = slab[s_indices[0]].position\n",
        "\n",
        "del slab[s_indices[0]]\n",
        "slab.append('Pt')\n",
        "slab[-1].position = au_position\n",
        "\n",
        "z_mean = np.mean([atom.z for atom in slab if atom.symbol == 'Zr'])\n",
        "fixed_indices = [atom.index for atom in slab if atom.position[2] < z_mean]\n",
        "slab.set_constraint(FixAtoms(indices=fixed_indices))\n",
        "\n",
        "calc = GPAW(\n",
        "    mode=PW(400),\n",
        "    xc='PBE',\n",
        "    kpts={'size': (4, 4, 1), 'gamma': True},\n",
        "    txt='ZrSe2_Pt_substitution.log'\n",
        ")\n",
        "slab.calc = calc\n",
        "\n",
        "\n",
        "write('ZrSe2_2x2_Pt_substituted.cif', slab)"
      ],
      "metadata": {
        "id": "BhVx0uB1Mlz5"
      },
      "execution_count": 46,
      "outputs": []
    },
    {
      "cell_type": "markdown",
      "source": [
        "**Bi**"
      ],
      "metadata": {
        "id": "NA0HsITIMnv3"
      }
    },
    {
      "cell_type": "code",
      "source": [
        "slab = mx2(formula='ZrSe2', kind='1T', a=a, thickness=c, vacuum=vacuum)\n",
        "slab = slab.repeat((2, 2, 1))\n",
        "slab.center(vacuum=vacuum, axis=2)\n",
        "\n",
        "\n",
        "s_indices = [i for i, atom in enumerate(slab) if atom.symbol == 'Se']\n",
        "au_position = slab[s_indices[0]].position\n",
        "\n",
        "del slab[s_indices[0]]\n",
        "slab.append('Bi')\n",
        "slab[-1].position = au_position\n",
        "\n",
        "z_mean = np.mean([atom.z for atom in slab if atom.symbol == 'Zr'])\n",
        "fixed_indices = [atom.index for atom in slab if atom.position[2] < z_mean]\n",
        "slab.set_constraint(FixAtoms(indices=fixed_indices))\n",
        "\n",
        "calc = GPAW(\n",
        "    mode=PW(400),\n",
        "    xc='PBE',\n",
        "    kpts={'size': (4, 4, 1), 'gamma': True},\n",
        "    txt='ZrSe2_Bi_substitution.log'\n",
        ")\n",
        "slab.calc = calc\n",
        "\n",
        "\n",
        "write('ZrSe2_2x2_Bi_substituted.cif', slab)"
      ],
      "metadata": {
        "id": "_oJV9mMvMl26"
      },
      "execution_count": 47,
      "outputs": []
    },
    {
      "cell_type": "markdown",
      "source": [
        "#**ZrTe2 replacing Te with Au,Pt,Bi**"
      ],
      "metadata": {
        "id": "6NYRCzxKMhAX"
      }
    },
    {
      "cell_type": "markdown",
      "source": [
        "**Au**"
      ],
      "metadata": {
        "id": "0nrhyoGQMotF"
      }
    },
    {
      "cell_type": "code",
      "source": [
        "from ase.build import mx2\n",
        "from gpaw import GPAW,PW\n",
        "from ase.optimize import BFGS\n",
        "import numpy as np\n",
        "\n",
        "a = 4.05\n",
        "b = 3.65\n",
        "\n",
        "slab = mx2(formula='ZrTe2', kind='1T', a=a, thickness=c, vacuum=vacuum)\n",
        "slab = slab.repeat((2, 2, 1))\n",
        "slab.center(vacuum=vacuum, axis=2)\n",
        "\n",
        "\n",
        "s_indices = [i for i, atom in enumerate(slab) if atom.symbol == 'Te']\n",
        "au_position = slab[s_indices[0]].position\n",
        "\n",
        "del slab[s_indices[0]]\n",
        "slab.append('Au')\n",
        "slab[-1].position = au_position\n",
        "\n",
        "z_mean = np.mean([atom.z for atom in slab if atom.symbol == 'Zr'])\n",
        "fixed_indices = [atom.index for atom in slab if atom.position[2] < z_mean]\n",
        "slab.set_constraint(FixAtoms(indices=fixed_indices))\n",
        "\n",
        "calc = GPAW(\n",
        "    mode=PW(400),\n",
        "    xc='PBE',\n",
        "    kpts={'size': (4, 4, 1), 'gamma': True},\n",
        "    txt='ZrTe2_Au_substitution.log'\n",
        ")\n",
        "slab.calc = calc\n",
        "\n",
        "\n",
        "write('ZrTe2_2x2_Au_substituted.cif', slab)"
      ],
      "metadata": {
        "id": "oWFheRrvMpUg"
      },
      "execution_count": 48,
      "outputs": []
    },
    {
      "cell_type": "markdown",
      "source": [
        "**Pt**"
      ],
      "metadata": {
        "id": "MOEej30LMqEu"
      }
    },
    {
      "cell_type": "code",
      "source": [
        "slab = mx2(formula='ZrTe2', kind='1T', a=a, thickness=c, vacuum=vacuum)\n",
        "slab = slab.repeat((2, 2, 1))\n",
        "slab.center(vacuum=vacuum, axis=2)\n",
        "\n",
        "\n",
        "s_indices = [i for i, atom in enumerate(slab) if atom.symbol == 'Te']\n",
        "au_position = slab[s_indices[0]].position\n",
        "\n",
        "del slab[s_indices[0]]\n",
        "slab.append('Pt')\n",
        "slab[-1].position = au_position\n",
        "\n",
        "z_mean = np.mean([atom.z for atom in slab if atom.symbol == 'Zr'])\n",
        "fixed_indices = [atom.index for atom in slab if atom.position[2] < z_mean]\n",
        "slab.set_constraint(FixAtoms(indices=fixed_indices))\n",
        "\n",
        "calc = GPAW(\n",
        "    mode=PW(400),\n",
        "    xc='PBE',\n",
        "    kpts={'size': (4, 4, 1), 'gamma': True},\n",
        "    txt='ZrTe2_Pt_substitution.log'\n",
        ")\n",
        "slab.calc = calc\n",
        "\n",
        "\n",
        "write('ZrTe2_2x2_Pt_substituted.cif', slab)"
      ],
      "metadata": {
        "id": "Jm9YQIFUMpYG"
      },
      "execution_count": 49,
      "outputs": []
    },
    {
      "cell_type": "markdown",
      "source": [
        "**Bi**"
      ],
      "metadata": {
        "id": "hJhgiR7YMqiO"
      }
    },
    {
      "cell_type": "code",
      "source": [
        "slab = mx2(formula='ZrTe2', kind='1T', a=a, thickness=c, vacuum=vacuum)\n",
        "slab = slab.repeat((2, 2, 1))\n",
        "slab.center(vacuum=vacuum, axis=2)\n",
        "\n",
        "\n",
        "s_indices = [i for i, atom in enumerate(slab) if atom.symbol == 'Te']\n",
        "au_position = slab[s_indices[0]].position\n",
        "\n",
        "del slab[s_indices[0]]\n",
        "slab.append('Bi')\n",
        "slab[-1].position = au_position\n",
        "\n",
        "z_mean = np.mean([atom.z for atom in slab if atom.symbol == 'Zr'])\n",
        "fixed_indices = [atom.index for atom in slab if atom.position[2] < z_mean]\n",
        "slab.set_constraint(FixAtoms(indices=fixed_indices))\n",
        "\n",
        "calc = GPAW(\n",
        "    mode=PW(400),\n",
        "    xc='PBE',\n",
        "    kpts={'size': (4, 4, 1), 'gamma': True},\n",
        "    txt='ZrTe2_Bi_substitution.log'\n",
        ")\n",
        "slab.calc = calc\n",
        "\n",
        "\n",
        "write('ZrTe2_2x2_Bi_substituted.cif', slab)"
      ],
      "metadata": {
        "id": "lVeoCeMlMpdJ"
      },
      "execution_count": 50,
      "outputs": []
    }
  ]
}